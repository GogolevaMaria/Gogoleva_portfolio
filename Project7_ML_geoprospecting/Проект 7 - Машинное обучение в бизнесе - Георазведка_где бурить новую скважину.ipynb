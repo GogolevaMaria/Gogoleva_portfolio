{
 "cells": [
  {
   "cell_type": "markdown",
   "metadata": {},
   "source": [
    "# Описание проекта"
   ]
  },
  {
   "cell_type": "markdown",
   "metadata": {},
   "source": [
    "Добывающей компании «ГлавРосГосНефть» нужно решить, где бурить новую скважину.\n",
    "\n",
    "Предоставлены пробы нефти в трёх регионах: в каждом 10 000 месторождений, где измерили качество нефти и объём её запасов. Необходимо построить модель машинного обучения, которая поможет определить регион, где добыча принесёт наибольшую прибыль. Проанализировать возможную прибыль и риски техникой *Bootstrap.*\n",
    "\n",
    "Шаги для выбора локации:\n",
    "\n",
    "- В избранном регионе ищут месторождения, для каждого определяют значения признаков;\n",
    "- Строят модель и оценивают объём запасов;\n",
    "- Выбирают месторождения с самым высокими оценками значений. Количество месторождений зависит от бюджета компании и стоимости разработки одной скважины;\n",
    "- Прибыль равна суммарной прибыли отобранных месторождений."
   ]
  },
  {
   "cell_type": "markdown",
   "metadata": {},
   "source": [
    "### Описание данных\n",
    "Данные геологоразведки трёх регионов находятся в файлах:\n",
    "- /datasets/geo_data_0.csv. Скачать датасет\n",
    "- /datasets/geo_data_1.csv. Скачать датасет\n",
    "- /datasets/geo_data_2.csv. Скачать датасет\n",
    "\n",
    " - id — уникальный идентификатор скважины;\n",
    " - f0, f1, f2 — три признака точек (неважно, что они означают, но сами признаки значимы);\n",
    " - product — объём запасов в скважине (тыс. баррелей).\n",
    "\n",
    "#### Условия задачи:\n",
    "\n",
    "Для обучения модели подходит только линейная регрессия (остальные — недостаточно предсказуемые).\n",
    "При разведке региона исследуют 500 точек, из которых с помощью машинного обучения выбирают 200 лучших для разработки.\n",
    "Бюджет на разработку скважин в регионе — 10 млрд рублей.\n",
    "При нынешних ценах один баррель сырья приносит 450 рублей дохода. Доход с каждой единицы продукта составляет 450 тыс. рублей, поскольку объём указан в тысячах баррелей.\n",
    "После оценки рисков нужно оставить лишь те регионы, в которых вероятность убытков меньше 2.5%. Среди них выбирают регион с наибольшей средней прибылью.\n",
    "Данные синтетические: детали контрактов и характеристики месторождений не разглашаются."
   ]
  },
  {
   "cell_type": "markdown",
   "metadata": {},
   "source": [
    "# 1. Загрузка и подготовка данных"
   ]
  },
  {
   "cell_type": "code",
   "execution_count": 34,
   "metadata": {},
   "outputs": [],
   "source": [
    "import pandas as pd\n",
    "import numpy as np\n",
    "from matplotlib import pyplot as plt\n",
    "from sklearn.ensemble import RandomForestRegressor\n",
    "from sklearn.ensemble import RandomForestClassifier \n",
    "from sklearn.model_selection import train_test_split\n",
    "from sklearn.metrics import mean_squared_error\n",
    "from sklearn.tree import DecisionTreeClassifier\n",
    "from sklearn.metrics import accuracy_score\n",
    "from sklearn.linear_model import LinearRegression\n",
    "from sklearn.metrics import f1_score \n",
    "from sklearn.preprocessing import StandardScaler \n",
    "from sklearn.metrics import confusion_matrix\n",
    "from sklearn.metrics import recall_score \n",
    "from sklearn.metrics import precision_score\n",
    "from sklearn.utils import shuffle\n",
    "from sklearn.metrics import precision_recall_curve\n",
    "from sklearn.metrics import roc_curve\n",
    "from sklearn.metrics import roc_auc_score \n",
    "from sklearn.linear_model import LinearRegression"
   ]
  },
  {
   "cell_type": "code",
   "execution_count": 35,
   "metadata": {},
   "outputs": [],
   "source": [
    "data_0 = pd.read_csv('/datasets/geo_data_0.csv')\n",
    "data_1 = pd.read_csv('/datasets/geo_data_1.csv')\n",
    "data_2 = pd.read_csv('/datasets/geo_data_2.csv')"
   ]
  },
  {
   "cell_type": "code",
   "execution_count": 36,
   "metadata": {},
   "outputs": [],
   "source": [
    "data_0 = data_0.drop(columns=['id'])\n",
    "data_1 = data_1.drop(columns=['id'])\n",
    "data_2 = data_2.drop(columns=['id'])"
   ]
  },
  {
   "cell_type": "code",
   "execution_count": 37,
   "metadata": {
    "scrolled": true
   },
   "outputs": [
    {
     "name": "stdout",
     "output_type": "stream",
     "text": [
      "<class 'pandas.core.frame.DataFrame'>\n",
      "RangeIndex: 100000 entries, 0 to 99999\n",
      "Data columns (total 4 columns):\n",
      "f0         100000 non-null float64\n",
      "f1         100000 non-null float64\n",
      "f2         100000 non-null float64\n",
      "product    100000 non-null float64\n",
      "dtypes: float64(4)\n",
      "memory usage: 3.1 MB\n"
     ]
    }
   ],
   "source": [
    "data_0.info()"
   ]
  },
  {
   "cell_type": "code",
   "execution_count": 38,
   "metadata": {},
   "outputs": [
    {
     "name": "stdout",
     "output_type": "stream",
     "text": [
      "<class 'pandas.core.frame.DataFrame'>\n",
      "RangeIndex: 100000 entries, 0 to 99999\n",
      "Data columns (total 4 columns):\n",
      "f0         100000 non-null float64\n",
      "f1         100000 non-null float64\n",
      "f2         100000 non-null float64\n",
      "product    100000 non-null float64\n",
      "dtypes: float64(4)\n",
      "memory usage: 3.1 MB\n"
     ]
    }
   ],
   "source": [
    "data_1.info()"
   ]
  },
  {
   "cell_type": "code",
   "execution_count": 39,
   "metadata": {},
   "outputs": [
    {
     "name": "stdout",
     "output_type": "stream",
     "text": [
      "<class 'pandas.core.frame.DataFrame'>\n",
      "RangeIndex: 100000 entries, 0 to 99999\n",
      "Data columns (total 4 columns):\n",
      "f0         100000 non-null float64\n",
      "f1         100000 non-null float64\n",
      "f2         100000 non-null float64\n",
      "product    100000 non-null float64\n",
      "dtypes: float64(4)\n",
      "memory usage: 3.1 MB\n"
     ]
    }
   ],
   "source": [
    "data_2.info()"
   ]
  },
  {
   "cell_type": "markdown",
   "metadata": {},
   "source": [
    "### data_0"
   ]
  },
  {
   "cell_type": "code",
   "execution_count": 40,
   "metadata": {},
   "outputs": [],
   "source": [
    "#Разобью данные на выборки\n",
    "\n",
    "data_0_train, data_0_valid = train_test_split(data_0, test_size=0.25, random_state=12345) \n",
    "\n",
    "features_train_0 = data_0_train.drop(['product'], axis=1)\n",
    "target_train_0 = data_0_train['product']\n",
    "features_valid_0 = data_0_valid.drop(['product'], axis=1)\n",
    "target_valid_0 = data_0_valid['product'] "
   ]
  },
  {
   "cell_type": "code",
   "execution_count": 41,
   "metadata": {},
   "outputs": [],
   "source": [
    "data_0_train, data_0_test = train_test_split(data_0_train, test_size=0.25, random_state=12345) \n",
    "\n",
    "features_train_0 = data_0_train.drop(['product'], axis=1)\n",
    "target_train_0 = data_0_train['product']\n",
    "features_test_0 = data_0_test.drop(['product'], axis=1)\n",
    "target_test_0 = data_0_test['product'] "
   ]
  },
  {
   "cell_type": "markdown",
   "metadata": {},
   "source": [
    "### data_1"
   ]
  },
  {
   "cell_type": "code",
   "execution_count": 42,
   "metadata": {},
   "outputs": [],
   "source": [
    "#Разобью данные на выборки\n",
    "\n",
    "data_1_train, data_1_valid = train_test_split(data_1, test_size=0.25, random_state=12345) \n",
    "\n",
    "features_train_1 = data_1_train.drop(['product'], axis=1)\n",
    "target_train_1 = data_1_train['product']\n",
    "features_valid_1 = data_1_valid.drop(['product'], axis=1)\n",
    "target_valid_1 = data_1_valid['product'] "
   ]
  },
  {
   "cell_type": "code",
   "execution_count": 43,
   "metadata": {},
   "outputs": [],
   "source": [
    "data_1_train, data_1_test = train_test_split(data_1_train, test_size=0.25, random_state=12345) \n",
    "\n",
    "features_train_1 = data_1_train.drop(['product'], axis=1)\n",
    "target_train_1 = data_1_train['product']\n",
    "features_test_1 = data_1_test.drop(['product'], axis=1)\n",
    "target_test_1 = data_1_test['product'] "
   ]
  },
  {
   "cell_type": "markdown",
   "metadata": {},
   "source": [
    "### data_2"
   ]
  },
  {
   "cell_type": "code",
   "execution_count": 44,
   "metadata": {},
   "outputs": [],
   "source": [
    "#Разобью данные на выборки\n",
    "\n",
    "data_2_train, data_2_valid = train_test_split(data_2, test_size=0.25, random_state=12345) \n",
    "\n",
    "features_train_2 = data_2_train.drop(['product'], axis=1)\n",
    "target_train_2 = data_2_train['product']\n",
    "features_valid_2 = data_2_valid.drop(['product'], axis=1)\n",
    "target_valid_2 = data_2_valid['product'] "
   ]
  },
  {
   "cell_type": "code",
   "execution_count": 45,
   "metadata": {},
   "outputs": [],
   "source": [
    "data_2_train, data_2_test = train_test_split(data_2_train, test_size=0.25, random_state=12345) \n",
    "\n",
    "features_train_2 = data_2_train.drop(['product'], axis=1)\n",
    "target_train_2 = data_2_train['product']\n",
    "features_test_2 = data_2_test.drop(['product'], axis=1)\n",
    "target_test_2 = data_2_test['product'] "
   ]
  },
  {
   "cell_type": "markdown",
   "metadata": {},
   "source": [
    "# 2. Обучение и проверка модели"
   ]
  },
  {
   "cell_type": "markdown",
   "metadata": {},
   "source": [
    "### Линейная регрессия"
   ]
  },
  {
   "cell_type": "markdown",
   "metadata": {},
   "source": [
    "### data_0"
   ]
  },
  {
   "cell_type": "code",
   "execution_count": 46,
   "metadata": {
    "scrolled": true
   },
   "outputs": [
    {
     "name": "stdout",
     "output_type": "stream",
     "text": [
      "Средний объем предсказанного сырья: 92.61499479823341\n",
      "Корень из средней квадратичной ошибки (RMSE модели): 37.57859599560352\n"
     ]
    }
   ],
   "source": [
    "LR_model_0 = LinearRegression()  \n",
    "LR_model_0.fit(features_train_0, target_train_0) \n",
    "LR_predictions_valid_0 = LR_model_0.predict(features_valid_0) \n",
    "LR_result_0 = mean_squared_error(target_valid_0, LR_predictions_valid_0) ** 0.5 \n",
    "print(\"Средний объем предсказанного сырья:\", LR_predictions_valid_0.mean())\n",
    "print(\"Корень из средней квадратичной ошибки (RMSE модели):\", LR_result_0)"
   ]
  },
  {
   "cell_type": "code",
   "execution_count": 47,
   "metadata": {},
   "outputs": [
    {
     "data": {
      "text/plain": [
       "155.47027002106339"
      ]
     },
     "execution_count": 47,
     "metadata": {},
     "output_type": "execute_result"
    }
   ],
   "source": [
    "LR_PV_200_0 = pd.Series(LR_predictions_valid_0).sort_values(ascending = False)[:200]\n",
    "LR_PV_200_0.mean()"
   ]
  },
  {
   "cell_type": "code",
   "execution_count": 48,
   "metadata": {},
   "outputs": [
    {
     "data": {
      "text/plain": [
       "92.61499479823341"
      ]
     },
     "execution_count": 48,
     "metadata": {},
     "output_type": "execute_result"
    }
   ],
   "source": [
    "#Средний объем предсказанного сырья\n",
    "LR_predictions_valid_0.mean()"
   ]
  },
  {
   "cell_type": "markdown",
   "metadata": {},
   "source": [
    "##### Проверка модели на тестовых данных"
   ]
  },
  {
   "cell_type": "code",
   "execution_count": 49,
   "metadata": {},
   "outputs": [
    {
     "name": "stdout",
     "output_type": "stream",
     "text": [
      "корень из средней квадратичной ошибки на тестовой выборке: 37.68390293181179\n"
     ]
    }
   ],
   "source": [
    "LR_result_test_0 = 0\n",
    "LR_predictions_test_0 = LR_model_0.predict(features_test_0) \n",
    "LR_result_test_0 = mean_squared_error(target_test_0, LR_predictions_test_0) ** 0.5  \n",
    " \n",
    "print(\"корень из средней квадратичной ошибки на тестовой выборке:\", LR_result_test_0)"
   ]
  },
  {
   "cell_type": "markdown",
   "metadata": {},
   "source": [
    "### data_1"
   ]
  },
  {
   "cell_type": "code",
   "execution_count": 50,
   "metadata": {},
   "outputs": [
    {
     "name": "stdout",
     "output_type": "stream",
     "text": [
      "Средний объем предсказанного сырья: 68.7300334175629\n",
      "Корень из средней квадратичной ошибки (RMSE модели): 0.8931406544992097\n"
     ]
    }
   ],
   "source": [
    "LR_model_1 = LinearRegression()  \n",
    "LR_model_1.fit(features_train_1, target_train_1)\n",
    "\n",
    "LR_predictions_valid_1 = LR_model_1.predict(features_valid_1) \n",
    "LR_result_1 = mean_squared_error(target_valid_1, LR_predictions_valid_1) ** 0.5 \n",
    "print(\"Средний объем предсказанного сырья:\", LR_predictions_valid_1.mean())\n",
    "print(\"Корень из средней квадратичной ошибки (RMSE модели):\", LR_result_1)"
   ]
  },
  {
   "cell_type": "code",
   "execution_count": 51,
   "metadata": {},
   "outputs": [
    {
     "data": {
      "text/plain": [
       "138.72593529547873"
      ]
     },
     "execution_count": 51,
     "metadata": {},
     "output_type": "execute_result"
    }
   ],
   "source": [
    "LR_PV_200_1 = pd.Series(LR_predictions_valid_1).sort_values(ascending = False)[:200]\n",
    "LR_PV_200_1.mean()"
   ]
  },
  {
   "cell_type": "code",
   "execution_count": 52,
   "metadata": {},
   "outputs": [
    {
     "data": {
      "text/plain": [
       "68.7300334175629"
      ]
     },
     "execution_count": 52,
     "metadata": {},
     "output_type": "execute_result"
    }
   ],
   "source": [
    "#Средний объем предсказанного сырья\n",
    "LR_predictions_valid_1.mean()"
   ]
  },
  {
   "cell_type": "markdown",
   "metadata": {},
   "source": [
    "##### Проверка модели на тестовых данных"
   ]
  },
  {
   "cell_type": "code",
   "execution_count": 53,
   "metadata": {},
   "outputs": [
    {
     "name": "stdout",
     "output_type": "stream",
     "text": [
      "Корень из средней квадратичной ошибки на тестовой выборке: 0.8902570674784577\n"
     ]
    }
   ],
   "source": [
    "LR_result_test_1 = 0\n",
    "#LR_predictions_test_1 = LR_model_0.predict(features_test_1) \n",
    "LR_predictions_test_1 = LR_model_1.predict(features_test_1) \n",
    "LR_result_test_1 = mean_squared_error(target_test_1, LR_predictions_test_1) ** 0.5  \n",
    " \n",
    "print(\"Корень из средней квадратичной ошибки на тестовой выборке:\", LR_result_test_1)"
   ]
  },
  {
   "cell_type": "markdown",
   "metadata": {},
   "source": [
    "### data_2"
   ]
  },
  {
   "cell_type": "code",
   "execution_count": 54,
   "metadata": {},
   "outputs": [
    {
     "name": "stdout",
     "output_type": "stream",
     "text": [
      "Средний объем предсказанного сырья: 94.92374279594554\n",
      "Корень из средней квадратичной ошибки (RMSE модели): 40.02977029780437\n"
     ]
    }
   ],
   "source": [
    "LR_model_2 = LinearRegression()  \n",
    "LR_model_2.fit(features_train_2, target_train_2)\n",
    "LR_predictions_valid_2 = LR_model_2.predict(features_valid_2) \n",
    "LR_result_2 = mean_squared_error(target_valid_2, LR_predictions_valid_2) ** 0.5 \n",
    "print(\"Средний объем предсказанного сырья:\", LR_predictions_valid_2.mean())\n",
    "print(\"Корень из средней квадратичной ошибки (RMSE модели):\", LR_result_2)"
   ]
  },
  {
   "cell_type": "code",
   "execution_count": 55,
   "metadata": {},
   "outputs": [
    {
     "data": {
      "text/plain": [
       "147.94634930170713"
      ]
     },
     "execution_count": 55,
     "metadata": {},
     "output_type": "execute_result"
    }
   ],
   "source": [
    "LR_PV_200_2 = pd.Series(LR_predictions_valid_2).sort_values(ascending = False)[:200]\n",
    "LR_PV_200_2.mean()"
   ]
  },
  {
   "cell_type": "code",
   "execution_count": 56,
   "metadata": {},
   "outputs": [
    {
     "data": {
      "text/plain": [
       "94.92374279594554"
      ]
     },
     "execution_count": 56,
     "metadata": {},
     "output_type": "execute_result"
    }
   ],
   "source": [
    "#Средний объем предсказанного сырья\n",
    "LR_predictions_valid_2.mean()"
   ]
  },
  {
   "cell_type": "markdown",
   "metadata": {},
   "source": [
    "##### Проверка модели на тестовых данных"
   ]
  },
  {
   "cell_type": "code",
   "execution_count": 57,
   "metadata": {},
   "outputs": [
    {
     "name": "stdout",
     "output_type": "stream",
     "text": [
      "корень из средней квадратичной ошибки на тестовой выборке: 39.806818380368185\n"
     ]
    }
   ],
   "source": [
    "LR_result_test_2 = 0\n",
    "LR_predictions_test_2 = LR_model_2.predict(features_test_2) \n",
    "LR_result_test_2 = mean_squared_error(target_test_2, LR_predictions_test_2) ** 0.5  \n",
    " \n",
    "print(\"корень из средней квадратичной ошибки на тестовой выборке:\", LR_result_test_2)"
   ]
  },
  {
   "cell_type": "markdown",
   "metadata": {},
   "source": [
    "# 3. Подготовка к расчёту прибыли"
   ]
  },
  {
   "cell_type": "markdown",
   "metadata": {},
   "source": [
    "Рассчитаю достаточный объём сырья для безубыточной разработки новой скважины. \n",
    "\n",
    "Сравню полученный объём сырья со средним запасом в каждом регионе."
   ]
  },
  {
   "cell_type": "code",
   "execution_count": 58,
   "metadata": {},
   "outputs": [],
   "source": [
    "budget = 10e9"
   ]
  },
  {
   "cell_type": "code",
   "execution_count": 59,
   "metadata": {},
   "outputs": [],
   "source": [
    "income = 450e3"
   ]
  },
  {
   "cell_type": "code",
   "execution_count": 60,
   "metadata": {},
   "outputs": [],
   "source": [
    "well_count = 200"
   ]
  },
  {
   "cell_type": "code",
   "execution_count": 61,
   "metadata": {},
   "outputs": [
    {
     "data": {
      "text/plain": [
       "111.11111111111111"
      ]
     },
     "execution_count": 61,
     "metadata": {},
     "output_type": "execute_result"
    }
   ],
   "source": [
    "V = budget/income/well_count\n",
    "V"
   ]
  },
  {
   "cell_type": "markdown",
   "metadata": {},
   "source": [
    "##### Вывод: \n",
    "\n",
    "достаточный объем сырья для безубыточной разработки новой скважины составляет 111 тыс.баррелей. \n",
    "\n",
    "При этом средний объем запасов в каждом регионе составляет примерно 93, <font color='blue'> 69 </font>  и 95 тыс. баррелей соответственно. "
   ]
  },
  {
   "cell_type": "markdown",
   "metadata": {},
   "source": [
    "# 4. Расчёт прибыли и рисков "
   ]
  },
  {
   "cell_type": "markdown",
   "metadata": {},
   "source": [
    "#### Функция расчета прибыли"
   ]
  },
  {
   "cell_type": "code",
   "execution_count": 62,
   "metadata": {},
   "outputs": [],
   "source": [
    "def profit(target_valid,pred_valid, n):\n",
    "    predictions_valid_sorted = pd.Series(pred_valid).sort_values(ascending=False)\n",
    "    target_valid_selected = target_valid[predictions_valid_sorted.index][:n]#.reset_index(drop=True)[:n]\n",
    "    result = target_valid_selected.sum() * income - budget\n",
    "    return result"
   ]
  },
  {
   "cell_type": "markdown",
   "metadata": {},
   "source": [
    "### data_0"
   ]
  },
  {
   "cell_type": "code",
   "execution_count": 63,
   "metadata": {
    "scrolled": true
   },
   "outputs": [
    {
     "name": "stdout",
     "output_type": "stream",
     "text": [
      "-- Регион 0 --\n",
      "Средняя прибыль = 426488926.63111013\n",
      "95%-ый доверительный интервал: (-98964117.1754137, 947862568.0466598)\n",
      "Риск убытков = (5.8999999999999995, '%')\n",
      "\n"
     ]
    }
   ],
   "source": [
    "target_0 = target_valid_0.reset_index(drop=True)\n",
    "predictions_0 = pd.Series(LR_predictions_valid_0)\n",
    "\n",
    "BOOTSTRAP_S =1000\n",
    "SAMPLE_S =500\n",
    "\n",
    "state = np.random.RandomState(12345)\n",
    "\n",
    "profit_values_0 = []\n",
    "for i in range(BOOTSTRAP_S):\n",
    "    t_sample_0 = target_0.sample(SAMPLE_S, replace=True, random_state=state)\n",
    "    pred_sample_0 = predictions_0[t_sample_0.index]\n",
    "    profit_values_0.append(profit(t_sample_0, pred_sample_0,200))\n",
    "profit_values_0 = pd.Series(profit_values_0)\n",
    "\n",
    "mean_profit_0 = profit_values_0.mean()\n",
    "confidence_interval = (profit_values_0.quantile(0.025), profit_values_0.quantile(0.975))\n",
    "risk = ((profit_values_0 < 0).mean()* 100, \"%\")\n",
    "\n",
    "print(\"-- Регион\", 0, \"--\")\n",
    "print(\"Средняя прибыль =\", mean_profit_0)\n",
    "print(\"95%-ый доверительный интервал:\", confidence_interval)\n",
    "print(\"Риск убытков =\", risk)\n",
    "print()"
   ]
  },
  {
   "cell_type": "markdown",
   "metadata": {},
   "source": [
    "### data_1"
   ]
  },
  {
   "cell_type": "code",
   "execution_count": 64,
   "metadata": {},
   "outputs": [
    {
     "name": "stdout",
     "output_type": "stream",
     "text": [
      "-- Регион 1 --\n",
      "Средняя прибыль 515222773.44328994\n",
      "95%-ый доверительный интервал: (68873225.37050177, 931547591.2570496)\n",
      "Риск убытков = (1.0, '%')\n",
      "\n"
     ]
    }
   ],
   "source": [
    "target_1 = target_valid_1.reset_index(drop=True)\n",
    "predictions_1 = pd.Series(LR_predictions_valid_1)\n",
    "\n",
    "BOOTSTRAP_S =1000\n",
    "SAMPLE_S =500\n",
    "\n",
    "state = np.random.RandomState(12345)\n",
    "\n",
    "profit_values_1 = []\n",
    "for i in range(BOOTSTRAP_S):\n",
    "    t_sample_1 = target_1.sample(SAMPLE_S, replace=True, random_state=state)\n",
    "    pred_sample_1 = predictions_1[t_sample_1.index]\n",
    "    profit_values_1.append(profit(t_sample_1, pred_sample_1,200))\n",
    "profit_values_1 = pd.Series(profit_values_1)\n",
    "\n",
    "mean_profit_1 = profit_values_1.mean()\n",
    "confidence_interval = (profit_values_1.quantile(0.025), profit_values_1.quantile(0.975))\n",
    "risk = ((profit_values_1 < 0).mean()* 100, \"%\")\n",
    "\n",
    "print(\"-- Регион\", 1, \"--\")\n",
    "print(\"Средняя прибыль\", mean_profit_1)\n",
    "print(\"95%-ый доверительный интервал:\", confidence_interval)\n",
    "print(\"Риск убытков =\", risk)\n",
    "print()"
   ]
  },
  {
   "cell_type": "markdown",
   "metadata": {},
   "source": [
    "### data_2"
   ]
  },
  {
   "cell_type": "code",
   "execution_count": 65,
   "metadata": {},
   "outputs": [
    {
     "name": "stdout",
     "output_type": "stream",
     "text": [
      "-- Регион 2 --\n",
      "Средняя прибыль = 434867327.85413647\n",
      "95%-ый доверительный интервал: (-125290536.41879854, 970873077.760011)\n",
      "Риск убытков = (6.4, '%')\n",
      "\n"
     ]
    }
   ],
   "source": [
    "target_2 = target_valid_2.reset_index(drop=True)\n",
    "predictions_2 = pd.Series(LR_predictions_valid_2)\n",
    "\n",
    "BOOTSTRAP_S =1000\n",
    "SAMPLE_S =500\n",
    "\n",
    "state = np.random.RandomState(12345)\n",
    "\n",
    "profit_values_2 = []\n",
    "for i in range(BOOTSTRAP_S):\n",
    "    t_sample_2 = target_2.sample(SAMPLE_S, replace=True, random_state=state)\n",
    "    pred_sample_2 = predictions_2[t_sample_2.index]\n",
    "    profit_values_2.append(profit(t_sample_2, pred_sample_2,200))\n",
    "profit_values_2 = pd.Series(profit_values_2)\n",
    "\n",
    "mean_profit_2 = profit_values_2.mean()\n",
    "confidence_interval = (profit_values_2.quantile(0.025), profit_values_2.quantile(0.975))\n",
    "risk = ((profit_values_2 < 0).mean()* 100, \"%\")\n",
    "\n",
    "print(\"-- Регион\", 2, \"--\")\n",
    "print(\"Средняя прибыль =\", mean_profit_2)\n",
    "print(\"95%-ый доверительный интервал:\", confidence_interval)\n",
    "print(\"Риск убытков =\", risk)\n",
    "print()"
   ]
  },
  {
   "cell_type": "code",
   "execution_count": 66,
   "metadata": {
    "scrolled": false
   },
   "outputs": [
    {
     "data": {
      "image/png": "[encoded data removed]",
      "text/plain": [
       "<Figure size 432x288 with 1 Axes>"
      ]
     },
     "metadata": {
      "needs_background": "light"
     },
     "output_type": "display_data"
    }
   ],
   "source": [
    "data = np.array([\n",
    "    [0, mean_profit_0],\n",
    "    [1, mean_profit_1],\n",
    "    [2, mean_profit_2],\n",
    "])\n",
    "x, y = data.T\n",
    "plt.scatter(x,y)\n",
    "plt.show()"
   ]
  },
  {
   "cell_type": "markdown",
   "metadata": {},
   "source": [
    "##### Вывод: \n",
    "\n",
    "Для разработки месторождений следует выбрать регион_1, так как у него наибльшая средняя рассчитанная прибыль (515 млрд. руб.) и наименьшие риски убытков(1%).  "
   ]
  }
 ],
 "metadata": {
  "kernelspec": {
   "display_name": "Python 3 (ipykernel)",
   "language": "python",
   "name": "python3"
  },
  "language_info": {
   "codemirror_mode": {
    "name": "ipython",
    "version": 3
   },
   "file_extension": ".py",
   "mimetype": "text/x-python",
   "name": "python",
   "nbconvert_exporter": "python",
   "pygments_lexer": "ipython3",
   "version": "3.10.9"
  },
  "toc": {
   "base_numbering": 1,
   "nav_menu": {},
   "number_sections": true,
   "sideBar": true,
   "skip_h1_title": false,
   "title_cell": "Table of Contents",
   "title_sidebar": "Contents",
   "toc_cell": false,
   "toc_position": {},
   "toc_section_display": true,
   "toc_window_display": false
  }
 },
 "nbformat": 4,
 "nbformat_minor": 2
}
