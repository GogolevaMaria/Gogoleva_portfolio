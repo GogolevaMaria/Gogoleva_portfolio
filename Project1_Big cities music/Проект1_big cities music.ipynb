{
 "cells": [
  {
   "cell_type": "markdown",
   "metadata": {},
   "source": [
    "## Исследование: Музыка больших городов\n",
    "Яндекс.Музыка — это крупный продукт с огромным запасом данных для исследований. Задача проекта: выяснить, как музыка, которая звучит по дороге на работу в понедельник утром, отличается от той, что играет в среду или в конце рабочей недели? Используются данные для Москвы и Петербурга. <br> Сравнить, что и в каком режиме слушают их жители.<br>"
   ]
  },
  {
   "cell_type": "markdown",
   "metadata": {
    "colab_type": "text",
    "deletable": false,
    "id": "5UYxO1GdF6Wy",
    "tags": [
     "f6c88c58-a82b-4f28-8bd6-fd55c0017917"
    ]
   },
   "source": [
    "# Шаг 1. Получение данных"
   ]
  },
  {
   "cell_type": "markdown",
   "metadata": {
    "colab_type": "text",
    "deletable": false,
    "id": "iI4ITclJaFWh"
   },
   "source": [
    "Изучу данные."
   ]
  },
  {
   "cell_type": "markdown",
   "metadata": {
    "colab_type": "text",
    "deletable": false,
    "id": "0skiEFxDZ0Tr"
   },
   "source": [
    "## Импорт библиотек"
   ]
  },
  {
   "cell_type": "code",
   "execution_count": 100,
   "metadata": {
    "colab": {},
    "colab_type": "code",
    "deletable": false,
    "id": "HirRov5vZ3MT"
   },
   "outputs": [],
   "source": [
    "import pandas as pd "
   ]
  },
  {
   "cell_type": "markdown",
   "metadata": {
    "colab_type": "text",
    "deletable": false,
    "id": "Tr8dl3PWGFIk"
   },
   "source": [
    "Прочитаю файл *music_project.csv* и сохраню его в переменной *df*. "
   ]
  },
  {
   "cell_type": "code",
   "execution_count": 101,
   "metadata": {
    "colab": {},
    "colab_type": "code",
    "deletable": false,
    "id": "NB6j931yS4hy"
   },
   "outputs": [],
   "source": [
    "df = pd.read_csv('/datasets/music_project.csv')"
   ]
  },
  {
   "cell_type": "markdown",
   "metadata": {
    "colab_type": "text",
    "deletable": false,
    "id": "y2usmNMlDLbY",
    "tags": [
     "f3a2f13f-d110-4558-a520-4805b5bd1dfe"
    ]
   },
   "source": [
    "Получу первые 10 строк таблицы."
   ]
  },
  {
   "cell_type": "code",
   "execution_count": 102,
   "metadata": {
    "colab": {},
    "colab_type": "code",
    "deletable": false,
    "id": "DY5i8tgXVDGj"
   },
   "outputs": [
    {
     "name": "stdout",
     "output_type": "stream",
     "text": [
      "     userID                        Track            artist   genre  \\\n",
      "0  FFB692EC            Kamigata To Boots  The Mass Missile    rock   \n",
      "1  55204538  Delayed Because of Accident  Andreas Rönnberg    rock   \n",
      "2    20EC38            Funiculì funiculà       Mario Lanza     pop   \n",
      "3  A3DD03C9        Dragons in the Sunset        Fire + Ice    folk   \n",
      "4  E2DC1FAE                  Soul People        Space Echo   dance   \n",
      "5  842029A1                    Преданная         IMPERVTOR  rusrap   \n",
      "6  4CB90AA5                         True      Roman Messer   dance   \n",
      "7  F03E1C1F             Feeling This Way   Polina Griffith   dance   \n",
      "8  8FA1D3BE     И вновь продолжается бой               NaN  ruspop   \n",
      "9  E772D5C0                    Pessimist               NaN   dance   \n",
      "\n",
      "             City        time        Day  \n",
      "0  Saint-Petersburg  20:28:33  Wednesday  \n",
      "1            Moscow  14:07:09     Friday  \n",
      "2  Saint-Petersburg  20:58:07  Wednesday  \n",
      "3  Saint-Petersburg  08:37:09     Monday  \n",
      "4            Moscow  08:34:34     Monday  \n",
      "5  Saint-Petersburg  13:09:41     Friday  \n",
      "6            Moscow  13:00:07  Wednesday  \n",
      "7            Moscow  20:47:49  Wednesday  \n",
      "8            Moscow  09:17:40     Friday  \n",
      "9  Saint-Petersburg  21:20:49  Wednesday  \n"
     ]
    }
   ],
   "source": [
    "print(df.head(10)) "
   ]
  },
  {
   "cell_type": "markdown",
   "metadata": {
    "colab_type": "text",
    "deletable": false,
    "id": "FrIiRHuHIBbN",
    "tags": [
     "0210c096-9595-4600-b91d-42ab36a6c3f0"
    ]
   },
   "source": [
    "Общая информация о данных таблицы *df*.\n",
    "\n",
    "\n"
   ]
  },
  {
   "cell_type": "code",
   "execution_count": 103,
   "metadata": {
    "colab": {},
    "colab_type": "code",
    "deletable": false,
    "id": "K7t8OdZsYN2y"
   },
   "outputs": [
    {
     "name": "stdout",
     "output_type": "stream",
     "text": [
      "<class 'pandas.core.frame.DataFrame'>\n",
      "RangeIndex: 65079 entries, 0 to 65078\n",
      "Data columns (total 7 columns):\n",
      " #   Column    Non-Null Count  Dtype \n",
      "---  ------    --------------  ----- \n",
      " 0     userID  65079 non-null  object\n",
      " 1   Track     63848 non-null  object\n",
      " 2   artist    57876 non-null  object\n",
      " 3   genre     63881 non-null  object\n",
      " 4     City    65079 non-null  object\n",
      " 5   time      65079 non-null  object\n",
      " 6   Day       65079 non-null  object\n",
      "dtypes: object(7)\n",
      "memory usage: 3.5+ MB\n"
     ]
    }
   ],
   "source": [
    "df.info() "
   ]
  },
  {
   "cell_type": "markdown",
   "metadata": {
    "colab_type": "text",
    "deletable": false,
    "id": "CnHv9HZCc7LN"
   },
   "source": [
    "Рассмотрю полученную информацию подробнее.\n",
    "\n",
    "Всего в таблице 7 столбцов.\n",
    "\n",
    "Подробно разберу, какие в *df* столбцы и какую информацию они содержат:\n",
    "\n",
    "* userID — идентификатор пользователя;\n",
    "* Track — название трека;  \n",
    "* artist — имя исполнителя;\n",
    "* genre — название жанра;\n",
    "* City — город, в котором происходило прослушивание;\n",
    "* time — время, в которое пользователь слушал трек;\n",
    "* Day — день недели.\n",
    "\n",
    "Количество значений в столбцах различается. Это говорит о том, что в данных есть пропущенные значения.\n",
    "\n"
   ]
  },
  {
   "cell_type": "markdown",
   "metadata": {
    "colab_type": "text",
    "deletable": false,
    "id": "DCYFm5VrevuB"
   },
   "source": [
    "**Выводы**"
   ]
  },
  {
   "cell_type": "markdown",
   "metadata": {
    "colab_type": "text",
    "deletable": false,
    "id": "PCEtjdmvezRm"
   },
   "source": [
    "Каждая строка таблицы содержит информацию о композициях определённого жанра в определённом исполнении, которые пользователи слушали в одном из городов в определённое время и день недели. <br> Две проблемы, которые нужно решать: пропуски и некачественные названия столбцов. Для проверки рабочих гипотез особенно ценны столбцы *time*, *day* и *City*. Данные из столбца *genre* позволят узнать самые популярные жанры."
   ]
  },
  {
   "cell_type": "markdown",
   "metadata": {
    "colab_type": "text",
    "deletable": false,
    "id": "ZYaC0bU-IZ0a",
    "tags": [
     "2c946931-9c91-4e15-baf8-43fb79bcb454"
    ]
   },
   "source": [
    "# Шаг 2. Предобработка данных"
   ]
  },
  {
   "cell_type": "markdown",
   "metadata": {
    "colab_type": "text",
    "deletable": false,
    "id": "Dl8grmTrPxZi"
   },
   "source": [
    "Уберу пропуски, переименую столбцы, а также проверю данные на наличие дубликатов."
   ]
  },
  {
   "cell_type": "markdown",
   "metadata": {
    "colab_type": "text",
    "deletable": false,
    "id": "6OIhlsG_IjI8"
   },
   "source": [
    "Перечень названий столбцов:"
   ]
  },
  {
   "cell_type": "code",
   "execution_count": 104,
   "metadata": {
    "colab": {},
    "colab_type": "code",
    "deletable": false,
    "id": "Tag65F_Uitsx"
   },
   "outputs": [
    {
     "name": "stdout",
     "output_type": "stream",
     "text": [
      "Index(['  userID', 'Track', 'artist', 'genre', '  City  ', 'time', 'Day'], dtype='object')\n"
     ]
    }
   ],
   "source": [
    "print(df.columns) "
   ]
  },
  {
   "cell_type": "markdown",
   "metadata": {
    "colab_type": "text",
    "deletable": false,
    "id": "x6iJC-cEhnRL"
   },
   "source": [
    "В названиях столбцов есть пробелы, которые могут затруднять доступ к данным."
   ]
  },
  {
   "cell_type": "markdown",
   "metadata": {
    "colab_type": "text",
    "deletable": false,
    "id": "BK6m6-DZhlTs",
    "tags": [
     "c2b469cf-2148-4115-8806-0fbb00a9d55d"
    ]
   },
   "source": [
    "Переименую столбцы для удобства дальнейшей работы. Проверю результат.\n",
    "\n"
   ]
  },
  {
   "cell_type": "code",
   "execution_count": 105,
   "metadata": {
    "colab": {},
    "colab_type": "code",
    "deletable": false,
    "id": "XintVfCniw2-"
   },
   "outputs": [],
   "source": [
    "new_names = ['user_id','track_name','artist_name','genre_name','city', 'time', 'weekday']\n",
    "df.set_axis(new_names, axis = 'columns', inplace = True) "
   ]
  },
  {
   "cell_type": "code",
   "execution_count": 106,
   "metadata": {
    "colab": {},
    "colab_type": "code",
    "deletable": false,
    "id": "ozQL91G4izdp"
   },
   "outputs": [
    {
     "name": "stdout",
     "output_type": "stream",
     "text": [
      "Index(['user_id', 'track_name', 'artist_name', 'genre_name', 'city', 'time',\n",
      "       'weekday'],\n",
      "      dtype='object')\n"
     ]
    }
   ],
   "source": [
    "print(df.columns) "
   ]
  },
  {
   "cell_type": "markdown",
   "metadata": {
    "colab_type": "text",
    "deletable": false,
    "id": "oc2qS2UBIkQu",
    "tags": [
     "325fae3b-abce-4c7c-8c41-87ed8a26ff5d"
    ]
   },
   "source": [
    "Проверю данные на наличие пропусков вызовом набора методов для суммирования пропущенных значений."
   ]
  },
  {
   "cell_type": "code",
   "execution_count": 107,
   "metadata": {
    "colab": {},
    "colab_type": "code",
    "deletable": false,
    "id": "BZh9yLHhjy_R"
   },
   "outputs": [
    {
     "name": "stdout",
     "output_type": "stream",
     "text": [
      "user_id           0\n",
      "track_name     1231\n",
      "artist_name    7203\n",
      "genre_name     1198\n",
      "city              0\n",
      "time              0\n",
      "weekday           0\n",
      "dtype: int64\n"
     ]
    }
   ],
   "source": [
    "df.isnull()\n",
    "print(df.isnull().sum())"
   ]
  },
  {
   "cell_type": "markdown",
   "metadata": {
    "colab_type": "text",
    "deletable": false,
    "id": "OJXGaa02tSJJ"
   },
   "source": [
    "Пустые значения свидетельствуют, что для некоторых треков доступна не вся информация. Причины могут быть разные: скажем,  не назван конкретный исполнитель народной песни. Хуже, если проблемы с записью данных. Каждый отдельный случай необходимо разобрать и выявить причину."
   ]
  },
  {
   "cell_type": "markdown",
   "metadata": {
    "colab_type": "text",
    "deletable": false,
    "id": "-fBDAWZUkAg-"
   },
   "source": [
    "Заменяю пропущенные значения в столбцах с названием трека и исполнителя на строку 'unknown'. После этой операции нужно убедиться, что таблица больше не содержит пропусков."
   ]
  },
  {
   "cell_type": "code",
   "execution_count": 108,
   "metadata": {
    "colab": {},
    "colab_type": "code",
    "deletable": false,
    "id": "EO8zFcJPlbvV"
   },
   "outputs": [],
   "source": [
    "df['track_name'] = df['track_name'].fillna('unknown') "
   ]
  },
  {
   "cell_type": "code",
   "execution_count": 109,
   "metadata": {
    "colab": {},
    "colab_type": "code",
    "deletable": false,
    "id": "3hsNZcLST0UW"
   },
   "outputs": [],
   "source": [
    "df['artist_name'] = df['artist_name'].fillna('unknown') "
   ]
  },
  {
   "cell_type": "code",
   "execution_count": 110,
   "metadata": {
    "colab": {},
    "colab_type": "code",
    "deletable": false,
    "id": "Ua-Z8TAblgzC"
   },
   "outputs": [
    {
     "name": "stdout",
     "output_type": "stream",
     "text": [
      "user_id           0\n",
      "track_name        0\n",
      "artist_name       0\n",
      "genre_name     1198\n",
      "city              0\n",
      "time              0\n",
      "weekday           0\n",
      "dtype: int64\n"
     ]
    }
   ],
   "source": [
    "df.isnull()\n",
    "print(df.isnull().sum()) "
   ]
  },
  {
   "cell_type": "markdown",
   "metadata": {
    "colab_type": "text",
    "deletable": false,
    "id": "-cjfT0w2ln9C",
    "tags": [
     "9cb28dd4-e24e-4490-aebd-b37ba9e492c5"
    ]
   },
   "source": [
    "Удаляю в столбце с жанрами пустые значения; убеждаюсь, что их больше не осталось:"
   ]
  },
  {
   "cell_type": "code",
   "execution_count": 111,
   "metadata": {
    "colab": {},
    "colab_type": "code",
    "deletable": false,
    "id": "TIpk7lwtnZkZ"
   },
   "outputs": [],
   "source": [
    "df.dropna(subset = ['genre_name' ], inplace = True) "
   ]
  },
  {
   "cell_type": "code",
   "execution_count": 112,
   "metadata": {
    "colab": {},
    "colab_type": "code",
    "deletable": false,
    "id": "-1CT-CCZnzTA"
   },
   "outputs": [
    {
     "name": "stdout",
     "output_type": "stream",
     "text": [
      "user_id        0\n",
      "track_name     0\n",
      "artist_name    0\n",
      "genre_name     0\n",
      "city           0\n",
      "time           0\n",
      "weekday        0\n",
      "dtype: int64\n"
     ]
    }
   ],
   "source": [
    "df.isnull()\n",
    "print(df.isnull().sum()) "
   ]
  },
  {
   "cell_type": "markdown",
   "metadata": {
    "colab_type": "text",
    "deletable": false,
    "id": "QsBXpJFzpxA9",
    "tags": [
     "ea46db29-6746-4c02-a47b-75283dde9025"
    ]
   },
   "source": [
    "Необходимо установить наличие дубликатов.  <br> \n",
    "Если найдутся - необходимо удалить, и проверить, все ли удалились."
   ]
  },
  {
   "cell_type": "code",
   "execution_count": 113,
   "metadata": {
    "colab": {},
    "colab_type": "code",
    "deletable": false,
    "id": "VRVI_B0RqIgT"
   },
   "outputs": [
    {
     "name": "stdout",
     "output_type": "stream",
     "text": [
      "3755\n"
     ]
    }
   ],
   "source": [
    "shape_table = df.shape\n",
    "print(df.duplicated().sum())"
   ]
  },
  {
   "cell_type": "code",
   "execution_count": 114,
   "metadata": {
    "colab": {},
    "colab_type": "code",
    "deletable": false,
    "id": "nSYF38OeqZn-"
   },
   "outputs": [],
   "source": [
    "shape_table = df.shape\n",
    "df = df.drop_duplicates().reset_index(drop=True)"
   ]
  },
  {
   "cell_type": "code",
   "execution_count": 115,
   "metadata": {
    "colab": {},
    "colab_type": "code",
    "deletable": false,
    "id": "O-RfjmkCqIgV"
   },
   "outputs": [
    {
     "name": "stdout",
     "output_type": "stream",
     "text": [
      "0\n"
     ]
    }
   ],
   "source": [
    "shape_table = df.shape\n",
    "print(df.duplicated().sum())"
   ]
  },
  {
   "cell_type": "markdown",
   "metadata": {
    "colab_type": "text",
    "deletable": false,
    "id": "e6cyWPTwsLKw"
   },
   "source": [
    "Дубликаты могли появиться вследствие сбоя в записи данных. <br> Стоит обратить внимание и разобраться с причинами появления такого «информационного мусора»."
   ]
  },
  {
   "cell_type": "markdown",
   "metadata": {
    "colab_type": "text",
    "deletable": false,
    "id": "QH-HgrApInjO",
    "tags": [
     "46fb87e8-2d9c-497d-9c6e-746eaa2631ab"
    ]
   },
   "source": [
    "Сохраняю список уникальных значений столбца с жанрами в переменной *genres_list*. \n",
    "\n",
    "Объявляю функцию *find_genre()* для поиска неявных дубликатов в столбце с жанрами. Например, когда название одного и того же жанра написано разными словами.\n",
    "\n",
    "\n",
    "\n"
   ]
  },
  {
   "cell_type": "code",
   "execution_count": 116,
   "metadata": {
    "colab": {},
    "colab_type": "code",
    "deletable": false,
    "id": "FfaTfKAN-PCx"
   },
   "outputs": [
    {
     "name": "stdout",
     "output_type": "stream",
     "text": [
      "['rock' 'pop' 'folk' 'dance' 'rusrap' 'ruspop' 'world' 'electronic'\n",
      " 'alternative' 'children' 'rnb' 'hip' 'jazz' 'postrock' 'latin'\n",
      " 'classical' 'metal' 'reggae' 'tatar' 'blues' 'instrumental' 'rusrock'\n",
      " 'dnb' 'türk' 'post' 'country' 'psychedelic' 'conjazz' 'indie'\n",
      " 'posthardcore' 'local' 'avantgarde' 'punk' 'videogame' 'techno' 'house'\n",
      " 'christmas' 'melodic' 'caucasian' 'reggaeton' 'soundtrack' 'singer' 'ska'\n",
      " 'shanson' 'ambient' 'film' 'western' 'rap' 'beats' \"hard'n'heavy\"\n",
      " 'progmetal' 'minimal' 'contemporary' 'new' 'soul' 'holiday' 'german'\n",
      " 'tropical' 'fairytail' 'spiritual' 'urban' 'gospel' 'nujazz' 'folkmetal'\n",
      " 'trance' 'miscellaneous' 'anime' 'hardcore' 'progressive' 'chanson'\n",
      " 'numetal' 'vocal' 'estrada' 'russian' 'classicmetal' 'dubstep' 'club'\n",
      " 'deep' 'southern' 'black' 'folkrock' 'fitness' 'french' 'disco'\n",
      " 'religious' 'hiphop' 'drum' 'extrememetal' 'türkçe' 'experimental' 'easy'\n",
      " 'metalcore' 'modern' 'argentinetango' 'old' 'breaks' 'eurofolk'\n",
      " 'stonerrock' 'industrial' 'funk' 'jpop' 'middle' 'variété' 'other'\n",
      " 'adult' 'christian' 'gothic' 'international' 'muslim' 'relax' 'schlager'\n",
      " 'caribbean' 'ukrrock' 'nu' 'breakbeat' 'comedy' 'chill' 'newage'\n",
      " 'specialty' 'uzbek' 'k-pop' 'balkan' 'chinese' 'meditative' 'dub' 'power'\n",
      " 'death' 'grime' 'arabesk' 'romance' 'flamenco' 'leftfield' 'european'\n",
      " 'tech' 'newwave' 'dancehall' 'mpb' 'piano' 'top' 'bigroom' 'opera'\n",
      " 'celtic' 'tradjazz' 'acoustic' 'epicmetal' 'historisch' 'downbeat'\n",
      " 'downtempo' 'africa' 'audiobook' 'jewish' 'sängerportrait' 'deutschrock'\n",
      " 'eastern' 'action' 'future' 'electropop' 'folklore' 'bollywood'\n",
      " 'marschmusik' 'rnr' 'karaoke' 'indian' 'rancheras' 'электроника'\n",
      " 'afrikaans' 'tango' 'rhythm' 'sound' 'deutschspr' 'trip' 'lovers'\n",
      " 'choral' 'dancepop' 'podcasts' 'retro' 'smooth' 'mexican' 'brazilian'\n",
      " 'ïîï' 'mood' 'surf' 'author' 'gangsta' 'triphop' 'inspirational' 'idm'\n",
      " 'ethnic' 'bluegrass' 'broadway' 'animated' 'americana' 'karadeniz'\n",
      " 'rockabilly' 'colombian' 'self' 'synthrock' 'sertanejo' 'japanese'\n",
      " 'canzone' 'swing' 'lounge' 'sport' 'korean' 'ragga' 'traditional'\n",
      " 'gitarre' 'frankreich' 'alternativepunk' 'emo' 'laiko' 'cantopop'\n",
      " 'glitch' 'documentary' 'rockalternative' 'thrash' 'hymn' 'oceania'\n",
      " 'rockother' 'popeurodance' 'dark' 'vi' 'grunge' 'hardstyle' 'samba'\n",
      " 'garage' 'soft' 'art' 'folktronica' 'entehno' 'mediterranean' 'chamber'\n",
      " 'cuban' 'taraftar' 'rockindie' 'gypsy' 'hardtechno' 'shoegazing'\n",
      " 'skarock' 'bossa' 'salsa' 'latino' 'worldbeat' 'malaysian' 'baile'\n",
      " 'ghazal' 'loungeelectronic' 'arabic' 'popelectronic' 'acid' 'kayokyoku'\n",
      " 'neoklassik' 'tribal' 'tanzorchester' 'native' 'independent' 'cantautori'\n",
      " 'handsup' 'poprussian' 'punjabi' 'synthpop' 'rave' 'französisch'\n",
      " 'quebecois' 'speech' 'soulful' 'teen' 'jam' 'ram' 'horror' 'scenic'\n",
      " 'orchestral' 'neue' 'roots' 'slow' 'jungle' 'indipop' 'axé' 'fado'\n",
      " 'showtunes' 'arena' 'irish' 'mandopop' 'forró' 'popdance' 'dirty'\n",
      " 'regional']\n"
     ]
    }
   ],
   "source": [
    "genres_list = df['genre_name'].unique()\n",
    "print(genres_list)"
   ]
  },
  {
   "cell_type": "markdown",
   "metadata": {},
   "source": [
    "Cоздание функции find_genre()\n",
    "Функция принимает как параметр строку с названием искомого жанра, в теле объявляется переменная-счётчик, ей присваивается значение 0, затем цикл for проходит по списку уникальных значений. Если очередной элемент списка равен параметру функции, то значение счётчика увеличивается на 1. По окончании работы цикла функция возвращает значение счётчика."
   ]
  },
  {
   "cell_type": "code",
   "execution_count": 117,
   "metadata": {
    "colab": {},
    "colab_type": "code",
    "deletable": false,
    "id": "TA_k-VLi-S0R"
   },
   "outputs": [
    {
     "name": "stdout",
     "output_type": "stream",
     "text": [
      "1\n"
     ]
    }
   ],
   "source": [
    "def find_genre(a):\n",
    "    i = 0\n",
    "    for element in genres_list:\n",
    "        if element == a:\n",
    "            i += 1\n",
    "    return i\n",
    "\n",
    "searsh_genre = find_genre('hip')\n",
    "print(searsh_genre)"
   ]
  },
  {
   "cell_type": "markdown",
   "metadata": {
    "colab_type": "text",
    "deletable": false,
    "id": "vb3CTOciIL27",
    "tags": [
     "b57e3325-29fc-4ade-83a3-91113c5dad32"
    ]
   },
   "source": [
    "Вызов функции *find_genre()* для поиска различных вариантов названия жанра хип-хоп в таблице.\n",
    "\n",
    "Правильное название — *hiphop*. Поищем другие варианты:\n",
    "\n",
    "* hip\n",
    "* hop\n",
    "* hip-hop\n"
   ]
  },
  {
   "cell_type": "code",
   "execution_count": 118,
   "metadata": {
    "colab": {},
    "colab_type": "code",
    "deletable": false,
    "id": "YrwqExZS-dyQ"
   },
   "outputs": [
    {
     "name": "stdout",
     "output_type": "stream",
     "text": [
      "1\n"
     ]
    }
   ],
   "source": [
    "searsh_genre_hip = find_genre('hip')\n",
    "print(searsh_genre_hip)"
   ]
  },
  {
   "cell_type": "code",
   "execution_count": 119,
   "metadata": {
    "colab": {},
    "colab_type": "code",
    "deletable": false,
    "id": "ZoL4EEcR-dyU"
   },
   "outputs": [
    {
     "name": "stdout",
     "output_type": "stream",
     "text": [
      "0\n"
     ]
    }
   ],
   "source": [
    "searsh_genre_hop = find_genre('hop')\n",
    "print(searsh_genre_hop)"
   ]
  },
  {
   "cell_type": "code",
   "execution_count": 120,
   "metadata": {
    "colab": {},
    "colab_type": "code",
    "deletable": false,
    "id": "MFowmiug-qZD"
   },
   "outputs": [
    {
     "name": "stdout",
     "output_type": "stream",
     "text": [
      "0\n"
     ]
    }
   ],
   "source": [
    "searsh_genre_hiphop = find_genre('hip-hop')\n",
    "print(searsh_genre_hiphop)"
   ]
  },
  {
   "cell_type": "markdown",
   "metadata": {
    "colab_type": "text",
    "deletable": false,
    "id": "a7BQY6ORLMSG",
    "tags": [
     "11f77aa1-5478-453d-b31e-f20041047bb7"
    ]
   },
   "source": [
    "Объявляю функцию *find_hip_hop()*, которая заменяет  неправильное название этого жанра в столбце *'genre_name'* на *'hiphop'* и проверяет успешность выполнения замены.\n",
    "\n",
    "Так исправляю все варианты написания, которые выявила проверка."
   ]
  },
  {
   "cell_type": "markdown",
   "metadata": {},
   "source": [
    "Создание функции find_hip_hop():\n",
    "функция принимает как параметры таблицу df и неверное название к столбцу 'genre_name' применяется специальный метод, который заменяет второй параметр на строку 'hiphop'. Результат работы равен подсчитанному методом count() числу значений столбца, которые равны второму параметру, функция возвращает результат."
   ]
  },
  {
   "cell_type": "code",
   "execution_count": 121,
   "metadata": {
    "colab": {},
    "colab_type": "code",
    "deletable": false,
    "id": "31xlzL_c_FgB"
   },
   "outputs": [
    {
     "name": "stdout",
     "output_type": "stream",
     "text": [
      "0\n"
     ]
    }
   ],
   "source": [
    "def find_hip_hop(df, wrong):\n",
    "    first_value = wrong\n",
    "    second_value = 'hiphop'\n",
    "    df['genre_name'] = df['genre_name'].replace(wrong,'hiphop')\n",
    "    genre_name = df.loc[:, 'genre_name']\n",
    "    b = genre_name.loc[df[df['genre_name'] == wrong]['genre_name']].count()\n",
    "    return b\n",
    "new_value = find_hip_hop(df, 'hip')\n",
    "print(new_value)"
   ]
  },
  {
   "cell_type": "code",
   "execution_count": null,
   "metadata": {
    "colab": {},
    "colab_type": "code",
    "deletable": false,
    "id": "ZFXMV2qW_FgE"
   },
   "outputs": [],
   "source": []
  },
  {
   "cell_type": "markdown",
   "metadata": {
    "colab_type": "text",
    "deletable": false,
    "id": "i90BILA9JQpE",
    "tags": [
     "30535c8e-1643-4088-925b-2a32180e0333"
    ]
   },
   "source": [
    "Получаю общую информацию о данных. <br> Убеждаюсь, что чистка выполнена успешно."
   ]
  },
  {
   "cell_type": "code",
   "execution_count": 122,
   "metadata": {
    "colab": {},
    "colab_type": "code",
    "deletable": false,
    "id": "-yyvdzHA_uJm"
   },
   "outputs": [
    {
     "name": "stdout",
     "output_type": "stream",
     "text": [
      "<class 'pandas.core.frame.DataFrame'>\n",
      "RangeIndex: 60126 entries, 0 to 60125\n",
      "Data columns (total 7 columns):\n",
      " #   Column       Non-Null Count  Dtype \n",
      "---  ------       --------------  ----- \n",
      " 0   user_id      60126 non-null  object\n",
      " 1   track_name   60126 non-null  object\n",
      " 2   artist_name  60126 non-null  object\n",
      " 3   genre_name   60126 non-null  object\n",
      " 4   city         60126 non-null  object\n",
      " 5   time         60126 non-null  object\n",
      " 6   weekday      60126 non-null  object\n",
      "dtypes: object(7)\n",
      "memory usage: 3.2+ MB\n"
     ]
    }
   ],
   "source": [
    "df.info() "
   ]
  },
  {
   "cell_type": "markdown",
   "metadata": {
    "colab_type": "text",
    "deletable": false,
    "id": "AReHO17cMRPM"
   },
   "source": [
    "**Вывод**"
   ]
  },
  {
   "cell_type": "markdown",
   "metadata": {
    "colab_type": "text",
    "deletable": false,
    "id": "yscfstUqMS4c"
   },
   "source": [
    "На этапе предобработки в данных обнаружились не только пропуски и проблемы с названиями столбцов, но и всяческие виды дубликатов. Их удаление позволит провести анализ точнее. Поскольку сведения о жанрах важно сохранить для анализа, не просто удаляю все пропущенные значения, но заполняю пропущенные имена исполнителей и названия треков. Имена столбцов теперь корректны и удобны для дальнейшей работы."
   ]
  },
  {
   "cell_type": "markdown",
   "metadata": {},
   "source": [
    "# Шаг 3. Исследование данных"
   ]
  },
  {
   "cell_type": "markdown",
   "metadata": {
    "colab_type": "text",
    "deletable": false,
    "id": "MF4nnd1YJUrI",
    "tags": [
     "ac8df732-1797-479a-9c4c-a03745931a9d"
    ]
   },
   "source": [
    "# Действительно ли музыку в разных городах слушают по-разному?"
   ]
  },
  {
   "cell_type": "markdown",
   "metadata": {
    "colab_type": "text",
    "deletable": false,
    "id": "AYSL1OvyM2pL"
   },
   "source": [
    "Была выдвинута гипотеза, что в Москве и Санкт-Петербурге пользователи слушают музыку по-разному. Проверяю это предположение по данным о трёх днях недели — понедельнике, среде и пятнице.\n",
    "\n",
    "Для каждого города устанавливаю количество прослушанных  в эти дни композиций с известным жанром, и сравниваю результаты."
   ]
  },
  {
   "cell_type": "markdown",
   "metadata": {
    "colab_type": "text",
    "deletable": false,
    "id": "OM5Eeh7FNWC-"
   },
   "source": [
    "Группирую данные по городу и вызовом метода *count()* подсчитываю композиции, для которых известен жанр."
   ]
  },
  {
   "cell_type": "code",
   "execution_count": 123,
   "metadata": {
    "colab": {},
    "colab_type": "code",
    "deletable": false,
    "id": "AtH_pP1i_0m1"
   },
   "outputs": [
    {
     "name": "stdout",
     "output_type": "stream",
     "text": [
      "city\n",
      "Moscow              41892\n",
      "Saint-Petersburg    18234\n",
      "Name: genre_name, dtype: int64\n"
     ]
    }
   ],
   "source": [
    "group_city = df.groupby('city')['genre_name'].count()\n",
    "print(group_city)"
   ]
  },
  {
   "cell_type": "markdown",
   "metadata": {
    "colab_type": "text",
    "deletable": false,
    "id": "XBR226DMpIDf"
   },
   "source": [
    "В Москве прослушиваний больше, чем в Питере, но это не значит, что Москва более активна. У Яндекс.Музыки в целом больше пользователей в Москве, поэтому величины сопоставимы."
   ]
  },
  {
   "cell_type": "markdown",
   "metadata": {
    "colab_type": "text",
    "deletable": false,
    "id": "P7EcNQuyNbNB",
    "tags": [
     "133ddd49-3b63-45b1-b50c-9e6ab5fc4175"
    ]
   },
   "source": [
    "Сгруппирую данные по дню недели и подсчитаю прослушанные в понедельник, среду и пятницу композиции, для которых известен жанр."
   ]
  },
  {
   "cell_type": "code",
   "execution_count": 124,
   "metadata": {
    "colab": {},
    "colab_type": "code",
    "deletable": false,
    "id": "A8E_Tb2b_3un"
   },
   "outputs": [
    {
     "name": "stdout",
     "output_type": "stream",
     "text": [
      "weekday\n",
      "Friday       21482\n",
      "Monday       20866\n",
      "Wednesday    17778\n",
      "Name: genre_name, dtype: int64\n"
     ]
    }
   ],
   "source": [
    "group_weekday = df.groupby('weekday')['genre_name'].count()\n",
    "print(group_weekday)"
   ]
  },
  {
   "cell_type": "markdown",
   "metadata": {
    "colab_type": "text",
    "deletable": false,
    "id": "Zhh6hehCpq_U"
   },
   "source": [
    "Понедельник и пятница — время для музыки; по средам пользователи немного больше вовлечены в работу."
   ]
  },
  {
   "cell_type": "markdown",
   "metadata": {
    "colab_type": "text",
    "deletable": false,
    "id": "bYab2U5BNdmZ",
    "tags": [
     "bae0a168-5e2b-40f9-9701-bfb32d016517"
    ]
   },
   "source": [
    "Создаю функцию *number_tracks()*, которая принимает как параметры таблицу, день недели и название города, а возвращает количество прослушанных композиций, для которых известен жанр. Проверяю количество прослушанных композиций для каждого города и понедельника, затем среды и пятницы."
   ]
  },
  {
   "cell_type": "markdown",
   "metadata": {},
   "source": [
    "Создание функции number_tracks(): объявляется функция с тремя параметрами: df, day, city, в переменной track_list сохраняются те строки таблицы df, для которых значение в столбце 'weekday' равно параметру day и одновременно значение в столбце 'city' равно параметру city, в переменной track_list_count сохраняется число значений столбца 'genre_name', рассчитанное методом count(), для таблицы track_list функция возвращает значение track_list_count."
   ]
  },
  {
   "cell_type": "code",
   "execution_count": 125,
   "metadata": {
    "colab": {},
    "colab_type": "code",
    "deletable": false,
    "id": "4SqpGSi5_7hA"
   },
   "outputs": [],
   "source": [
    "def number_tracks(df, day, city):\n",
    "    track_list = df[(df['weekday'] == day) & (df['city'] == city)]\n",
    "    track_list_count = track_list['genre_name'].count()\n",
    "    return track_list_count"
   ]
  },
  {
   "cell_type": "code",
   "execution_count": 126,
   "metadata": {
    "deletable": false
   },
   "outputs": [
    {
     "name": "stdout",
     "output_type": "stream",
     "text": [
      "15347\n"
     ]
    }
   ],
   "source": [
    "track_moscow_monday = number_tracks(df, 'Monday', 'Moscow')\n",
    "print(track_moscow_monday)"
   ]
  },
  {
   "cell_type": "code",
   "execution_count": 127,
   "metadata": {
    "deletable": false
   },
   "outputs": [
    {
     "name": "stdout",
     "output_type": "stream",
     "text": [
      "5519\n"
     ]
    }
   ],
   "source": [
    "track_petersburg_monday = number_tracks(df, 'Monday', 'Saint-Petersburg')\n",
    "print(track_petersburg_monday)"
   ]
  },
  {
   "cell_type": "code",
   "execution_count": 128,
   "metadata": {
    "deletable": false
   },
   "outputs": [
    {
     "name": "stdout",
     "output_type": "stream",
     "text": [
      "10865\n"
     ]
    }
   ],
   "source": [
    "track_moscow_Wednesday = number_tracks(df, 'Wednesday', 'Moscow')\n",
    "print(track_moscow_Wednesday)"
   ]
  },
  {
   "cell_type": "code",
   "execution_count": 129,
   "metadata": {
    "deletable": false
   },
   "outputs": [
    {
     "name": "stdout",
     "output_type": "stream",
     "text": [
      "6913\n"
     ]
    }
   ],
   "source": [
    "track_Petersburg_Wednesday = number_tracks(df, 'Wednesday', 'Saint-Petersburg')\n",
    "print(track_Petersburg_Wednesday)"
   ]
  },
  {
   "cell_type": "code",
   "execution_count": 130,
   "metadata": {
    "deletable": false
   },
   "outputs": [
    {
     "name": "stdout",
     "output_type": "stream",
     "text": [
      "15680\n"
     ]
    }
   ],
   "source": [
    "track_moscow_Friday = number_tracks(df, 'Friday', 'Moscow')\n",
    "print(track_moscow_Friday)"
   ]
  },
  {
   "cell_type": "code",
   "execution_count": 131,
   "metadata": {
    "deletable": false
   },
   "outputs": [
    {
     "name": "stdout",
     "output_type": "stream",
     "text": [
      "5802\n"
     ]
    }
   ],
   "source": [
    "track_Petersburg_Friday = number_tracks(df, 'Friday', 'Saint-Petersburg')\n",
    "print(track_Petersburg_Friday)"
   ]
  },
  {
   "cell_type": "markdown",
   "metadata": {
    "colab_type": "text",
    "deletable": false,
    "id": "tCB9zwzzqZ8g",
    "tags": [
     "d73e12bf-3635-484b-8fb6-c7ccc2101671"
    ]
   },
   "source": [
    "Сведу полученную информацию в одну таблицу, где ['city', 'monday', 'wednesday', 'friday'] названия столбцов.\n"
   ]
  },
  {
   "cell_type": "code",
   "execution_count": 132,
   "metadata": {
    "deletable": false
   },
   "outputs": [
    {
     "name": "stdout",
     "output_type": "stream",
     "text": [
      "               city  monday  wednesday  friday\n",
      "0            Moscow   15347      10865   15680\n",
      "1  Saint-Petersburg    5519       6913    5802\n"
     ]
    }
   ],
   "source": [
    "data = [['Moscow', track_moscow_monday, track_moscow_Wednesday, track_moscow_Friday],\n",
    "       ['Saint-Petersburg', track_petersburg_monday, track_Petersburg_Wednesday, track_Petersburg_Friday]]\n",
    "columns = ['city','monday','wednesday','friday']\n",
    "table = pd.DataFrame(data = data, columns = columns)\n",
    "print(table)"
   ]
  },
  {
   "cell_type": "markdown",
   "metadata": {
    "colab_type": "text",
    "deletable": false,
    "id": "LKCYeMXgqPxD"
   },
   "source": [
    "**Вывод**"
   ]
  },
  {
   "cell_type": "markdown",
   "metadata": {
    "colab_type": "text",
    "deletable": false,
    "id": "RJpg6I8jqQ0x"
   },
   "source": [
    "Результаты показывают, что относительно среды музыку в Петербурге и Москве слушают «зеркально»: в Москве пики приходятся на понедельник и пятницу, а в среду время прослушивания снижается. Тогда как в Санкт-Петербурге среда — день самого большого интереса к музыке, а в понедельник и пятницу он меньше, причём почти одинаково меньше."
   ]
  },
  {
   "cell_type": "markdown",
   "metadata": {
    "colab_type": "text",
    "deletable": false,
    "id": "tLdpUGyewzGf",
    "tags": [
     "1eb8124a-f066-4c43-b1f4-bc672c5efd57"
    ]
   },
   "source": [
    "# Утро понедельника и вечер пятницы — разная музыка или одна и та же?"
   ]
  },
  {
   "cell_type": "markdown",
   "metadata": {
    "colab_type": "text",
    "deletable": false,
    "id": "SaQlxcVntL3x"
   },
   "source": [
    "Отвечу на вопрос, какие жанры преобладают в разных городах в понедельник утром и в пятницу вечером. Есть предположение, что в понедельник утром пользователи слушают больше бодрящей музыки (например, жанра поп), а вечером пятницы — больше танцевальных (например, электронику)."
   ]
  },
  {
   "cell_type": "markdown",
   "metadata": {
    "colab_type": "text",
    "deletable": false,
    "id": "lYGAneOaPBhS"
   },
   "source": [
    "Получаю таблицы данных по Москве *moscow_general* и по Санкт-Петербургу *spb_general*."
   ]
  },
  {
   "cell_type": "code",
   "execution_count": 133,
   "metadata": {
    "colab": {},
    "colab_type": "code",
    "deletable": false,
    "id": "Pyz1i56nA5IS"
   },
   "outputs": [],
   "source": [
    "moscow_general = df[(df['city'] == 'Moscow')] "
   ]
  },
  {
   "cell_type": "code",
   "execution_count": 134,
   "metadata": {
    "colab": {},
    "colab_type": "code",
    "deletable": false,
    "id": "w3NNN-2hA-al"
   },
   "outputs": [],
   "source": [
    "spb_general = df[(df['city'] == 'Saint-Petersburg')] "
   ]
  },
  {
   "cell_type": "markdown",
   "metadata": {
    "colab_type": "text",
    "deletable": false,
    "id": "duDdH_WiPLky",
    "tags": [
     "7f7cae13-ec1c-45c4-9204-0a4354fe1766"
    ]
   },
   "source": [
    "Создаю функцию *genre_weekday()*, которая возвращает список жанров по запрошенному дню недели и времени суток с такого-то часа по такой-то."
   ]
  },
  {
   "cell_type": "markdown",
   "metadata": {},
   "source": [
    "В переменной genre_list сохраняются те строки df, для которых одновременно:<br> \n",
    "1) значение в столбце 'weekday' равно параметру day,<br> \n",
    "2) значение в столбце 'time' больше time1 и <br> \n",
    "3) меньше time2. <br> \n",
    "В переменной genre_list_sorted сохраняются в порядке убывания первые 10 значений Series, полученной подсчётом числа значений 'genre_name', сгруппированной по столбцу 'genre_name' таблицы genre_list. <br> Функция возвращает значение genre_list_sorted."
   ]
  },
  {
   "cell_type": "code",
   "execution_count": 135,
   "metadata": {
    "colab": {},
    "colab_type": "code",
    "deletable": false,
    "id": "JhUdQynHBEYw"
   },
   "outputs": [],
   "source": [
    "def genre_weekday(df, day, time1, time2):\n",
    "    genre_list = df.loc[(df.loc[:,'weekday'] == day) & (df.loc[:,'time'] > time1) & (df.loc[:,'time'] < time2)]\n",
    "    genre_list_sorted = genre_list.sort_values(by='genre_name', ascending = False).head(10)\n",
    "    return genre_list_sorted"
   ]
  },
  {
   "cell_type": "markdown",
   "metadata": {
    "colab_type": "text",
    "deletable": false,
    "id": "bxGC8kXkP7B-",
    "tags": [
     "63e2c3f3-fa64-4376-8221-e8b753264535"
    ]
   },
   "source": [
    "Cравниваю полученные результаты по таблице для Москвы и Санкт-Петербурга в понедельник утром (с 7 до 11) и в пятницу вечером (с 17 до 23)."
   ]
  },
  {
   "cell_type": "code",
   "execution_count": 136,
   "metadata": {
    "colab": {},
    "colab_type": "code",
    "deletable": false,
    "id": "kbgeq-55BLEI"
   },
   "outputs": [
    {
     "data": {
      "text/html": [
       "<div>\n",
       "<style scoped>\n",
       "    .dataframe tbody tr th:only-of-type {\n",
       "        vertical-align: middle;\n",
       "    }\n",
       "\n",
       "    .dataframe tbody tr th {\n",
       "        vertical-align: top;\n",
       "    }\n",
       "\n",
       "    .dataframe thead th {\n",
       "        text-align: right;\n",
       "    }\n",
       "</style>\n",
       "<table border=\"1\" class=\"dataframe\">\n",
       "  <thead>\n",
       "    <tr style=\"text-align: right;\">\n",
       "      <th></th>\n",
       "      <th>user_id</th>\n",
       "      <th>track_name</th>\n",
       "      <th>artist_name</th>\n",
       "      <th>genre_name</th>\n",
       "      <th>city</th>\n",
       "      <th>time</th>\n",
       "      <th>weekday</th>\n",
       "    </tr>\n",
       "  </thead>\n",
       "  <tbody>\n",
       "    <tr>\n",
       "      <th>27442</th>\n",
       "      <td>D7FB50DA</td>\n",
       "      <td>Drumming Circle</td>\n",
       "      <td>Professor Trance</td>\n",
       "      <td>worldbeat</td>\n",
       "      <td>Moscow</td>\n",
       "      <td>09:30:47</td>\n",
       "      <td>Monday</td>\n",
       "    </tr>\n",
       "    <tr>\n",
       "      <th>20384</th>\n",
       "      <td>F0C5DA9A</td>\n",
       "      <td>Hasta Siempre Comandante</td>\n",
       "      <td>Juan M. Chazarreta</td>\n",
       "      <td>world</td>\n",
       "      <td>Moscow</td>\n",
       "      <td>08:10:09</td>\n",
       "      <td>Monday</td>\n",
       "    </tr>\n",
       "    <tr>\n",
       "      <th>36691</th>\n",
       "      <td>C3B36125</td>\n",
       "      <td>Brava la cuoca</td>\n",
       "      <td>Roberto Scaglioni</td>\n",
       "      <td>world</td>\n",
       "      <td>Moscow</td>\n",
       "      <td>09:51:28</td>\n",
       "      <td>Monday</td>\n",
       "    </tr>\n",
       "    <tr>\n",
       "      <th>54812</th>\n",
       "      <td>F37EC6D1</td>\n",
       "      <td>Penjereden Dash Gelir</td>\n",
       "      <td>Chingiz Sadykhov</td>\n",
       "      <td>world</td>\n",
       "      <td>Moscow</td>\n",
       "      <td>08:29:31</td>\n",
       "      <td>Monday</td>\n",
       "    </tr>\n",
       "    <tr>\n",
       "      <th>58660</th>\n",
       "      <td>59CBCCE5</td>\n",
       "      <td>Dyolmano Dyulbero</td>\n",
       "      <td>The Bulgarian Voices</td>\n",
       "      <td>world</td>\n",
       "      <td>Moscow</td>\n",
       "      <td>09:53:19</td>\n",
       "      <td>Monday</td>\n",
       "    </tr>\n",
       "    <tr>\n",
       "      <th>7388</th>\n",
       "      <td>62E1B964</td>\n",
       "      <td>Child of a Blind Man</td>\n",
       "      <td>Hazmat Modine</td>\n",
       "      <td>world</td>\n",
       "      <td>Moscow</td>\n",
       "      <td>09:37:22</td>\n",
       "      <td>Monday</td>\n",
       "    </tr>\n",
       "    <tr>\n",
       "      <th>21143</th>\n",
       "      <td>FF3FD2BD</td>\n",
       "      <td>Ire</td>\n",
       "      <td>Adekunle Gold</td>\n",
       "      <td>world</td>\n",
       "      <td>Moscow</td>\n",
       "      <td>08:26:19</td>\n",
       "      <td>Monday</td>\n",
       "    </tr>\n",
       "    <tr>\n",
       "      <th>49652</th>\n",
       "      <td>FE3A4C70</td>\n",
       "      <td>Ма царды 'мбал (Спутник жизни)</td>\n",
       "      <td>Оксана Джелиева</td>\n",
       "      <td>world</td>\n",
       "      <td>Moscow</td>\n",
       "      <td>08:53:25</td>\n",
       "      <td>Monday</td>\n",
       "    </tr>\n",
       "    <tr>\n",
       "      <th>26801</th>\n",
       "      <td>FDF6D919</td>\n",
       "      <td>Nuage</td>\n",
       "      <td>Jim Cole &amp; Spectral Voices</td>\n",
       "      <td>world</td>\n",
       "      <td>Moscow</td>\n",
       "      <td>08:42:04</td>\n",
       "      <td>Monday</td>\n",
       "    </tr>\n",
       "    <tr>\n",
       "      <th>40820</th>\n",
       "      <td>3D844B0C</td>\n",
       "      <td>Tango</td>\n",
       "      <td>Athens Symphony Orchestra</td>\n",
       "      <td>world</td>\n",
       "      <td>Moscow</td>\n",
       "      <td>09:45:53</td>\n",
       "      <td>Monday</td>\n",
       "    </tr>\n",
       "  </tbody>\n",
       "</table>\n",
       "</div>"
      ],
      "text/plain": [
       "        user_id                      track_name                 artist_name  \\\n",
       "27442  D7FB50DA                 Drumming Circle            Professor Trance   \n",
       "20384  F0C5DA9A        Hasta Siempre Comandante          Juan M. Chazarreta   \n",
       "36691  C3B36125                  Brava la cuoca           Roberto Scaglioni   \n",
       "54812  F37EC6D1           Penjereden Dash Gelir            Chingiz Sadykhov   \n",
       "58660  59CBCCE5               Dyolmano Dyulbero        The Bulgarian Voices   \n",
       "7388   62E1B964            Child of a Blind Man               Hazmat Modine   \n",
       "21143  FF3FD2BD                             Ire               Adekunle Gold   \n",
       "49652  FE3A4C70  Ма царды 'мбал (Спутник жизни)             Оксана Джелиева   \n",
       "26801  FDF6D919                           Nuage  Jim Cole & Spectral Voices   \n",
       "40820  3D844B0C                           Tango   Athens Symphony Orchestra   \n",
       "\n",
       "      genre_name    city      time weekday  \n",
       "27442  worldbeat  Moscow  09:30:47  Monday  \n",
       "20384      world  Moscow  08:10:09  Monday  \n",
       "36691      world  Moscow  09:51:28  Monday  \n",
       "54812      world  Moscow  08:29:31  Monday  \n",
       "58660      world  Moscow  09:53:19  Monday  \n",
       "7388       world  Moscow  09:37:22  Monday  \n",
       "21143      world  Moscow  08:26:19  Monday  \n",
       "49652      world  Moscow  08:53:25  Monday  \n",
       "26801      world  Moscow  08:42:04  Monday  \n",
       "40820      world  Moscow  09:45:53  Monday  "
      ]
     },
     "execution_count": 136,
     "metadata": {},
     "output_type": "execute_result"
    }
   ],
   "source": [
    "genre_weekday(moscow_general, 'Monday','07:00:00', '11:00:00')"
   ]
  },
  {
   "cell_type": "code",
   "execution_count": 137,
   "metadata": {
    "colab": {},
    "colab_type": "code",
    "deletable": false,
    "id": "XHwa8N2EBRXO"
   },
   "outputs": [
    {
     "data": {
      "text/html": [
       "<div>\n",
       "<style scoped>\n",
       "    .dataframe tbody tr th:only-of-type {\n",
       "        vertical-align: middle;\n",
       "    }\n",
       "\n",
       "    .dataframe tbody tr th {\n",
       "        vertical-align: top;\n",
       "    }\n",
       "\n",
       "    .dataframe thead th {\n",
       "        text-align: right;\n",
       "    }\n",
       "</style>\n",
       "<table border=\"1\" class=\"dataframe\">\n",
       "  <thead>\n",
       "    <tr style=\"text-align: right;\">\n",
       "      <th></th>\n",
       "      <th>user_id</th>\n",
       "      <th>track_name</th>\n",
       "      <th>artist_name</th>\n",
       "      <th>genre_name</th>\n",
       "      <th>city</th>\n",
       "      <th>time</th>\n",
       "      <th>weekday</th>\n",
       "    </tr>\n",
       "  </thead>\n",
       "  <tbody>\n",
       "    <tr>\n",
       "      <th>30068</th>\n",
       "      <td>692AEC35</td>\n",
       "      <td>Baiana</td>\n",
       "      <td>Emicida</td>\n",
       "      <td>world</td>\n",
       "      <td>Saint-Petersburg</td>\n",
       "      <td>09:24:38</td>\n",
       "      <td>Monday</td>\n",
       "    </tr>\n",
       "    <tr>\n",
       "      <th>42316</th>\n",
       "      <td>6B62E9CE</td>\n",
       "      <td>The Color of The Night</td>\n",
       "      <td>L' Amore Orchestra</td>\n",
       "      <td>world</td>\n",
       "      <td>Saint-Petersburg</td>\n",
       "      <td>08:56:04</td>\n",
       "      <td>Monday</td>\n",
       "    </tr>\n",
       "    <tr>\n",
       "      <th>25542</th>\n",
       "      <td>F018BD36</td>\n",
       "      <td>Aicha</td>\n",
       "      <td>Khaled</td>\n",
       "      <td>world</td>\n",
       "      <td>Saint-Petersburg</td>\n",
       "      <td>09:24:54</td>\n",
       "      <td>Monday</td>\n",
       "    </tr>\n",
       "    <tr>\n",
       "      <th>25368</th>\n",
       "      <td>888CB0C0</td>\n",
       "      <td>Sichou Zhi Lu</td>\n",
       "      <td>Ethno Music Orchestra</td>\n",
       "      <td>world</td>\n",
       "      <td>Saint-Petersburg</td>\n",
       "      <td>08:49:11</td>\n",
       "      <td>Monday</td>\n",
       "    </tr>\n",
       "    <tr>\n",
       "      <th>44109</th>\n",
       "      <td>2DD633B3</td>\n",
       "      <td>Parole parole</td>\n",
       "      <td>unknown</td>\n",
       "      <td>world</td>\n",
       "      <td>Saint-Petersburg</td>\n",
       "      <td>08:50:08</td>\n",
       "      <td>Monday</td>\n",
       "    </tr>\n",
       "    <tr>\n",
       "      <th>45091</th>\n",
       "      <td>B5B6FE0A</td>\n",
       "      <td>Sade</td>\n",
       "      <td>Badmos</td>\n",
       "      <td>world</td>\n",
       "      <td>Saint-Petersburg</td>\n",
       "      <td>09:03:38</td>\n",
       "      <td>Monday</td>\n",
       "    </tr>\n",
       "    <tr>\n",
       "      <th>21206</th>\n",
       "      <td>F33FA8C</td>\n",
       "      <td>Pivni Tkach posh edit light</td>\n",
       "      <td>Katya Chilly</td>\n",
       "      <td>world</td>\n",
       "      <td>Saint-Petersburg</td>\n",
       "      <td>08:51:27</td>\n",
       "      <td>Monday</td>\n",
       "    </tr>\n",
       "    <tr>\n",
       "      <th>20813</th>\n",
       "      <td>4D2A996C</td>\n",
       "      <td>Closer to Heaven</td>\n",
       "      <td>Mysteria</td>\n",
       "      <td>world</td>\n",
       "      <td>Saint-Petersburg</td>\n",
       "      <td>09:30:23</td>\n",
       "      <td>Monday</td>\n",
       "    </tr>\n",
       "    <tr>\n",
       "      <th>19541</th>\n",
       "      <td>CA471C2</td>\n",
       "      <td>The Chieri by Avalon Rising</td>\n",
       "      <td>Avalon Rising</td>\n",
       "      <td>world</td>\n",
       "      <td>Saint-Petersburg</td>\n",
       "      <td>09:05:43</td>\n",
       "      <td>Monday</td>\n",
       "    </tr>\n",
       "    <tr>\n",
       "      <th>18608</th>\n",
       "      <td>FEA172A3</td>\n",
       "      <td>Jenny Chicken</td>\n",
       "      <td>Kate Mcmayland and Her Orchestra</td>\n",
       "      <td>world</td>\n",
       "      <td>Saint-Petersburg</td>\n",
       "      <td>09:04:32</td>\n",
       "      <td>Monday</td>\n",
       "    </tr>\n",
       "  </tbody>\n",
       "</table>\n",
       "</div>"
      ],
      "text/plain": [
       "        user_id                   track_name  \\\n",
       "30068  692AEC35                       Baiana   \n",
       "42316  6B62E9CE       The Color of The Night   \n",
       "25542  F018BD36                        Aicha   \n",
       "25368  888CB0C0                Sichou Zhi Lu   \n",
       "44109  2DD633B3                Parole parole   \n",
       "45091  B5B6FE0A                         Sade   \n",
       "21206   F33FA8C  Pivni Tkach posh edit light   \n",
       "20813  4D2A996C             Closer to Heaven   \n",
       "19541   CA471C2  The Chieri by Avalon Rising   \n",
       "18608  FEA172A3                Jenny Chicken   \n",
       "\n",
       "                            artist_name genre_name              city  \\\n",
       "30068                           Emicida      world  Saint-Petersburg   \n",
       "42316                L' Amore Orchestra      world  Saint-Petersburg   \n",
       "25542                            Khaled      world  Saint-Petersburg   \n",
       "25368             Ethno Music Orchestra      world  Saint-Petersburg   \n",
       "44109                           unknown      world  Saint-Petersburg   \n",
       "45091                            Badmos      world  Saint-Petersburg   \n",
       "21206                      Katya Chilly      world  Saint-Petersburg   \n",
       "20813                          Mysteria      world  Saint-Petersburg   \n",
       "19541                     Avalon Rising      world  Saint-Petersburg   \n",
       "18608  Kate Mcmayland and Her Orchestra      world  Saint-Petersburg   \n",
       "\n",
       "           time weekday  \n",
       "30068  09:24:38  Monday  \n",
       "42316  08:56:04  Monday  \n",
       "25542  09:24:54  Monday  \n",
       "25368  08:49:11  Monday  \n",
       "44109  08:50:08  Monday  \n",
       "45091  09:03:38  Monday  \n",
       "21206  08:51:27  Monday  \n",
       "20813  09:30:23  Monday  \n",
       "19541  09:05:43  Monday  \n",
       "18608  09:04:32  Monday  "
      ]
     },
     "execution_count": 137,
     "metadata": {},
     "output_type": "execute_result"
    }
   ],
   "source": [
    "genre_weekday(spb_general, 'Monday','07:00:00', '11:00:00')"
   ]
  },
  {
   "cell_type": "code",
   "execution_count": 138,
   "metadata": {
    "colab": {},
    "colab_type": "code",
    "deletable": false,
    "id": "YvdSbg2jBUeq"
   },
   "outputs": [
    {
     "data": {
      "text/html": [
       "<div>\n",
       "<style scoped>\n",
       "    .dataframe tbody tr th:only-of-type {\n",
       "        vertical-align: middle;\n",
       "    }\n",
       "\n",
       "    .dataframe tbody tr th {\n",
       "        vertical-align: top;\n",
       "    }\n",
       "\n",
       "    .dataframe thead th {\n",
       "        text-align: right;\n",
       "    }\n",
       "</style>\n",
       "<table border=\"1\" class=\"dataframe\">\n",
       "  <thead>\n",
       "    <tr style=\"text-align: right;\">\n",
       "      <th></th>\n",
       "      <th>user_id</th>\n",
       "      <th>track_name</th>\n",
       "      <th>artist_name</th>\n",
       "      <th>genre_name</th>\n",
       "      <th>city</th>\n",
       "      <th>time</th>\n",
       "      <th>weekday</th>\n",
       "    </tr>\n",
       "  </thead>\n",
       "  <tbody>\n",
       "    <tr>\n",
       "      <th>43694</th>\n",
       "      <td>917047E8</td>\n",
       "      <td>The Nomad</td>\n",
       "      <td>Niraj Chag Featuring Melissa Baten</td>\n",
       "      <td>world</td>\n",
       "      <td>Moscow</td>\n",
       "      <td>21:58:43</td>\n",
       "      <td>Friday</td>\n",
       "    </tr>\n",
       "    <tr>\n",
       "      <th>30922</th>\n",
       "      <td>3DC9EF93</td>\n",
       "      <td>Aprum Em Keznov</td>\n",
       "      <td>Arabo Ispiryan</td>\n",
       "      <td>world</td>\n",
       "      <td>Moscow</td>\n",
       "      <td>20:07:26</td>\n",
       "      <td>Friday</td>\n",
       "    </tr>\n",
       "    <tr>\n",
       "      <th>31820</th>\n",
       "      <td>9F87ADDC</td>\n",
       "      <td>Bir Gozal</td>\n",
       "      <td>unknown</td>\n",
       "      <td>world</td>\n",
       "      <td>Moscow</td>\n",
       "      <td>20:14:37</td>\n",
       "      <td>Friday</td>\n",
       "    </tr>\n",
       "    <tr>\n",
       "      <th>52603</th>\n",
       "      <td>4C61D12D</td>\n",
       "      <td>Apple Penne</td>\n",
       "      <td>Bharathvaj</td>\n",
       "      <td>world</td>\n",
       "      <td>Moscow</td>\n",
       "      <td>21:32:05</td>\n",
       "      <td>Friday</td>\n",
       "    </tr>\n",
       "    <tr>\n",
       "      <th>31514</th>\n",
       "      <td>5366E775</td>\n",
       "      <td>Die Reblaus</td>\n",
       "      <td>Hans Moser</td>\n",
       "      <td>world</td>\n",
       "      <td>Moscow</td>\n",
       "      <td>21:40:41</td>\n",
       "      <td>Friday</td>\n",
       "    </tr>\n",
       "    <tr>\n",
       "      <th>31317</th>\n",
       "      <td>CAAC4375</td>\n",
       "      <td>Kervansaray</td>\n",
       "      <td>Muhammet İrmikçi</td>\n",
       "      <td>world</td>\n",
       "      <td>Moscow</td>\n",
       "      <td>20:22:48</td>\n",
       "      <td>Friday</td>\n",
       "    </tr>\n",
       "    <tr>\n",
       "      <th>2878</th>\n",
       "      <td>2487DD6F</td>\n",
       "      <td>Макарий</td>\n",
       "      <td>Абстрактор</td>\n",
       "      <td>world</td>\n",
       "      <td>Moscow</td>\n",
       "      <td>20:57:45</td>\n",
       "      <td>Friday</td>\n",
       "    </tr>\n",
       "    <tr>\n",
       "      <th>14375</th>\n",
       "      <td>BCEA335</td>\n",
       "      <td>Yo Soy Maria</td>\n",
       "      <td>Panterinya</td>\n",
       "      <td>world</td>\n",
       "      <td>Moscow</td>\n",
       "      <td>21:11:20</td>\n",
       "      <td>Friday</td>\n",
       "    </tr>\n",
       "    <tr>\n",
       "      <th>31013</th>\n",
       "      <td>77BE1010</td>\n",
       "      <td>Kandıramazsın</td>\n",
       "      <td>Genco Ecer</td>\n",
       "      <td>world</td>\n",
       "      <td>Moscow</td>\n",
       "      <td>22:00:25</td>\n",
       "      <td>Friday</td>\n",
       "    </tr>\n",
       "    <tr>\n",
       "      <th>52657</th>\n",
       "      <td>6214F479</td>\n",
       "      <td>Forró do Rei</td>\n",
       "      <td>Trio Virgulino</td>\n",
       "      <td>world</td>\n",
       "      <td>Moscow</td>\n",
       "      <td>20:28:05</td>\n",
       "      <td>Friday</td>\n",
       "    </tr>\n",
       "  </tbody>\n",
       "</table>\n",
       "</div>"
      ],
      "text/plain": [
       "        user_id       track_name                         artist_name  \\\n",
       "43694  917047E8        The Nomad  Niraj Chag Featuring Melissa Baten   \n",
       "30922  3DC9EF93  Aprum Em Keznov                      Arabo Ispiryan   \n",
       "31820  9F87ADDC        Bir Gozal                             unknown   \n",
       "52603  4C61D12D      Apple Penne                          Bharathvaj   \n",
       "31514  5366E775      Die Reblaus                          Hans Moser   \n",
       "31317  CAAC4375      Kervansaray                    Muhammet İrmikçi   \n",
       "2878   2487DD6F          Макарий                          Абстрактор   \n",
       "14375   BCEA335     Yo Soy Maria                          Panterinya   \n",
       "31013  77BE1010    Kandıramazsın                          Genco Ecer   \n",
       "52657  6214F479     Forró do Rei                      Trio Virgulino   \n",
       "\n",
       "      genre_name    city      time weekday  \n",
       "43694      world  Moscow  21:58:43  Friday  \n",
       "30922      world  Moscow  20:07:26  Friday  \n",
       "31820      world  Moscow  20:14:37  Friday  \n",
       "52603      world  Moscow  21:32:05  Friday  \n",
       "31514      world  Moscow  21:40:41  Friday  \n",
       "31317      world  Moscow  20:22:48  Friday  \n",
       "2878       world  Moscow  20:57:45  Friday  \n",
       "14375      world  Moscow  21:11:20  Friday  \n",
       "31013      world  Moscow  22:00:25  Friday  \n",
       "52657      world  Moscow  20:28:05  Friday  "
      ]
     },
     "execution_count": 138,
     "metadata": {},
     "output_type": "execute_result"
    }
   ],
   "source": [
    "genre_weekday(moscow_general, 'Friday','17:00:00', '23:00:00')"
   ]
  },
  {
   "cell_type": "code",
   "execution_count": 139,
   "metadata": {
    "colab": {},
    "colab_type": "code",
    "deletable": false,
    "id": "Ew3ig4fPBUeu"
   },
   "outputs": [
    {
     "data": {
      "text/html": [
       "<div>\n",
       "<style scoped>\n",
       "    .dataframe tbody tr th:only-of-type {\n",
       "        vertical-align: middle;\n",
       "    }\n",
       "\n",
       "    .dataframe tbody tr th {\n",
       "        vertical-align: top;\n",
       "    }\n",
       "\n",
       "    .dataframe thead th {\n",
       "        text-align: right;\n",
       "    }\n",
       "</style>\n",
       "<table border=\"1\" class=\"dataframe\">\n",
       "  <thead>\n",
       "    <tr style=\"text-align: right;\">\n",
       "      <th></th>\n",
       "      <th>user_id</th>\n",
       "      <th>track_name</th>\n",
       "      <th>artist_name</th>\n",
       "      <th>genre_name</th>\n",
       "      <th>city</th>\n",
       "      <th>time</th>\n",
       "      <th>weekday</th>\n",
       "    </tr>\n",
       "  </thead>\n",
       "  <tbody>\n",
       "    <tr>\n",
       "      <th>54324</th>\n",
       "      <td>54A01EAC</td>\n",
       "      <td>Batwanes Beek Ta'a Ninsa</td>\n",
       "      <td>emad batayeh</td>\n",
       "      <td>world</td>\n",
       "      <td>Saint-Petersburg</td>\n",
       "      <td>20:58:18</td>\n",
       "      <td>Friday</td>\n",
       "    </tr>\n",
       "    <tr>\n",
       "      <th>29985</th>\n",
       "      <td>47E5088</td>\n",
       "      <td>Что же делать?</td>\n",
       "      <td>Группа «Домбай»</td>\n",
       "      <td>world</td>\n",
       "      <td>Saint-Petersburg</td>\n",
       "      <td>21:15:04</td>\n",
       "      <td>Friday</td>\n",
       "    </tr>\n",
       "    <tr>\n",
       "      <th>44531</th>\n",
       "      <td>873D8A1B</td>\n",
       "      <td>Orkestarsko Oro</td>\n",
       "      <td>Maleševski Melos</td>\n",
       "      <td>world</td>\n",
       "      <td>Saint-Petersburg</td>\n",
       "      <td>20:58:55</td>\n",
       "      <td>Friday</td>\n",
       "    </tr>\n",
       "    <tr>\n",
       "      <th>18013</th>\n",
       "      <td>1D507F3F</td>\n",
       "      <td>A Cochabamba Me Voy</td>\n",
       "      <td>Daniele Sepe</td>\n",
       "      <td>world</td>\n",
       "      <td>Saint-Petersburg</td>\n",
       "      <td>21:50:57</td>\n",
       "      <td>Friday</td>\n",
       "    </tr>\n",
       "    <tr>\n",
       "      <th>48238</th>\n",
       "      <td>F3FB8127</td>\n",
       "      <td>Dari Lolo</td>\n",
       "      <td>Aravod</td>\n",
       "      <td>world</td>\n",
       "      <td>Saint-Petersburg</td>\n",
       "      <td>21:48:19</td>\n",
       "      <td>Friday</td>\n",
       "    </tr>\n",
       "    <tr>\n",
       "      <th>22457</th>\n",
       "      <td>A38F488E</td>\n",
       "      <td>The Forest</td>\n",
       "      <td>Taiko Drums</td>\n",
       "      <td>world</td>\n",
       "      <td>Saint-Petersburg</td>\n",
       "      <td>21:27:03</td>\n",
       "      <td>Friday</td>\n",
       "    </tr>\n",
       "    <tr>\n",
       "      <th>3470</th>\n",
       "      <td>86F2380D</td>\n",
       "      <td>Королева</td>\n",
       "      <td>Мануэль Исаков</td>\n",
       "      <td>world</td>\n",
       "      <td>Saint-Petersburg</td>\n",
       "      <td>21:19:05</td>\n",
       "      <td>Friday</td>\n",
       "    </tr>\n",
       "    <tr>\n",
       "      <th>28527</th>\n",
       "      <td>807DDAF6</td>\n",
       "      <td>El Forga Moura</td>\n",
       "      <td>Haim</td>\n",
       "      <td>world</td>\n",
       "      <td>Saint-Petersburg</td>\n",
       "      <td>21:11:00</td>\n",
       "      <td>Friday</td>\n",
       "    </tr>\n",
       "    <tr>\n",
       "      <th>38883</th>\n",
       "      <td>BF27088D</td>\n",
       "      <td>Let It Out - Rafijah &amp; Niyo Rah</td>\n",
       "      <td>Rafijah &amp; Niyo Rah</td>\n",
       "      <td>world</td>\n",
       "      <td>Saint-Petersburg</td>\n",
       "      <td>21:28:56</td>\n",
       "      <td>Friday</td>\n",
       "    </tr>\n",
       "    <tr>\n",
       "      <th>29561</th>\n",
       "      <td>DAE710B3</td>\n",
       "      <td>Les nuits de patrimonio</td>\n",
       "      <td>Jérôme Ciosi</td>\n",
       "      <td>world</td>\n",
       "      <td>Saint-Petersburg</td>\n",
       "      <td>20:07:58</td>\n",
       "      <td>Friday</td>\n",
       "    </tr>\n",
       "  </tbody>\n",
       "</table>\n",
       "</div>"
      ],
      "text/plain": [
       "        user_id                       track_name         artist_name  \\\n",
       "54324  54A01EAC         Batwanes Beek Ta'a Ninsa        emad batayeh   \n",
       "29985   47E5088                   Что же делать?     Группа «Домбай»   \n",
       "44531  873D8A1B                  Orkestarsko Oro    Maleševski Melos   \n",
       "18013  1D507F3F              A Cochabamba Me Voy        Daniele Sepe   \n",
       "48238  F3FB8127                        Dari Lolo              Aravod   \n",
       "22457  A38F488E                       The Forest         Taiko Drums   \n",
       "3470   86F2380D                         Королева      Мануэль Исаков   \n",
       "28527  807DDAF6                   El Forga Moura                Haim   \n",
       "38883  BF27088D  Let It Out - Rafijah & Niyo Rah  Rafijah & Niyo Rah   \n",
       "29561  DAE710B3          Les nuits de patrimonio        Jérôme Ciosi   \n",
       "\n",
       "      genre_name              city      time weekday  \n",
       "54324      world  Saint-Petersburg  20:58:18  Friday  \n",
       "29985      world  Saint-Petersburg  21:15:04  Friday  \n",
       "44531      world  Saint-Petersburg  20:58:55  Friday  \n",
       "18013      world  Saint-Petersburg  21:50:57  Friday  \n",
       "48238      world  Saint-Petersburg  21:48:19  Friday  \n",
       "22457      world  Saint-Petersburg  21:27:03  Friday  \n",
       "3470       world  Saint-Petersburg  21:19:05  Friday  \n",
       "28527      world  Saint-Petersburg  21:11:00  Friday  \n",
       "38883      world  Saint-Petersburg  21:28:56  Friday  \n",
       "29561      world  Saint-Petersburg  20:07:58  Friday  "
      ]
     },
     "execution_count": 139,
     "metadata": {},
     "output_type": "execute_result"
    }
   ],
   "source": [
    "genre_weekday(spb_general, 'Friday','17:00:00', '23:00:00')"
   ]
  },
  {
   "cell_type": "markdown",
   "metadata": {
    "colab_type": "text",
    "deletable": false,
    "id": "UenYBZTIwYT-"
   },
   "source": [
    "Популярные жанры в понедельник утром в Питере и Москве оказались похожи: везде, как и предполагалось, популярен поп. Несмотря на это, концовка топ-10 для двух городов различается: в Питере в топ-10 входит джаз и русский рэп, а в Москве жанр *world*.\n",
    "\n",
    "В конце недели ситуация не меняется. Поп-музыка всё так же на первом месте. Опять разница заметна только в концовке топ-10, где в Питере пятничным вечером тоже присутствует жанр *world*."
   ]
  },
  {
   "cell_type": "markdown",
   "metadata": {
    "colab_type": "text",
    "deletable": false,
    "id": "MBxfrKPAykp_"
   },
   "source": [
    "**Вывод**"
   ]
  },
  {
   "cell_type": "markdown",
   "metadata": {
    "colab_type": "text",
    "deletable": false,
    "id": "j8ypBMwSymL6"
   },
   "source": [
    "Жанр поп безусловный лидер, а топ-5 в целом не различается в обеих столицах. При этом видно, что концовка списка более «живая»: для каждого города выделяются более характерные жанры, которые действительно меняют свои позиции в зависимости от дня недели и времени."
   ]
  },
  {
   "cell_type": "markdown",
   "metadata": {
    "colab_type": "text",
    "deletable": false,
    "id": "D7YMmgKRw270",
    "tags": [
     "f363205e-76b1-4883-abf1-bf21c9572dc7"
    ]
   },
   "source": [
    "# Москва и Питер — две разные столицы, два разных направления в музыке. Правда?"
   ]
  },
  {
   "cell_type": "markdown",
   "metadata": {
    "colab_type": "text",
    "deletable": false,
    "id": "Wc5srT13zb4Z"
   },
   "source": [
    "Гипотеза: Питер богат своей рэп-культурой, поэтому это направление там слушают чаще, а Москва — город контрастов, но основная масса пользователей слушает попсу.\n",
    "\n"
   ]
  },
  {
   "cell_type": "markdown",
   "metadata": {
    "colab_type": "text",
    "deletable": false,
    "id": "2SFE9_RV2KEL"
   },
   "source": [
    "Сгруппирую таблицу *moscow_general* по жанру, сосчитаю численность композиций каждого жанра методом *count()*, отсортирую в порядке убывания и сохраню результат в таблице *moscow_genres*.\n",
    "\n",
    "Просмотрю первые 10 строк этой новой таблицы."
   ]
  },
  {
   "cell_type": "code",
   "execution_count": 140,
   "metadata": {
    "colab": {},
    "colab_type": "code",
    "deletable": false,
    "id": "OohoTcsYBheo"
   },
   "outputs": [],
   "source": [
    "moscow_genres = moscow_general.groupby('genre_name')['genre_name'].count().sort_values(ascending = False)"
   ]
  },
  {
   "cell_type": "code",
   "execution_count": 141,
   "metadata": {
    "colab": {},
    "colab_type": "code",
    "deletable": false,
    "id": "h7IhIKDrBher"
   },
   "outputs": [
    {
     "name": "stdout",
     "output_type": "stream",
     "text": [
      "genre_name\n",
      "pop            5892\n",
      "dance          4435\n",
      "rock           3965\n",
      "electronic     3786\n",
      "hiphop         2096\n",
      "classical      1616\n",
      "world          1432\n",
      "alternative    1379\n",
      "ruspop         1372\n",
      "rusrap         1161\n",
      "Name: genre_name, dtype: int64\n"
     ]
    }
   ],
   "source": [
    "print(moscow_genres.head(10))"
   ]
  },
  {
   "cell_type": "markdown",
   "metadata": {
    "colab_type": "text",
    "deletable": false,
    "id": "gjnf0lol2fUy",
    "tags": [
     "f7503a48-1b28-483d-9f7b-bae79fb182b5"
    ]
   },
   "source": [
    "Сгруппирую таблицу *spb_general* по жанру, сосчитаю численность композиций каждого жанра методом *count()*, отсортирую в порядке убывания и сохраню результат в таблице *spb_genres*.\n",
    "\n",
    "Просмотрю первые 10 строк этой таблицы. Теперь можно сравнивать два города."
   ]
  },
  {
   "cell_type": "code",
   "execution_count": 142,
   "metadata": {
    "colab": {},
    "colab_type": "code",
    "deletable": false,
    "id": "eQrdA85dB1LO"
   },
   "outputs": [],
   "source": [
    "spb_genres = spb_general.groupby('genre_name')['genre_name'].count().sort_values(ascending = False)"
   ]
  },
  {
   "cell_type": "code",
   "execution_count": 143,
   "metadata": {
    "colab": {},
    "colab_type": "code",
    "deletable": false,
    "id": "AE-Z-1wCB1LS"
   },
   "outputs": [
    {
     "name": "stdout",
     "output_type": "stream",
     "text": [
      "genre_name\n",
      "pop            2431\n",
      "dance          1932\n",
      "rock           1879\n",
      "electronic     1736\n",
      "hiphop          960\n",
      "alternative     649\n",
      "classical       646\n",
      "rusrap          564\n",
      "ruspop          538\n",
      "world           515\n",
      "Name: genre_name, dtype: int64\n"
     ]
    }
   ],
   "source": [
    "print(spb_genres.head(10))"
   ]
  },
  {
   "cell_type": "markdown",
   "metadata": {
    "colab_type": "text",
    "deletable": false,
    "id": "J5E-kLgK2piO"
   },
   "source": [
    "**Вывод**"
   ]
  },
  {
   "cell_type": "markdown",
   "metadata": {
    "colab_type": "text",
    "deletable": false,
    "id": "-9R3-Qh02tNt"
   },
   "source": [
    "В Москве, кроме абсолютно популярного жанра поп, есть направление русской популярной музыки. Значит, что интерес к этому жанру шире. А рэп, вопреки предположению, занимает в обоих городах близкие позиции."
   ]
  },
  {
   "cell_type": "markdown",
   "metadata": {
    "colab_type": "text",
    "deletable": false,
    "id": "gLlT9nKMQ3ky",
    "tags": [
     "0d44c8c0-390b-4c9e-b797-ddc3993f6e58"
    ]
   },
   "source": [
    "# Шаг 4. Результаты исследования\n"
   ]
  },
  {
   "cell_type": "markdown",
   "metadata": {
    "colab_type": "text",
    "deletable": false,
    "id": "GtvyRBbD7dv5"
   },
   "source": [
    "Рабочие гипотезы:\n",
    "\n",
    "* музыку в двух городах — Москве и Санкт-Петербурге — слушают в разном режиме;\n",
    "\n",
    "* списки десяти самых популярных жанров утром в понедельник и вечером в пятницу имеют характерные отличия;\n",
    "\n",
    "* население двух городов предпочитает разные музыкальные жанры.\n",
    "\n",
    "**Общие результаты**\n",
    "\n",
    "Москва и Петербург сходятся во вкусах: везде преобладает популярная музыка. При этом зависимости предпочтений от дня недели в каждом отдельном городе нет — люди постоянно слушают то, что им нравится. Но между городами в разрезе дней неделей наблюдается зеркальность относительно среды: Москва больше слушает в понедельник и пятницу, а Петербург наоборот - больше в среду, но меньше в понедельник и пятницу.\n",
    "\n",
    "В результате первая гипотеза подтверждена, вторая гипотеза подтверждена и третья - не подтверждена."
   ]
  },
  {
   "cell_type": "code",
   "execution_count": null,
   "metadata": {},
   "outputs": [],
   "source": []
  }
 ],
 "metadata": {
  "ExecuteTimeLog": [
   {
    "duration": 402,
    "start_time": "2023-11-30T09:07:24.978Z"
   },
   {
    "duration": 337,
    "start_time": "2023-11-30T09:07:26.365Z"
   },
   {
    "duration": 209,
    "start_time": "2023-11-30T09:08:01.893Z"
   },
   {
    "duration": 12,
    "start_time": "2023-11-30T09:08:15.394Z"
   },
   {
    "duration": 66,
    "start_time": "2023-11-30T09:08:22.676Z"
   },
   {
    "duration": 3,
    "start_time": "2023-11-30T09:10:01.345Z"
   },
   {
    "duration": 3,
    "start_time": "2023-11-30T09:11:49.681Z"
   },
   {
    "duration": 3,
    "start_time": "2023-11-30T09:11:50.757Z"
   },
   {
    "duration": 4,
    "start_time": "2023-11-30T09:11:51.282Z"
   },
   {
    "duration": 54,
    "start_time": "2023-11-30T09:11:56.566Z"
   },
   {
    "duration": 17,
    "start_time": "2023-11-30T09:12:30.678Z"
   },
   {
    "duration": 15,
    "start_time": "2023-11-30T09:12:31.128Z"
   },
   {
    "duration": 51,
    "start_time": "2023-11-30T09:12:31.629Z"
   },
   {
    "duration": 19,
    "start_time": "2023-11-30T09:13:05.636Z"
   },
   {
    "duration": 48,
    "start_time": "2023-11-30T09:13:09.236Z"
   },
   {
    "duration": 81,
    "start_time": "2023-11-30T09:13:57.993Z"
   },
   {
    "duration": 89,
    "start_time": "2023-11-30T09:14:03.093Z"
   },
   {
    "duration": 62,
    "start_time": "2023-11-30T09:14:06.644Z"
   },
   {
    "duration": 12,
    "start_time": "2023-11-30T09:15:03.015Z"
   },
   {
    "duration": 66,
    "start_time": "2023-11-30T09:16:44.832Z"
   },
   {
    "duration": 4,
    "start_time": "2023-11-30T09:16:48.139Z"
   },
   {
    "duration": 4,
    "start_time": "2023-11-30T09:16:52.640Z"
   },
   {
    "duration": 4,
    "start_time": "2023-11-30T09:16:53.994Z"
   },
   {
    "duration": 4,
    "start_time": "2023-11-30T09:16:58.827Z"
   },
   {
    "duration": 3,
    "start_time": "2023-11-30T09:17:01.983Z"
   },
   {
    "duration": 29,
    "start_time": "2023-11-30T09:19:45.738Z"
   },
   {
    "duration": 12,
    "start_time": "2023-11-30T09:21:18.336Z"
   },
   {
    "duration": 8,
    "start_time": "2023-11-30T09:24:54.143Z"
   },
   {
    "duration": 3,
    "start_time": "2023-11-30T09:24:56.379Z"
   },
   {
    "duration": 16,
    "start_time": "2023-11-30T09:24:56.640Z"
   },
   {
    "duration": 14,
    "start_time": "2023-11-30T09:25:01.460Z"
   },
   {
    "duration": 14,
    "start_time": "2023-11-30T09:25:11.203Z"
   },
   {
    "duration": 14,
    "start_time": "2023-11-30T09:25:15.381Z"
   },
   {
    "duration": 16,
    "start_time": "2023-11-30T09:25:19.430Z"
   },
   {
    "duration": 24,
    "start_time": "2023-11-30T09:25:23.464Z"
   },
   {
    "duration": 10,
    "start_time": "2023-11-30T09:25:35.665Z"
   },
   {
    "duration": 10,
    "start_time": "2023-11-30T09:25:55.038Z"
   },
   {
    "duration": 9,
    "start_time": "2023-11-30T09:26:52.240Z"
   },
   {
    "duration": 9,
    "start_time": "2023-11-30T09:27:50.778Z"
   },
   {
    "duration": 7,
    "start_time": "2023-11-30T09:29:51.651Z"
   },
   {
    "duration": 4,
    "start_time": "2023-11-30T09:29:54.585Z"
   },
   {
    "duration": 6,
    "start_time": "2023-11-30T09:29:54.969Z"
   },
   {
    "duration": 11,
    "start_time": "2023-11-30T09:29:59.623Z"
   },
   {
    "duration": 11,
    "start_time": "2023-11-30T09:29:59.807Z"
   },
   {
    "duration": 3,
    "start_time": "2023-11-30T09:30:00.354Z"
   },
   {
    "duration": 32,
    "start_time": "2023-11-30T09:30:00.819Z"
   },
   {
    "duration": 20,
    "start_time": "2023-11-30T09:30:01.242Z"
   },
   {
    "duration": 18,
    "start_time": "2023-11-30T09:30:06.435Z"
   },
   {
    "duration": 24,
    "start_time": "2023-11-30T09:30:11.867Z"
   },
   {
    "duration": 17,
    "start_time": "2023-11-30T09:30:18.528Z"
   },
   {
    "duration": 8,
    "start_time": "2023-11-30T09:31:15.596Z"
   },
   {
    "duration": 3,
    "start_time": "2023-11-30T09:31:15.840Z"
   },
   {
    "duration": 7,
    "start_time": "2023-11-30T09:31:57.343Z"
   },
   {
    "duration": 6,
    "start_time": "2023-11-30T09:31:59.974Z"
   },
   {
    "duration": 4,
    "start_time": "2023-11-30T09:32:00.277Z"
   },
   {
    "duration": 2,
    "start_time": "2023-11-30T09:32:35.044Z"
   },
   {
    "duration": 207,
    "start_time": "2023-11-30T09:32:35.048Z"
   },
   {
    "duration": 7,
    "start_time": "2023-11-30T09:32:35.256Z"
   },
   {
    "duration": 59,
    "start_time": "2023-11-30T09:32:35.264Z"
   },
   {
    "duration": 24,
    "start_time": "2023-11-30T09:32:35.325Z"
   },
   {
    "duration": 10,
    "start_time": "2023-11-30T09:32:35.351Z"
   },
   {
    "duration": 23,
    "start_time": "2023-11-30T09:32:35.362Z"
   },
   {
    "duration": 66,
    "start_time": "2023-11-30T09:32:35.387Z"
   },
   {
    "duration": 32,
    "start_time": "2023-11-30T09:32:35.454Z"
   },
   {
    "duration": 33,
    "start_time": "2023-11-30T09:32:35.488Z"
   },
   {
    "duration": 67,
    "start_time": "2023-11-30T09:32:35.523Z"
   },
   {
    "duration": 26,
    "start_time": "2023-11-30T09:32:35.592Z"
   },
   {
    "duration": 54,
    "start_time": "2023-11-30T09:32:35.620Z"
   },
   {
    "duration": 84,
    "start_time": "2023-11-30T09:32:35.677Z"
   },
   {
    "duration": 73,
    "start_time": "2023-11-30T09:32:35.762Z"
   },
   {
    "duration": 63,
    "start_time": "2023-11-30T09:32:35.837Z"
   },
   {
    "duration": 7,
    "start_time": "2023-11-30T09:32:35.902Z"
   },
   {
    "duration": 37,
    "start_time": "2023-11-30T09:32:35.910Z"
   },
   {
    "duration": 32,
    "start_time": "2023-11-30T09:32:35.948Z"
   },
   {
    "duration": 37,
    "start_time": "2023-11-30T09:32:35.981Z"
   },
   {
    "duration": 29,
    "start_time": "2023-11-30T09:32:36.019Z"
   },
   {
    "duration": 47,
    "start_time": "2023-11-30T09:32:36.050Z"
   },
   {
    "duration": 35,
    "start_time": "2023-11-30T09:32:36.098Z"
   },
   {
    "duration": 25,
    "start_time": "2023-11-30T09:32:36.134Z"
   },
   {
    "duration": 31,
    "start_time": "2023-11-30T09:32:36.160Z"
   },
   {
    "duration": 15,
    "start_time": "2023-11-30T09:32:36.192Z"
   },
   {
    "duration": 30,
    "start_time": "2023-11-30T09:32:36.208Z"
   },
   {
    "duration": 25,
    "start_time": "2023-11-30T09:32:36.240Z"
   },
   {
    "duration": 43,
    "start_time": "2023-11-30T09:32:36.266Z"
   },
   {
    "duration": 24,
    "start_time": "2023-11-30T09:32:36.311Z"
   },
   {
    "duration": 24,
    "start_time": "2023-11-30T09:32:36.336Z"
   },
   {
    "duration": 21,
    "start_time": "2023-11-30T09:32:36.362Z"
   },
   {
    "duration": 24,
    "start_time": "2023-11-30T09:32:36.384Z"
   },
   {
    "duration": 52,
    "start_time": "2023-11-30T09:32:36.409Z"
   },
   {
    "duration": 28,
    "start_time": "2023-11-30T09:32:36.463Z"
   },
   {
    "duration": 25,
    "start_time": "2023-11-30T09:32:36.493Z"
   },
   {
    "duration": 50,
    "start_time": "2023-11-30T09:32:36.520Z"
   },
   {
    "duration": 17,
    "start_time": "2023-11-30T09:32:36.572Z"
   },
   {
    "duration": 43,
    "start_time": "2023-11-30T09:32:36.590Z"
   },
   {
    "duration": 23,
    "start_time": "2023-11-30T09:32:36.634Z"
   },
   {
    "duration": 9,
    "start_time": "2023-11-30T09:32:36.660Z"
   },
   {
    "duration": 23,
    "start_time": "2023-11-30T09:32:36.670Z"
   },
   {
    "duration": 27,
    "start_time": "2023-11-30T09:32:36.695Z"
   },
   {
    "duration": 33,
    "start_time": "2023-11-30T09:32:36.723Z"
   },
   {
    "duration": 3,
    "start_time": "2023-11-30T09:35:05.431Z"
   },
   {
    "duration": 215,
    "start_time": "2023-11-30T09:35:05.436Z"
   },
   {
    "duration": 7,
    "start_time": "2023-11-30T09:35:05.652Z"
   },
   {
    "duration": 46,
    "start_time": "2023-11-30T09:35:05.661Z"
   },
   {
    "duration": 4,
    "start_time": "2023-11-30T09:35:05.709Z"
   },
   {
    "duration": 8,
    "start_time": "2023-11-30T09:35:05.714Z"
   },
   {
    "duration": 11,
    "start_time": "2023-11-30T09:35:05.724Z"
   },
   {
    "duration": 65,
    "start_time": "2023-11-30T09:35:05.737Z"
   },
   {
    "duration": 22,
    "start_time": "2023-11-30T09:35:05.804Z"
   },
   {
    "duration": 10,
    "start_time": "2023-11-30T09:35:05.828Z"
   },
   {
    "duration": 79,
    "start_time": "2023-11-30T09:35:05.839Z"
   },
   {
    "duration": 18,
    "start_time": "2023-11-30T09:35:05.920Z"
   },
   {
    "duration": 60,
    "start_time": "2023-11-30T09:35:05.940Z"
   },
   {
    "duration": 83,
    "start_time": "2023-11-30T09:35:06.003Z"
   },
   {
    "duration": 100,
    "start_time": "2023-11-30T09:35:06.088Z"
   },
   {
    "duration": 72,
    "start_time": "2023-11-30T09:35:06.190Z"
   },
   {
    "duration": 8,
    "start_time": "2023-11-30T09:35:06.263Z"
   },
   {
    "duration": 4,
    "start_time": "2023-11-30T09:35:06.272Z"
   },
   {
    "duration": 9,
    "start_time": "2023-11-30T09:35:06.277Z"
   },
   {
    "duration": 5,
    "start_time": "2023-11-30T09:35:06.288Z"
   },
   {
    "duration": 5,
    "start_time": "2023-11-30T09:35:06.295Z"
   },
   {
    "duration": 17,
    "start_time": "2023-11-30T09:35:06.301Z"
   },
   {
    "duration": 60,
    "start_time": "2023-11-30T09:35:06.320Z"
   },
   {
    "duration": 11,
    "start_time": "2023-11-30T09:35:06.382Z"
   },
   {
    "duration": 11,
    "start_time": "2023-11-30T09:35:06.395Z"
   },
   {
    "duration": 4,
    "start_time": "2023-11-30T09:35:06.407Z"
   },
   {
    "duration": 46,
    "start_time": "2023-11-30T09:35:06.413Z"
   },
   {
    "duration": 14,
    "start_time": "2023-11-30T09:35:06.461Z"
   },
   {
    "duration": 16,
    "start_time": "2023-11-30T09:35:06.476Z"
   },
   {
    "duration": 16,
    "start_time": "2023-11-30T09:35:06.494Z"
   },
   {
    "duration": 17,
    "start_time": "2023-11-30T09:35:06.512Z"
   },
   {
    "duration": 15,
    "start_time": "2023-11-30T09:35:06.559Z"
   },
   {
    "duration": 7,
    "start_time": "2023-11-30T09:35:06.576Z"
   },
   {
    "duration": 20,
    "start_time": "2023-11-30T09:35:06.585Z"
   },
   {
    "duration": 20,
    "start_time": "2023-11-30T09:35:06.607Z"
   },
   {
    "duration": 3,
    "start_time": "2023-11-30T09:35:06.629Z"
   },
   {
    "duration": 47,
    "start_time": "2023-11-30T09:35:06.634Z"
   },
   {
    "duration": 18,
    "start_time": "2023-11-30T09:35:06.683Z"
   },
   {
    "duration": 26,
    "start_time": "2023-11-30T09:35:06.702Z"
   },
   {
    "duration": 42,
    "start_time": "2023-11-30T09:35:06.729Z"
   },
   {
    "duration": 9,
    "start_time": "2023-11-30T09:35:06.775Z"
   },
   {
    "duration": 42,
    "start_time": "2023-11-30T09:35:06.785Z"
   },
   {
    "duration": 7,
    "start_time": "2023-11-30T09:35:06.828Z"
   },
   {
    "duration": 34,
    "start_time": "2023-11-30T09:35:06.836Z"
   }
  ],
  "kernelspec": {
   "display_name": "Python 3 (ipykernel)",
   "language": "python",
   "name": "python3"
  },
  "language_info": {
   "codemirror_mode": {
    "name": "ipython",
    "version": 3
   },
   "file_extension": ".py",
   "mimetype": "text/x-python",
   "name": "python",
   "nbconvert_exporter": "python",
   "pygments_lexer": "ipython3",
   "version": "3.9.5"
  },
  "toc": {
   "base_numbering": 1,
   "nav_menu": {},
   "number_sections": true,
   "sideBar": true,
   "skip_h1_title": true,
   "title_cell": "Table of Contents",
   "title_sidebar": "Contents",
   "toc_cell": false,
   "toc_position": {},
   "toc_section_display": true,
   "toc_window_display": false
  }
 },
 "nbformat": 4,
 "nbformat_minor": 1
}
