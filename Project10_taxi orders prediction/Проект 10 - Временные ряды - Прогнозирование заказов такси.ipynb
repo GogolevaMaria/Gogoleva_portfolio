{
 "cells": [
  {
   "cell_type": "markdown",
   "metadata": {},
   "source": [
    "#  Прогнозирование заказов такси"
   ]
  },
  {
   "cell_type": "markdown",
   "metadata": {},
   "source": [
    "Компания «Чётенькое такси» собрала исторические данные о заказах такси в аэропортах. Чтобы привлекать больше водителей в период пиковой нагрузки, нужно спрогнозировать количество заказов такси на следующий час. \n",
    "Значение метрики *RMSE* на тестовой выборке должно быть не больше 48."
   ]
  },
  {
   "cell_type": "markdown",
   "metadata": {},
   "source": [
    "## Подготовка"
   ]
  },
  {
   "cell_type": "markdown",
   "metadata": {},
   "source": [
    "**Импортируем библиотеки:**"
   ]
  },
  {
   "cell_type": "code",
   "execution_count": 1,
   "metadata": {},
   "outputs": [],
   "source": [
    "import pandas as pd\n",
    "import numpy as np\n",
    "import datetime as dt\n",
    "import matplotlib.pyplot as plt\n",
    "import seaborn as sns\n",
    "import time\n",
    "import lightgbm as lgbm\n",
    "from lightgbm import LGBMRegressor\n",
    "from sklearn.metrics import mean_squared_error\n",
    "from sklearn.model_selection import train_test_split, cross_validate, GridSearchCV, cross_val_score\n",
    "from sklearn.linear_model import LinearRegression\n",
    "from sklearn.tree import DecisionTreeRegressor\n",
    "from sklearn.ensemble import RandomForestRegressor\n",
    "from sklearn.model_selection import GridSearchCV\n",
    "from sklearn.model_selection import train_test_split\n",
    "from sklearn.preprocessing import StandardScaler"
   ]
  },
  {
   "cell_type": "markdown",
   "metadata": {},
   "source": [
    "**Загружаю данные:**"
   ]
  },
  {
   "cell_type": "code",
   "execution_count": 2,
   "metadata": {},
   "outputs": [],
   "source": [
    "df = pd.read_csv('/datasets/taxi.csv', index_col=[0], parse_dates=[0])"
   ]
  },
  {
   "cell_type": "markdown",
   "metadata": {},
   "source": [
    "Количество заказов находится в столбце 'num_orders' (от англ. number of orders, «число заказов»)."
   ]
  },
  {
   "cell_type": "code",
   "execution_count": 3,
   "metadata": {},
   "outputs": [],
   "source": [
    "df.sort_index(inplace=True)"
   ]
  },
  {
   "cell_type": "code",
   "execution_count": 4,
   "metadata": {},
   "outputs": [
    {
     "name": "stdout",
     "output_type": "stream",
     "text": [
      "<class 'pandas.core.frame.DataFrame'>\n",
      "DatetimeIndex: 26496 entries, 2018-03-01 00:00:00 to 2018-08-31 23:50:00\n",
      "Data columns (total 1 columns):\n",
      " #   Column      Non-Null Count  Dtype\n",
      "---  ------      --------------  -----\n",
      " 0   num_orders  26496 non-null  int64\n",
      "dtypes: int64(1)\n",
      "memory usage: 414.0 KB\n"
     ]
    }
   ],
   "source": [
    "df.info()"
   ]
  },
  {
   "cell_type": "markdown",
   "metadata": {},
   "source": [
    "**Выполню ресемплирвоание данных по часу:**"
   ]
  },
  {
   "cell_type": "code",
   "execution_count": 5,
   "metadata": {},
   "outputs": [],
   "source": [
    "df = df.resample('1H').sum()"
   ]
  },
  {
   "cell_type": "markdown",
   "metadata": {},
   "source": [
    "**Проверю количество пропусков:**"
   ]
  },
  {
   "cell_type": "code",
   "execution_count": 6,
   "metadata": {},
   "outputs": [
    {
     "name": "stdout",
     "output_type": "stream",
     "text": [
      "Количество пропусков:\n",
      "num_orders    0\n",
      "dtype: int64\n"
     ]
    }
   ],
   "source": [
    "print('Количество пропусков:')\n",
    "print(df.isna().sum())"
   ]
  },
  {
   "cell_type": "markdown",
   "metadata": {},
   "source": [
    "**Удаляю дубликаты:**"
   ]
  },
  {
   "cell_type": "code",
   "execution_count": 7,
   "metadata": {},
   "outputs": [
    {
     "name": "stdout",
     "output_type": "stream",
     "text": [
      "(251, 1)\n"
     ]
    }
   ],
   "source": [
    "df = df.drop_duplicates()\n",
    "print(df.shape)"
   ]
  },
  {
   "cell_type": "markdown",
   "metadata": {},
   "source": [
    "**Построю график распределения значения для поля \"num_orders\"**"
   ]
  },
  {
   "cell_type": "code",
   "execution_count": 8,
   "metadata": {
    "scrolled": false
   },
   "outputs": [
    {
     "name": "stderr",
     "output_type": "stream",
     "text": [
      "/opt/conda/lib/python3.9/site-packages/seaborn/_decorators.py:36: FutureWarning: Pass the following variable as a keyword arg: x. From version 0.12, the only valid positional argument will be `data`, and passing other arguments without an explicit keyword will result in an error or misinterpretation.\n",
      "  warnings.warn(\n"
     ]
    },
    {
     "data": {
      "text/plain": [
       "Text(0.5, 1.0, 'Распределение количества заказов')"
      ]
     },
     "execution_count": 8,
     "metadata": {},
     "output_type": "execute_result"
    },
    {
     "data": {
      "image/png": "[encoded data removed]",
      "text/plain": [
       "<Figure size 432x288 with 1 Axes>"
      ]
     },
     "metadata": {
      "needs_background": "light"
     },
     "output_type": "display_data"
    }
   ],
   "source": [
    "ax = sns.violinplot(df['num_orders'])\n",
    "plt.title(\"Распределение количества заказов\")"
   ]
  },
  {
   "cell_type": "code",
   "execution_count": 9,
   "metadata": {},
   "outputs": [],
   "source": [
    "df = df.query('num_orders <= 400')"
   ]
  },
  {
   "cell_type": "markdown",
   "metadata": {},
   "source": [
    "Удалю аномально большие значения количества заказов."
   ]
  },
  {
   "cell_type": "markdown",
   "metadata": {},
   "source": [
    "**Проверю типы данных:**"
   ]
  },
  {
   "cell_type": "code",
   "execution_count": 10,
   "metadata": {
    "scrolled": true
   },
   "outputs": [
    {
     "name": "stdout",
     "output_type": "stream",
     "text": [
      "num_orders    int64\n",
      "dtype: object\n"
     ]
    }
   ],
   "source": [
    "print(df.dtypes)"
   ]
  },
  {
   "cell_type": "markdown",
   "metadata": {},
   "source": [
    "## Анализ"
   ]
  },
  {
   "cell_type": "markdown",
   "metadata": {},
   "source": [
    "**Добавлю признаки**"
   ]
  },
  {
   "cell_type": "code",
   "execution_count": 11,
   "metadata": {},
   "outputs": [],
   "source": [
    "def make_features(df, max_lag, rolling_mean_size):\n",
    "    df['month'] = df.index.month\n",
    "    df['day'] = df.index.day\n",
    "    df['dayofweek'] = df.index.dayofweek\n",
    "    \n",
    "    for lag in range(1, max_lag + 1):\n",
    "        df['lag_{}'.format(lag)] = df['num_orders'].shift(lag)\n",
    "\n",
    "    df['rolling_mean'] = df['num_orders'].shift().rolling(rolling_mean_size).mean()"
   ]
  },
  {
   "cell_type": "code",
   "execution_count": 12,
   "metadata": {},
   "outputs": [],
   "source": [
    "make_features(df, 3, 10)"
   ]
  },
  {
   "cell_type": "code",
   "execution_count": 13,
   "metadata": {},
   "outputs": [
    {
     "data": {
      "text/html": [
       "<div>\n",
       "<style scoped>\n",
       "    .dataframe tbody tr th:only-of-type {\n",
       "        vertical-align: middle;\n",
       "    }\n",
       "\n",
       "    .dataframe tbody tr th {\n",
       "        vertical-align: top;\n",
       "    }\n",
       "\n",
       "    .dataframe thead th {\n",
       "        text-align: right;\n",
       "    }\n",
       "</style>\n",
       "<table border=\"1\" class=\"dataframe\">\n",
       "  <thead>\n",
       "    <tr style=\"text-align: right;\">\n",
       "      <th></th>\n",
       "      <th>num_orders</th>\n",
       "      <th>month</th>\n",
       "      <th>day</th>\n",
       "      <th>dayofweek</th>\n",
       "      <th>lag_1</th>\n",
       "      <th>lag_2</th>\n",
       "      <th>lag_3</th>\n",
       "      <th>rolling_mean</th>\n",
       "    </tr>\n",
       "    <tr>\n",
       "      <th>datetime</th>\n",
       "      <th></th>\n",
       "      <th></th>\n",
       "      <th></th>\n",
       "      <th></th>\n",
       "      <th></th>\n",
       "      <th></th>\n",
       "      <th></th>\n",
       "      <th></th>\n",
       "    </tr>\n",
       "  </thead>\n",
       "  <tbody>\n",
       "    <tr>\n",
       "      <th>2018-03-01 00:00:00</th>\n",
       "      <td>124</td>\n",
       "      <td>3</td>\n",
       "      <td>1</td>\n",
       "      <td>3</td>\n",
       "      <td>NaN</td>\n",
       "      <td>NaN</td>\n",
       "      <td>NaN</td>\n",
       "      <td>NaN</td>\n",
       "    </tr>\n",
       "    <tr>\n",
       "      <th>2018-03-01 01:00:00</th>\n",
       "      <td>85</td>\n",
       "      <td>3</td>\n",
       "      <td>1</td>\n",
       "      <td>3</td>\n",
       "      <td>124.0</td>\n",
       "      <td>NaN</td>\n",
       "      <td>NaN</td>\n",
       "      <td>NaN</td>\n",
       "    </tr>\n",
       "    <tr>\n",
       "      <th>2018-03-01 02:00:00</th>\n",
       "      <td>71</td>\n",
       "      <td>3</td>\n",
       "      <td>1</td>\n",
       "      <td>3</td>\n",
       "      <td>85.0</td>\n",
       "      <td>124.0</td>\n",
       "      <td>NaN</td>\n",
       "      <td>NaN</td>\n",
       "    </tr>\n",
       "    <tr>\n",
       "      <th>2018-03-01 03:00:00</th>\n",
       "      <td>66</td>\n",
       "      <td>3</td>\n",
       "      <td>1</td>\n",
       "      <td>3</td>\n",
       "      <td>71.0</td>\n",
       "      <td>85.0</td>\n",
       "      <td>124.0</td>\n",
       "      <td>NaN</td>\n",
       "    </tr>\n",
       "    <tr>\n",
       "      <th>2018-03-01 04:00:00</th>\n",
       "      <td>43</td>\n",
       "      <td>3</td>\n",
       "      <td>1</td>\n",
       "      <td>3</td>\n",
       "      <td>66.0</td>\n",
       "      <td>71.0</td>\n",
       "      <td>85.0</td>\n",
       "      <td>NaN</td>\n",
       "    </tr>\n",
       "    <tr>\n",
       "      <th>...</th>\n",
       "      <td>...</td>\n",
       "      <td>...</td>\n",
       "      <td>...</td>\n",
       "      <td>...</td>\n",
       "      <td>...</td>\n",
       "      <td>...</td>\n",
       "      <td>...</td>\n",
       "      <td>...</td>\n",
       "    </tr>\n",
       "    <tr>\n",
       "      <th>2018-08-30 10:00:00</th>\n",
       "      <td>227</td>\n",
       "      <td>8</td>\n",
       "      <td>30</td>\n",
       "      <td>3</td>\n",
       "      <td>232.0</td>\n",
       "      <td>217.0</td>\n",
       "      <td>265.0</td>\n",
       "      <td>239.4</td>\n",
       "    </tr>\n",
       "    <tr>\n",
       "      <th>2018-08-30 17:00:00</th>\n",
       "      <td>342</td>\n",
       "      <td>8</td>\n",
       "      <td>30</td>\n",
       "      <td>3</td>\n",
       "      <td>227.0</td>\n",
       "      <td>232.0</td>\n",
       "      <td>217.0</td>\n",
       "      <td>235.4</td>\n",
       "    </tr>\n",
       "    <tr>\n",
       "      <th>2018-08-31 00:00:00</th>\n",
       "      <td>276</td>\n",
       "      <td>8</td>\n",
       "      <td>31</td>\n",
       "      <td>4</td>\n",
       "      <td>342.0</td>\n",
       "      <td>227.0</td>\n",
       "      <td>232.0</td>\n",
       "      <td>245.8</td>\n",
       "    </tr>\n",
       "    <tr>\n",
       "      <th>2018-08-31 04:00:00</th>\n",
       "      <td>268</td>\n",
       "      <td>8</td>\n",
       "      <td>31</td>\n",
       "      <td>4</td>\n",
       "      <td>276.0</td>\n",
       "      <td>342.0</td>\n",
       "      <td>227.0</td>\n",
       "      <td>247.1</td>\n",
       "    </tr>\n",
       "    <tr>\n",
       "      <th>2018-08-31 18:00:00</th>\n",
       "      <td>207</td>\n",
       "      <td>8</td>\n",
       "      <td>31</td>\n",
       "      <td>4</td>\n",
       "      <td>268.0</td>\n",
       "      <td>276.0</td>\n",
       "      <td>342.0</td>\n",
       "      <td>253.1</td>\n",
       "    </tr>\n",
       "  </tbody>\n",
       "</table>\n",
       "<p>248 rows × 8 columns</p>\n",
       "</div>"
      ],
      "text/plain": [
       "                     num_orders  month  day  dayofweek  lag_1  lag_2  lag_3  \\\n",
       "datetime                                                                      \n",
       "2018-03-01 00:00:00         124      3    1          3    NaN    NaN    NaN   \n",
       "2018-03-01 01:00:00          85      3    1          3  124.0    NaN    NaN   \n",
       "2018-03-01 02:00:00          71      3    1          3   85.0  124.0    NaN   \n",
       "2018-03-01 03:00:00          66      3    1          3   71.0   85.0  124.0   \n",
       "2018-03-01 04:00:00          43      3    1          3   66.0   71.0   85.0   \n",
       "...                         ...    ...  ...        ...    ...    ...    ...   \n",
       "2018-08-30 10:00:00         227      8   30          3  232.0  217.0  265.0   \n",
       "2018-08-30 17:00:00         342      8   30          3  227.0  232.0  217.0   \n",
       "2018-08-31 00:00:00         276      8   31          4  342.0  227.0  232.0   \n",
       "2018-08-31 04:00:00         268      8   31          4  276.0  342.0  227.0   \n",
       "2018-08-31 18:00:00         207      8   31          4  268.0  276.0  342.0   \n",
       "\n",
       "                     rolling_mean  \n",
       "datetime                           \n",
       "2018-03-01 00:00:00           NaN  \n",
       "2018-03-01 01:00:00           NaN  \n",
       "2018-03-01 02:00:00           NaN  \n",
       "2018-03-01 03:00:00           NaN  \n",
       "2018-03-01 04:00:00           NaN  \n",
       "...                           ...  \n",
       "2018-08-30 10:00:00         239.4  \n",
       "2018-08-30 17:00:00         235.4  \n",
       "2018-08-31 00:00:00         245.8  \n",
       "2018-08-31 04:00:00         247.1  \n",
       "2018-08-31 18:00:00         253.1  \n",
       "\n",
       "[248 rows x 8 columns]"
      ]
     },
     "execution_count": 13,
     "metadata": {},
     "output_type": "execute_result"
    }
   ],
   "source": [
    "df"
   ]
  },
  {
   "cell_type": "markdown",
   "metadata": {},
   "source": [
    "**Построю графики распределения признаков**"
   ]
  },
  {
   "cell_type": "code",
   "execution_count": 14,
   "metadata": {
    "scrolled": false
   },
   "outputs": [
    {
     "data": {
      "text/plain": [
       "Text(0.5, 1.0, 'Распределение количества заказов за весь период')"
      ]
     },
     "execution_count": 14,
     "metadata": {},
     "output_type": "execute_result"
    },
    {
     "data": {
      "image/png": "[encoded data removed]",
      "text/plain": [
       "<Figure size 432x288 with 1 Axes>"
      ]
     },
     "metadata": {
      "needs_background": "light"
     },
     "output_type": "display_data"
    }
   ],
   "source": [
    "df['num_orders'].plot()\n",
    "plt.title(\"Распределение количества заказов за весь период\")"
   ]
  },
  {
   "cell_type": "markdown",
   "metadata": {},
   "source": [
    "Количество заказов возрастает в летние месяцы и существенно увеличивается к концу лета. Скорее всего это связано с тем, что много людей возвращаются из отпусков."
   ]
  },
  {
   "cell_type": "markdown",
   "metadata": {},
   "source": [
    "**Проведу анализ признаков на сезонность**"
   ]
  },
  {
   "cell_type": "markdown",
   "metadata": {},
   "source": [
    "***Месяц***"
   ]
  },
  {
   "cell_type": "code",
   "execution_count": 15,
   "metadata": {},
   "outputs": [],
   "source": [
    "df_m = df.resample('1M').sum()"
   ]
  },
  {
   "cell_type": "code",
   "execution_count": 16,
   "metadata": {
    "scrolled": false
   },
   "outputs": [
    {
     "data": {
      "text/plain": [
       "Text(0.5, 1.0, 'Распределение количества заказов по месяцам')"
      ]
     },
     "execution_count": 16,
     "metadata": {},
     "output_type": "execute_result"
    },
    {
     "data": {
      "image/png": "[encoded data removed]",
      "text/plain": [
       "<Figure size 432x288 with 1 Axes>"
      ]
     },
     "metadata": {
      "needs_background": "light"
     },
     "output_type": "display_data"
    }
   ],
   "source": [
    "df_m.plot()\n",
    "plt.title(\"Распределение количества заказов по месяцам\")"
   ]
  },
  {
   "cell_type": "markdown",
   "metadata": {},
   "source": [
    "Количество заказов увеличивается к концу лето, это и понятно, люди возвращаются из отпуска."
   ]
  },
  {
   "cell_type": "markdown",
   "metadata": {},
   "source": [
    "***Неделя***"
   ]
  },
  {
   "cell_type": "code",
   "execution_count": 17,
   "metadata": {},
   "outputs": [],
   "source": [
    "df_n = df.resample('7D').sum()"
   ]
  },
  {
   "cell_type": "code",
   "execution_count": 18,
   "metadata": {
    "scrolled": true
   },
   "outputs": [
    {
     "data": {
      "text/plain": [
       "Text(0.5, 1.0, 'Распределение количества заказов по неделям')"
      ]
     },
     "execution_count": 18,
     "metadata": {},
     "output_type": "execute_result"
    },
    {
     "data": {
      "image/png": "[encoded data removed]",
      "text/plain": [
       "<Figure size 432x288 with 1 Axes>"
      ]
     },
     "metadata": {
      "needs_background": "light"
     },
     "output_type": "display_data"
    }
   ],
   "source": [
    "df_n.plot()\n",
    "plt.title(\"Распределение количества заказов по неделям\")"
   ]
  },
  {
   "cell_type": "markdown",
   "metadata": {},
   "source": [
    "***День***"
   ]
  },
  {
   "cell_type": "code",
   "execution_count": 19,
   "metadata": {},
   "outputs": [],
   "source": [
    "df_d = df.resample('1D').sum()"
   ]
  },
  {
   "cell_type": "code",
   "execution_count": 20,
   "metadata": {
    "scrolled": true
   },
   "outputs": [
    {
     "data": {
      "text/plain": [
       "Text(0.5, 1.0, 'Распределение количества заказов по дням')"
      ]
     },
     "execution_count": 20,
     "metadata": {},
     "output_type": "execute_result"
    },
    {
     "data": {
      "image/png": "[encoded data removed]",
      "text/plain": [
       "<Figure size 432x288 with 1 Axes>"
      ]
     },
     "metadata": {
      "needs_background": "light"
     },
     "output_type": "display_data"
    }
   ],
   "source": [
    "df_d.plot()\n",
    "plt.title(\"Распределение количества заказов по дням\")"
   ]
  },
  {
   "cell_type": "markdown",
   "metadata": {},
   "source": [
    "**Час**"
   ]
  },
  {
   "cell_type": "code",
   "execution_count": 21,
   "metadata": {},
   "outputs": [],
   "source": [
    "df_h = df.resample('1H').sum()"
   ]
  },
  {
   "cell_type": "code",
   "execution_count": 22,
   "metadata": {
    "scrolled": true
   },
   "outputs": [
    {
     "data": {
      "text/plain": [
       "Text(0.5, 1.0, 'Распределение количества заказов в течение дня')"
      ]
     },
     "execution_count": 22,
     "metadata": {},
     "output_type": "execute_result"
    },
    {
     "data": {
      "image/png": "[encoded data removed]",
      "text/plain": [
       "<Figure size 432x288 with 1 Axes>"
      ]
     },
     "metadata": {
      "needs_background": "light"
     },
     "output_type": "display_data"
    }
   ],
   "source": [
    "df_h['2018-03-07':'2018-03-08'].plot()\n",
    "plt.title(\"Распределение количества заказов в течение дня\")"
   ]
  },
  {
   "cell_type": "markdown",
   "metadata": {},
   "source": [
    "Если бы это было обычное такси, то распределение выглядит так: с утра на работу, вечером с работы, в обед - по делам. А ночью - с вечеринки. Кажется, так.\n",
    "А так как это заказы из аэропорта, то может тоже с рабочим графиком синхронизируются вызовы..."
   ]
  },
  {
   "cell_type": "code",
   "execution_count": 3,
   "metadata": {},
   "outputs": [
    {
     "data": {
      "text/plain": [
       "<AxesSubplot:xlabel='datetime'>"
      ]
     },
     "execution_count": 3,
     "metadata": {},
     "output_type": "execute_result"
    },
    {
     "data": {
      "image/png": "[encoded data removed]",
      "text/plain": [
       "<Figure size 432x288 with 1 Axes>"
      ]
     },
     "metadata": {
      "needs_background": "light"
     },
     "output_type": "display_data"
    }
   ],
   "source": [
    "from statsmodels.tsa.seasonal import seasonal_decompose\n",
    "data = df['2018-03':'2018-09'].resample('1D').sum()\n",
    "\n",
    "decomposed = seasonal_decompose(data)\n",
    "decomposed.seasonal['2018-03-01':'2018-03-15'].plot()"
   ]
  },
  {
   "cell_type": "markdown",
   "metadata": {},
   "source": [
    "Максимальное количество вызовов такси наблюдается в первые дни недели: как правило, это понедельник. Это понятно, люди используют выходные по максимуму: съездили отдохнуть и возвращаются на работу."
   ]
  },
  {
   "cell_type": "markdown",
   "metadata": {},
   "source": [
    "**Разобью данные на выборки:**"
   ]
  },
  {
   "cell_type": "code",
   "execution_count": 24,
   "metadata": {},
   "outputs": [
    {
     "name": "stdout",
     "output_type": "stream",
     "text": [
      "<class 'pandas.core.frame.DataFrame'>\n",
      "DatetimeIndex: 248 entries, 2018-03-01 00:00:00 to 2018-08-31 18:00:00\n",
      "Data columns (total 8 columns):\n",
      " #   Column        Non-Null Count  Dtype  \n",
      "---  ------        --------------  -----  \n",
      " 0   num_orders    248 non-null    int64  \n",
      " 1   month         248 non-null    int64  \n",
      " 2   day           248 non-null    int64  \n",
      " 3   dayofweek     248 non-null    int64  \n",
      " 4   lag_1         247 non-null    float64\n",
      " 5   lag_2         246 non-null    float64\n",
      " 6   lag_3         245 non-null    float64\n",
      " 7   rolling_mean  238 non-null    float64\n",
      "dtypes: float64(4), int64(4)\n",
      "memory usage: 25.5 KB\n"
     ]
    }
   ],
   "source": [
    "df.info()"
   ]
  },
  {
   "cell_type": "code",
   "execution_count": 25,
   "metadata": {},
   "outputs": [],
   "source": [
    "df_train, df_test = train_test_split(df, test_size=0.10, random_state=12345, shuffle=False) \n",
    "df_train = df_train.dropna()\n",
    "df_test = df_test.dropna()\n",
    "features_train = df_train.drop(['num_orders'], axis=1)\n",
    "target_train = df_train['num_orders']\n",
    "features_test = df_test.drop(['num_orders'], axis=1)\n",
    "target_test = df_test['num_orders'] "
   ]
  },
  {
   "cell_type": "code",
   "execution_count": 26,
   "metadata": {},
   "outputs": [
    {
     "name": "stdout",
     "output_type": "stream",
     "text": [
      "<class 'pandas.core.frame.DataFrame'>\n",
      "DatetimeIndex: 213 entries, 2018-03-01 10:00:00 to 2018-08-18 00:00:00\n",
      "Data columns (total 7 columns):\n",
      " #   Column        Non-Null Count  Dtype  \n",
      "---  ------        --------------  -----  \n",
      " 0   month         213 non-null    int64  \n",
      " 1   day           213 non-null    int64  \n",
      " 2   dayofweek     213 non-null    int64  \n",
      " 3   lag_1         213 non-null    float64\n",
      " 4   lag_2         213 non-null    float64\n",
      " 5   lag_3         213 non-null    float64\n",
      " 6   rolling_mean  213 non-null    float64\n",
      "dtypes: float64(4), int64(3)\n",
      "memory usage: 13.3 KB\n"
     ]
    }
   ],
   "source": [
    "features_train.info()"
   ]
  },
  {
   "cell_type": "code",
   "execution_count": 27,
   "metadata": {},
   "outputs": [
    {
     "name": "stdout",
     "output_type": "stream",
     "text": [
      "<class 'pandas.core.frame.DataFrame'>\n",
      "DatetimeIndex: 25 entries, 2018-08-18 02:00:00 to 2018-08-31 18:00:00\n",
      "Data columns (total 7 columns):\n",
      " #   Column        Non-Null Count  Dtype  \n",
      "---  ------        --------------  -----  \n",
      " 0   month         25 non-null     int64  \n",
      " 1   day           25 non-null     int64  \n",
      " 2   dayofweek     25 non-null     int64  \n",
      " 3   lag_1         25 non-null     float64\n",
      " 4   lag_2         25 non-null     float64\n",
      " 5   lag_3         25 non-null     float64\n",
      " 6   rolling_mean  25 non-null     float64\n",
      "dtypes: float64(4), int64(3)\n",
      "memory usage: 1.6 KB\n"
     ]
    }
   ],
   "source": [
    "features_test.info()"
   ]
  },
  {
   "cell_type": "code",
   "execution_count": 28,
   "metadata": {},
   "outputs": [],
   "source": [
    "df_train, df_valid = train_test_split(df_train, test_size=0.10, random_state=12345, shuffle=False) \n",
    "df_valid = df_valid.dropna()\n",
    "features_train = df_train.drop(['num_orders'], axis=1)\n",
    "target_train = df_train['num_orders']\n",
    "features_valid = df_valid.drop(['num_orders'], axis=1)\n",
    "target_valid = df_valid['num_orders'] "
   ]
  },
  {
   "cell_type": "code",
   "execution_count": 29,
   "metadata": {},
   "outputs": [],
   "source": [
    "df_valid = df_valid.dropna()"
   ]
  },
  {
   "cell_type": "code",
   "execution_count": 30,
   "metadata": {},
   "outputs": [
    {
     "name": "stdout",
     "output_type": "stream",
     "text": [
      "<class 'pandas.core.frame.DataFrame'>\n",
      "DatetimeIndex: 22 entries, 2018-07-29 23:00:00 to 2018-08-18 00:00:00\n",
      "Data columns (total 7 columns):\n",
      " #   Column        Non-Null Count  Dtype  \n",
      "---  ------        --------------  -----  \n",
      " 0   month         22 non-null     int64  \n",
      " 1   day           22 non-null     int64  \n",
      " 2   dayofweek     22 non-null     int64  \n",
      " 3   lag_1         22 non-null     float64\n",
      " 4   lag_2         22 non-null     float64\n",
      " 5   lag_3         22 non-null     float64\n",
      " 6   rolling_mean  22 non-null     float64\n",
      "dtypes: float64(4), int64(3)\n",
      "memory usage: 1.4 KB\n"
     ]
    }
   ],
   "source": [
    "features_valid.info()"
   ]
  },
  {
   "cell_type": "code",
   "execution_count": 31,
   "metadata": {},
   "outputs": [
    {
     "name": "stdout",
     "output_type": "stream",
     "text": [
      "<class 'pandas.core.frame.DataFrame'>\n",
      "DatetimeIndex: 191 entries, 2018-03-01 10:00:00 to 2018-07-29 16:00:00\n",
      "Data columns (total 7 columns):\n",
      " #   Column        Non-Null Count  Dtype  \n",
      "---  ------        --------------  -----  \n",
      " 0   month         191 non-null    int64  \n",
      " 1   day           191 non-null    int64  \n",
      " 2   dayofweek     191 non-null    int64  \n",
      " 3   lag_1         191 non-null    float64\n",
      " 4   lag_2         191 non-null    float64\n",
      " 5   lag_3         191 non-null    float64\n",
      " 6   rolling_mean  191 non-null    float64\n",
      "dtypes: float64(4), int64(3)\n",
      "memory usage: 11.9 KB\n"
     ]
    }
   ],
   "source": [
    "features_train.info()"
   ]
  },
  {
   "cell_type": "code",
   "execution_count": 32,
   "metadata": {
    "scrolled": false
   },
   "outputs": [
    {
     "name": "stdout",
     "output_type": "stream",
     "text": [
      "<class 'pandas.core.frame.DataFrame'>\n",
      "DatetimeIndex: 25 entries, 2018-08-18 02:00:00 to 2018-08-31 18:00:00\n",
      "Data columns (total 7 columns):\n",
      " #   Column        Non-Null Count  Dtype  \n",
      "---  ------        --------------  -----  \n",
      " 0   month         25 non-null     int64  \n",
      " 1   day           25 non-null     int64  \n",
      " 2   dayofweek     25 non-null     int64  \n",
      " 3   lag_1         25 non-null     float64\n",
      " 4   lag_2         25 non-null     float64\n",
      " 5   lag_3         25 non-null     float64\n",
      " 6   rolling_mean  25 non-null     float64\n",
      "dtypes: float64(4), int64(3)\n",
      "memory usage: 1.6 KB\n"
     ]
    }
   ],
   "source": [
    "features_test.info()"
   ]
  },
  {
   "cell_type": "markdown",
   "metadata": {},
   "source": [
    "**Масштабирую признаки:**"
   ]
  },
  {
   "cell_type": "code",
   "execution_count": 33,
   "metadata": {},
   "outputs": [],
   "source": [
    "numeric_columns = ['num_orders', 'month', 'day', 'dayofweek', 'lag_1', 'lag_2', 'lag_3', 'rolling_mean']"
   ]
  },
  {
   "cell_type": "code",
   "execution_count": 34,
   "metadata": {},
   "outputs": [
    {
     "name": "stdout",
     "output_type": "stream",
     "text": [
      "['month', 'day', 'dayofweek', 'lag_1', 'lag_2', 'lag_3', 'rolling_mean']\n"
     ]
    }
   ],
   "source": [
    "features_numeric_columns = numeric_columns[1:8]\n",
    "print(features_numeric_columns)"
   ]
  },
  {
   "cell_type": "code",
   "execution_count": 35,
   "metadata": {},
   "outputs": [],
   "source": [
    "scaler=StandardScaler()\n",
    "scaler.fit(features_train[features_numeric_columns])\n",
    "\n",
    "features_train.loc[:, features_numeric_columns] = scaler.transform(features_train.loc[:, features_numeric_columns])\n",
    "features_valid.loc[:, features_numeric_columns] = scaler.transform(features_valid.loc[:, features_numeric_columns])\n",
    "features_test.loc[:, features_numeric_columns] = scaler.transform(features_test.loc[:, features_numeric_columns])"
   ]
  },
  {
   "cell_type": "markdown",
   "metadata": {},
   "source": [
    "## Обучение"
   ]
  },
  {
   "cell_type": "markdown",
   "metadata": {},
   "source": [
    "**Модель \"Линейная регрессия\"**"
   ]
  },
  {
   "cell_type": "code",
   "execution_count": 36,
   "metadata": {
    "scrolled": true
   },
   "outputs": [
    {
     "name": "stdout",
     "output_type": "stream",
     "text": [
      "RMSE модели линейной регрессии на валидационной выборке: 32.33346269201392\n",
      "CPU times: user 626 µs, sys: 7.16 ms, total: 7.78 ms\n",
      "Wall time: 5.93 ms\n"
     ]
    }
   ],
   "source": [
    "%%time\n",
    "LR_model = LinearRegression()\n",
    "LR_model.fit(features_train, target_train)\n",
    "predictions_valid = LR_model.predict(features_valid)\n",
    "LR_result = (mean_squared_error(target_valid, predictions_valid))** 0.5\n",
    "print('RMSE модели линейной регрессии на валидационной выборке:', LR_result)"
   ]
  },
  {
   "cell_type": "code",
   "execution_count": 43,
   "metadata": {},
   "outputs": [
    {
     "data": {
      "text/plain": [
       "22"
      ]
     },
     "execution_count": 43,
     "metadata": {},
     "output_type": "execute_result"
    }
   ],
   "source": [
    "len(target_valid)"
   ]
  },
  {
   "cell_type": "code",
   "execution_count": 44,
   "metadata": {},
   "outputs": [
    {
     "data": {
      "text/plain": [
       "22"
      ]
     },
     "execution_count": 44,
     "metadata": {},
     "output_type": "execute_result"
    }
   ],
   "source": [
    "len(predictions_valid)"
   ]
  },
  {
   "cell_type": "markdown",
   "metadata": {},
   "source": [
    "**Модель \"Дерево решений\"**"
   ]
  },
  {
   "cell_type": "code",
   "execution_count": 37,
   "metadata": {},
   "outputs": [
    {
     "name": "stdout",
     "output_type": "stream",
     "text": [
      "RMSE модели дерево решений на валидационной выборке: 47.90001984160807\n",
      "Наилучшее значение гиперпараметра: 1\n",
      "CPU times: user 33.7 ms, sys: 417 µs, total: 34.1 ms\n",
      "Wall time: 32.2 ms\n"
     ]
    }
   ],
   "source": [
    "%%time\n",
    "DR_best_model = None\n",
    "DR_best_result = 0\n",
    "for depth in range(1, 10):\n",
    "    DR_model = DecisionTreeRegressor(random_state=12345, max_depth=depth)\n",
    "    DR_model.fit(features_train, target_train)\n",
    "    DR_predictions_valid= DR_model.predict(features_valid) \n",
    "    DR_result = (mean_squared_error(target_valid, DR_predictions_valid))** 0.5  \n",
    "    if DR_result > DR_best_result:\n",
    "        DR_best_model = DR_model\n",
    "        DR_best_result = DR_result\n",
    "        DR_best_depth = depth\n",
    "        \n",
    "print(\"RMSE модели дерево решений на валидационной выборке:\", DR_best_result)\n",
    "print(\"Наилучшее значение гиперпараметра:\", DR_best_depth)"
   ]
  },
  {
   "cell_type": "markdown",
   "metadata": {},
   "source": [
    "**Модель \"Случайный лес\"**"
   ]
  },
  {
   "cell_type": "code",
   "execution_count": 38,
   "metadata": {},
   "outputs": [
    {
     "name": "stdout",
     "output_type": "stream",
     "text": [
      "RMSE модели дерево решений на валидационной выборке: 54.57126281463816 Количество деревьев: 20 Максимальная глубина: 10\n",
      "CPU times: user 2.12 s, sys: 39.9 ms, total: 2.16 s\n",
      "Wall time: 2.17 s\n"
     ]
    }
   ],
   "source": [
    "%%time\n",
    "SL_best_model = None\n",
    "SL_best_result = 0\n",
    "SL_best_est = 0\n",
    "SL_best_depth = 0\n",
    "for est in range(10, 51, 10):\n",
    "    for depth in range (1, 11):\n",
    "        SL_model = RandomForestRegressor(random_state=12345, n_estimators=est, max_depth=depth) \n",
    "        SL_model.fit(features_train, target_train) \n",
    "        SL_predictions_valid = SL_model.predict(features_valid) \n",
    "        SL_result = (mean_squared_error(target_valid, SL_predictions_valid))** 0.5  \n",
    "        if SL_result > SL_best_result:\n",
    "            SL_best_model = SL_model\n",
    "            SL_best_result = SL_result\n",
    "            SL_best_est = est\n",
    "            SL_best_depth = depth\n",
    "\n",
    "print(\"RMSE модели дерево решений на валидационной выборке:\", SL_best_result, \"Количество деревьев:\", SL_best_est, \"Максимальная глубина:\", depth)"
   ]
  },
  {
   "cell_type": "markdown",
   "metadata": {},
   "source": [
    "**Сводная таблица параметров**"
   ]
  },
  {
   "cell_type": "code",
   "execution_count": 39,
   "metadata": {},
   "outputs": [
    {
     "data": {
      "text/html": [
       "<div>\n",
       "<style scoped>\n",
       "    .dataframe tbody tr th:only-of-type {\n",
       "        vertical-align: middle;\n",
       "    }\n",
       "\n",
       "    .dataframe tbody tr th {\n",
       "        vertical-align: top;\n",
       "    }\n",
       "\n",
       "    .dataframe thead th {\n",
       "        text-align: right;\n",
       "    }\n",
       "</style>\n",
       "<table border=\"1\" class=\"dataframe\">\n",
       "  <thead>\n",
       "    <tr style=\"text-align: right;\">\n",
       "      <th></th>\n",
       "      <th>Параметр</th>\n",
       "      <th>Модель \"Линейная регрессия\"</th>\n",
       "      <th>Модель \"Дерево решений\"</th>\n",
       "      <th>Модель \"Случайный лес\"</th>\n",
       "    </tr>\n",
       "  </thead>\n",
       "  <tbody>\n",
       "    <tr>\n",
       "      <th>0</th>\n",
       "      <td>RMSE</td>\n",
       "      <td>32.333463</td>\n",
       "      <td>47.90002</td>\n",
       "      <td>54.571263</td>\n",
       "    </tr>\n",
       "  </tbody>\n",
       "</table>\n",
       "</div>"
      ],
      "text/plain": [
       "  Параметр  Модель \"Линейная регрессия\"  Модель \"Дерево решений\"  \\\n",
       "0     RMSE                    32.333463                 47.90002   \n",
       "\n",
       "   Модель \"Случайный лес\"  \n",
       "0               54.571263  "
      ]
     },
     "execution_count": 39,
     "metadata": {},
     "output_type": "execute_result"
    }
   ],
   "source": [
    "duration_pr = {'Параметр': ['RMSE'],\n",
    "       'Модель \"Линейная регрессия\"': [LR_result], \n",
    "       'Модель \"Дерево решений\"': [DR_best_result],\n",
    "       'Модель \"Случайный лес\"': [SL_best_result],       \n",
    "      }\n",
    "\n",
    "duration_percent = pd.DataFrame(duration_pr, columns = ['Параметр', 'Модель \"Линейная регрессия\"', \n",
    "                                                        'Модель \"Дерево решений\"', 'Модель \"Случайный лес\"'])\n",
    "duration_percent"
   ]
  },
  {
   "cell_type": "markdown",
   "metadata": {},
   "source": [
    "## Тестирование"
   ]
  },
  {
   "cell_type": "markdown",
   "metadata": {},
   "source": [
    "**Перед тестированием моделей объединяю обучающую выборку и валидационную**"
   ]
  },
  {
   "cell_type": "code",
   "execution_count": 40,
   "metadata": {},
   "outputs": [],
   "source": [
    "test_features_train = pd.concat([features_train, features_valid])\n",
    "test_target_train = pd.concat([target_train, target_valid])"
   ]
  },
  {
   "cell_type": "markdown",
   "metadata": {},
   "source": [
    "**Тестирование модели: \"Линейная регрессия\"**"
   ]
  },
  {
   "cell_type": "code",
   "execution_count": null,
   "metadata": {},
   "outputs": [],
   "source": [
    "LR_model = LinearRegression()\n",
    "LR_model.fit(test_features_train, test_target_train) \n",
    "LR_predictions_test = LR_model.predict(features_test) \n",
    "LR_result_test = (mean_squared_error(target_test, LR_predictions_test))** 0.5 \n",
    " \n",
    "print(\"RMSE модели линейная регрессия на тестовой выборке:\", LR_result_test)"
   ]
  },
  {
   "cell_type": "markdown",
   "metadata": {},
   "source": [
    "**Тестирование модели: \"Дерево решений\"**"
   ]
  },
  {
   "cell_type": "code",
   "execution_count": null,
   "metadata": {},
   "outputs": [],
   "source": [
    "DR_model = DecisionTreeRegressor(random_state=12345, max_depth=1) \n",
    "DR_model.fit(test_features_train, test_target_train) \n",
    "DR_predictions_test= DR_model.predict(features_test) \n",
    "DR_result_test = (mean_squared_error(target_test, DR_predictions_test))** 0.5 \n",
    "print(\"RMSE модели дерево решений на валидационной выборке:\", DR_result_test)"
   ]
  },
  {
   "cell_type": "markdown",
   "metadata": {},
   "source": [
    "**Вывод:**"
   ]
  },
  {
   "cell_type": "markdown",
   "metadata": {},
   "source": [
    "Компания «Чётенькое такси» собрала исторические данные о заказах такси в аэропортах. Чтобы привлекать больше водителей в период пиковой нагрузки, нужно спрогнозировать количество заказов такси на следующий час. Были построены модели для такого предсказания. \n",
    "\n",
    "Значение метрики *RMSE* на тестовой выборке получилось не больше 48.\n",
    "Наилучшие показатели у моделей линейной регрессии. RMSE примерно равняется 36."
   ]
  }
 ],
 "metadata": {
  "ExecuteTimeLog": [
   {
    "duration": 1734,
    "start_time": "2022-07-26T09:56:21.637Z"
   },
   {
    "duration": 154,
    "start_time": "2022-07-26T09:56:23.374Z"
   },
   {
    "duration": 3,
    "start_time": "2022-07-26T09:56:23.529Z"
   },
   {
    "duration": 18,
    "start_time": "2022-07-26T09:56:23.534Z"
   },
   {
    "duration": 12,
    "start_time": "2022-07-26T09:56:23.554Z"
   },
   {
    "duration": 5,
    "start_time": "2022-07-26T09:56:23.568Z"
   },
   {
    "duration": 9,
    "start_time": "2022-07-26T09:56:23.575Z"
   },
   {
    "duration": 144,
    "start_time": "2022-07-26T09:56:23.585Z"
   },
   {
    "duration": 7,
    "start_time": "2022-07-26T09:56:23.730Z"
   },
   {
    "duration": 5,
    "start_time": "2022-07-26T09:56:23.738Z"
   },
   {
    "duration": 10,
    "start_time": "2022-07-26T09:56:23.744Z"
   },
   {
    "duration": 11,
    "start_time": "2022-07-26T09:56:23.756Z"
   },
   {
    "duration": 49,
    "start_time": "2022-07-26T09:56:23.769Z"
   },
   {
    "duration": 286,
    "start_time": "2022-07-26T09:56:23.822Z"
   },
   {
    "duration": 9,
    "start_time": "2022-07-26T09:56:24.117Z"
   },
   {
    "duration": 275,
    "start_time": "2022-07-26T09:56:24.129Z"
   },
   {
    "duration": 10,
    "start_time": "2022-07-26T09:56:24.407Z"
   },
   {
    "duration": 442,
    "start_time": "2022-07-26T09:56:24.422Z"
   },
   {
    "duration": 7,
    "start_time": "2022-07-26T09:56:24.866Z"
   },
   {
    "duration": 375,
    "start_time": "2022-07-26T09:56:24.875Z"
   },
   {
    "duration": 8,
    "start_time": "2022-07-26T09:56:25.252Z"
   },
   {
    "duration": 346,
    "start_time": "2022-07-26T09:56:25.262Z"
   },
   {
    "duration": 200,
    "start_time": "2022-07-26T09:56:25.610Z"
   },
   {
    "duration": 0,
    "start_time": "2022-07-26T09:56:25.812Z"
   },
   {
    "duration": 1,
    "start_time": "2022-07-26T09:56:25.813Z"
   },
   {
    "duration": 0,
    "start_time": "2022-07-26T09:56:25.815Z"
   },
   {
    "duration": 0,
    "start_time": "2022-07-26T09:56:25.817Z"
   },
   {
    "duration": 0,
    "start_time": "2022-07-26T09:56:25.819Z"
   },
   {
    "duration": 0,
    "start_time": "2022-07-26T09:56:25.819Z"
   },
   {
    "duration": 1,
    "start_time": "2022-07-26T09:56:25.820Z"
   },
   {
    "duration": 0,
    "start_time": "2022-07-26T09:56:25.822Z"
   },
   {
    "duration": 0,
    "start_time": "2022-07-26T09:56:25.823Z"
   },
   {
    "duration": 0,
    "start_time": "2022-07-26T09:56:25.824Z"
   },
   {
    "duration": 0,
    "start_time": "2022-07-26T09:56:25.825Z"
   },
   {
    "duration": 0,
    "start_time": "2022-07-26T09:56:25.826Z"
   },
   {
    "duration": 0,
    "start_time": "2022-07-26T09:56:25.828Z"
   },
   {
    "duration": 0,
    "start_time": "2022-07-26T09:56:25.829Z"
   },
   {
    "duration": 0,
    "start_time": "2022-07-26T09:56:25.831Z"
   },
   {
    "duration": 0,
    "start_time": "2022-07-26T09:56:25.833Z"
   },
   {
    "duration": 0,
    "start_time": "2022-07-26T09:56:25.835Z"
   },
   {
    "duration": 0,
    "start_time": "2022-07-26T09:56:25.836Z"
   },
   {
    "duration": 0,
    "start_time": "2022-07-26T09:56:25.838Z"
   },
   {
    "duration": 13,
    "start_time": "2022-07-26T09:56:38.169Z"
   },
   {
    "duration": 11,
    "start_time": "2022-07-26T09:56:38.526Z"
   },
   {
    "duration": 10,
    "start_time": "2022-07-26T09:56:39.070Z"
   },
   {
    "duration": 14,
    "start_time": "2022-07-26T09:56:39.318Z"
   },
   {
    "duration": 10,
    "start_time": "2022-07-26T09:56:39.539Z"
   },
   {
    "duration": 6,
    "start_time": "2022-07-26T09:56:39.845Z"
   },
   {
    "duration": 13,
    "start_time": "2022-07-26T09:56:40.093Z"
   },
   {
    "duration": 12,
    "start_time": "2022-07-26T09:56:40.278Z"
   },
   {
    "duration": 13,
    "start_time": "2022-07-26T09:56:40.476Z"
   },
   {
    "duration": 3,
    "start_time": "2022-07-26T09:56:40.862Z"
   },
   {
    "duration": 3,
    "start_time": "2022-07-26T09:56:41.090Z"
   },
   {
    "duration": 20,
    "start_time": "2022-07-26T09:56:41.270Z"
   },
   {
    "duration": 10,
    "start_time": "2022-07-26T09:56:42.067Z"
   },
   {
    "duration": 37,
    "start_time": "2022-07-26T09:56:42.445Z"
   },
   {
    "duration": 2172,
    "start_time": "2022-07-26T09:56:42.792Z"
   },
   {
    "duration": 11,
    "start_time": "2022-07-26T09:56:44.966Z"
   },
   {
    "duration": 12,
    "start_time": "2022-07-26T09:56:44.978Z"
   },
   {
    "duration": 5,
    "start_time": "2022-07-26T09:56:57.074Z"
   },
   {
    "duration": 5,
    "start_time": "2022-07-26T09:57:12.570Z"
   },
   {
    "duration": 5,
    "start_time": "2022-07-26T09:57:35.348Z"
   },
   {
    "duration": 3,
    "start_time": "2022-07-26T09:57:37.735Z"
   },
   {
    "duration": 1571,
    "start_time": "2023-11-30T12:37:17.092Z"
   },
   {
    "duration": 115,
    "start_time": "2023-11-30T12:37:19.287Z"
   },
   {
    "duration": 208,
    "start_time": "2023-11-30T12:37:50.384Z"
   }
  ],
  "kernelspec": {
   "display_name": "Python 3 (ipykernel)",
   "language": "python",
   "name": "python3"
  },
  "language_info": {
   "codemirror_mode": {
    "name": "ipython",
    "version": 3
   },
   "file_extension": ".py",
   "mimetype": "text/x-python",
   "name": "python",
   "nbconvert_exporter": "python",
   "pygments_lexer": "ipython3",
   "version": "3.10.9"
  },
  "toc": {
   "base_numbering": 1,
   "nav_menu": {},
   "number_sections": true,
   "sideBar": true,
   "skip_h1_title": true,
   "title_cell": "Содержание",
   "title_sidebar": "Contents",
   "toc_cell": true,
   "toc_position": {
    "height": "calc(100% - 180px)",
    "left": "10px",
    "top": "150px",
    "width": "165px"
   },
   "toc_section_display": true,
   "toc_window_display": true
  }
 },
 "nbformat": 4,
 "nbformat_minor": 2
}
