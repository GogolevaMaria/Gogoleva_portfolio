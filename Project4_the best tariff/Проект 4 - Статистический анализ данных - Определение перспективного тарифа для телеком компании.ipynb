{
 "cells": [
  {
   "cell_type": "markdown",
   "metadata": {},
   "source": [
    "# Определение перспективного тарифа для телеком компании"
   ]
  },
  {
   "cell_type": "markdown",
   "metadata": {},
   "source": [
    "«Мегалайн» — федеральный оператор сотовой связи. Клиентам предлагают два тарифных плана: «Смарт» и «Ультра». Чтобы скорректировать рекламный бюджет, коммерческий департамент хочет понять, какой тариф приносит больше денег.\n",
    "Необходимо сделать предварительный анализ тарифов на небольшой выборке клиентов. В распоряжении данные 500 пользователей «Мегалайна»: кто они, откуда, каким тарифом пользуются, сколько звонков и сообщений каждый отправил за 2018 год. Нужно проанализировать поведение клиентов и сделать вывод — какой тариф лучше.\n",
    "\n",
    "Описание тарифов:\n",
    "#### Тариф «Смарт»\n",
    "  - Ежемесячная плата: 550 рублей\n",
    "  - Включено 500 минут разговора, 50 сообщений и 15 Гб интернет-трафика\n",
    "  \n",
    "  Стоимость услуг сверх тарифного пакета:\n",
    "  - минута разговора: 3 рубля\n",
    "  - сообщение: 3 рубля\n",
    "  - 1 Гб интернет-трафика: 200 рублей\n",
    "\n",
    "\n",
    "#### Тариф «Ультра»\n",
    "\n",
    "  - Ежемесячная плата: 1950 рублей\n",
    "  - Включено 3000 минут разговора, 1000 сообщений и 30 Гб интернет-трафика\n",
    "  \n",
    "  Стоимость услуг сверх тарифного пакета:\n",
    "  - минута разговора: 1 рубль\n",
    "  - сообщение: 1 рубль\n",
    "  - 1 Гб интернет-трафика: 150 рублей\n",
    "\n",
    "«Мегалайн» всегда округляет вверх значения минут и мегабайтов. Если пользователь проговорил всего 1 секунду, в тарифе засчитывается целая минута."
   ]
  },
  {
   "cell_type": "markdown",
   "metadata": {},
   "source": [
    "### Шаг 1. Общая информация"
   ]
  },
  {
   "cell_type": "markdown",
   "metadata": {},
   "source": [
    "#### Подключаю нужные библиотеки"
   ]
  },
  {
   "cell_type": "code",
   "execution_count": 548,
   "metadata": {},
   "outputs": [],
   "source": [
    "import pandas as pd\n",
    "import matplotlib.pyplot as plt\n",
    "import seaborn as sns\n",
    "import numpy as np\n",
    "import datetime\n",
    "from functools import reduce\n",
    "from scipy import stats as st"
   ]
  },
  {
   "cell_type": "markdown",
   "metadata": {},
   "source": [
    "#### Открываю таблицу users\n",
    "Таблица users (информация о пользователях):\n",
    "- user_id — уникальный идентификатор пользователя\n",
    "- first_name — имя пользователя\n",
    "- last_name — фамилия пользователя\n",
    "- age — возраст пользователя (годы)\n",
    "- reg_date — дата подключения тарифа (день, месяц, год)\n",
    "- churn_date — дата прекращения пользования тарифом (если значение пропущено, то тариф ещё действовал на момент выгрузки данных)\n",
    "- city — город проживания пользователя\n",
    "- tariff — название тарифного плана"
   ]
  },
  {
   "cell_type": "code",
   "execution_count": 549,
   "metadata": {
    "scrolled": true
   },
   "outputs": [
    {
     "name": "stdout",
     "output_type": "stream",
     "text": [
      "<class 'pandas.core.frame.DataFrame'>\n",
      "RangeIndex: 500 entries, 0 to 499\n",
      "Data columns (total 8 columns):\n",
      "user_id       500 non-null int64\n",
      "age           500 non-null int64\n",
      "churn_date    38 non-null object\n",
      "city          500 non-null object\n",
      "first_name    500 non-null object\n",
      "last_name     500 non-null object\n",
      "reg_date      500 non-null object\n",
      "tariff        500 non-null object\n",
      "dtypes: int64(2), object(6)\n",
      "memory usage: 31.4+ KB\n",
      "None\n"
     ]
    }
   ],
   "source": [
    "data_users = pd.read_csv('/datasets/users.csv')\n",
    "print(data_users.info())"
   ]
  },
  {
   "cell_type": "markdown",
   "metadata": {},
   "source": [
    "Так как у нас помесячные тарифы, то добавлю столбец с меяцем регистрации."
   ]
  },
  {
   "cell_type": "code",
   "execution_count": 550,
   "metadata": {
    "scrolled": true
   },
   "outputs": [
    {
     "data": {
      "text/html": [
       "<div>\n",
       "<style scoped>\n",
       "    .dataframe tbody tr th:only-of-type {\n",
       "        vertical-align: middle;\n",
       "    }\n",
       "\n",
       "    .dataframe tbody tr th {\n",
       "        vertical-align: top;\n",
       "    }\n",
       "\n",
       "    .dataframe thead th {\n",
       "        text-align: right;\n",
       "    }\n",
       "</style>\n",
       "<table border=\"1\" class=\"dataframe\">\n",
       "  <thead>\n",
       "    <tr style=\"text-align: right;\">\n",
       "      <th></th>\n",
       "      <th>user_id</th>\n",
       "      <th>age</th>\n",
       "      <th>churn_date</th>\n",
       "      <th>city</th>\n",
       "      <th>first_name</th>\n",
       "      <th>last_name</th>\n",
       "      <th>reg_date</th>\n",
       "      <th>tariff</th>\n",
       "      <th>reg_month</th>\n",
       "    </tr>\n",
       "  </thead>\n",
       "  <tbody>\n",
       "    <tr>\n",
       "      <td>0</td>\n",
       "      <td>1000</td>\n",
       "      <td>52</td>\n",
       "      <td>NaN</td>\n",
       "      <td>Краснодар</td>\n",
       "      <td>Рафаил</td>\n",
       "      <td>Верещагин</td>\n",
       "      <td>2018-05-25</td>\n",
       "      <td>ultra</td>\n",
       "      <td>5</td>\n",
       "    </tr>\n",
       "    <tr>\n",
       "      <td>1</td>\n",
       "      <td>1001</td>\n",
       "      <td>41</td>\n",
       "      <td>NaN</td>\n",
       "      <td>Москва</td>\n",
       "      <td>Иван</td>\n",
       "      <td>Ежов</td>\n",
       "      <td>2018-11-01</td>\n",
       "      <td>smart</td>\n",
       "      <td>11</td>\n",
       "    </tr>\n",
       "    <tr>\n",
       "      <td>2</td>\n",
       "      <td>1002</td>\n",
       "      <td>59</td>\n",
       "      <td>NaN</td>\n",
       "      <td>Стерлитамак</td>\n",
       "      <td>Евгений</td>\n",
       "      <td>Абрамович</td>\n",
       "      <td>2018-06-17</td>\n",
       "      <td>smart</td>\n",
       "      <td>6</td>\n",
       "    </tr>\n",
       "    <tr>\n",
       "      <td>3</td>\n",
       "      <td>1003</td>\n",
       "      <td>23</td>\n",
       "      <td>NaN</td>\n",
       "      <td>Москва</td>\n",
       "      <td>Белла</td>\n",
       "      <td>Белякова</td>\n",
       "      <td>2018-08-17</td>\n",
       "      <td>ultra</td>\n",
       "      <td>8</td>\n",
       "    </tr>\n",
       "    <tr>\n",
       "      <td>4</td>\n",
       "      <td>1004</td>\n",
       "      <td>68</td>\n",
       "      <td>NaN</td>\n",
       "      <td>Новокузнецк</td>\n",
       "      <td>Татьяна</td>\n",
       "      <td>Авдеенко</td>\n",
       "      <td>2018-05-14</td>\n",
       "      <td>ultra</td>\n",
       "      <td>5</td>\n",
       "    </tr>\n",
       "  </tbody>\n",
       "</table>\n",
       "</div>"
      ],
      "text/plain": [
       "   user_id  age churn_date         city first_name  last_name   reg_date  \\\n",
       "0     1000   52        NaN    Краснодар     Рафаил  Верещагин 2018-05-25   \n",
       "1     1001   41        NaN       Москва       Иван       Ежов 2018-11-01   \n",
       "2     1002   59        NaN  Стерлитамак    Евгений  Абрамович 2018-06-17   \n",
       "3     1003   23        NaN       Москва      Белла   Белякова 2018-08-17   \n",
       "4     1004   68        NaN  Новокузнецк    Татьяна   Авдеенко 2018-05-14   \n",
       "\n",
       "  tariff  reg_month  \n",
       "0  ultra          5  \n",
       "1  smart         11  \n",
       "2  smart          6  \n",
       "3  ultra          8  \n",
       "4  ultra          5  "
      ]
     },
     "execution_count": 550,
     "metadata": {},
     "output_type": "execute_result"
    }
   ],
   "source": [
    "data_users['reg_date'] = pd.to_datetime(data_users['reg_date'], format='%Y-%m-%d')\n",
    "data_users['reg_month'] = pd.DatetimeIndex(data_users['reg_date']).month\n",
    "data_users.head()"
   ]
  },
  {
   "cell_type": "markdown",
   "metadata": {},
   "source": [
    "#### Открываю таблицу calls\n",
    "Таблица calls (информация о звонках):\n",
    "- id — уникальный номер звонка\n",
    "- call_date — дата звонка\n",
    "- duration — длительность звонка в минутах\n",
    "- user_id — идентификатор пользователя, сделавшего звонок"
   ]
  },
  {
   "cell_type": "code",
   "execution_count": 551,
   "metadata": {
    "scrolled": true
   },
   "outputs": [
    {
     "name": "stdout",
     "output_type": "stream",
     "text": [
      "<class 'pandas.core.frame.DataFrame'>\n",
      "RangeIndex: 202607 entries, 0 to 202606\n",
      "Data columns (total 4 columns):\n",
      "id           202607 non-null object\n",
      "call_date    202607 non-null object\n",
      "duration     202607 non-null float64\n",
      "user_id      202607 non-null int64\n",
      "dtypes: float64(1), int64(1), object(2)\n",
      "memory usage: 6.2+ MB\n",
      "None\n"
     ]
    }
   ],
   "source": [
    "data_calls = pd.read_csv('/datasets/calls.csv')\n",
    "print(data_calls.info())"
   ]
  },
  {
   "cell_type": "code",
   "execution_count": 552,
   "metadata": {},
   "outputs": [
    {
     "data": {
      "text/html": [
       "<div>\n",
       "<style scoped>\n",
       "    .dataframe tbody tr th:only-of-type {\n",
       "        vertical-align: middle;\n",
       "    }\n",
       "\n",
       "    .dataframe tbody tr th {\n",
       "        vertical-align: top;\n",
       "    }\n",
       "\n",
       "    .dataframe thead th {\n",
       "        text-align: right;\n",
       "    }\n",
       "</style>\n",
       "<table border=\"1\" class=\"dataframe\">\n",
       "  <thead>\n",
       "    <tr style=\"text-align: right;\">\n",
       "      <th></th>\n",
       "      <th>id</th>\n",
       "      <th>call_date</th>\n",
       "      <th>duration</th>\n",
       "      <th>user_id</th>\n",
       "      <th>month</th>\n",
       "    </tr>\n",
       "  </thead>\n",
       "  <tbody>\n",
       "    <tr>\n",
       "      <td>0</td>\n",
       "      <td>1000_0</td>\n",
       "      <td>2018-07-25</td>\n",
       "      <td>0.00</td>\n",
       "      <td>1000</td>\n",
       "      <td>7</td>\n",
       "    </tr>\n",
       "    <tr>\n",
       "      <td>1</td>\n",
       "      <td>1000_1</td>\n",
       "      <td>2018-08-17</td>\n",
       "      <td>0.00</td>\n",
       "      <td>1000</td>\n",
       "      <td>8</td>\n",
       "    </tr>\n",
       "    <tr>\n",
       "      <td>2</td>\n",
       "      <td>1000_2</td>\n",
       "      <td>2018-06-11</td>\n",
       "      <td>2.85</td>\n",
       "      <td>1000</td>\n",
       "      <td>6</td>\n",
       "    </tr>\n",
       "    <tr>\n",
       "      <td>3</td>\n",
       "      <td>1000_3</td>\n",
       "      <td>2018-09-21</td>\n",
       "      <td>13.80</td>\n",
       "      <td>1000</td>\n",
       "      <td>9</td>\n",
       "    </tr>\n",
       "    <tr>\n",
       "      <td>4</td>\n",
       "      <td>1000_4</td>\n",
       "      <td>2018-12-15</td>\n",
       "      <td>5.18</td>\n",
       "      <td>1000</td>\n",
       "      <td>12</td>\n",
       "    </tr>\n",
       "  </tbody>\n",
       "</table>\n",
       "</div>"
      ],
      "text/plain": [
       "       id  call_date  duration  user_id  month\n",
       "0  1000_0 2018-07-25      0.00     1000      7\n",
       "1  1000_1 2018-08-17      0.00     1000      8\n",
       "2  1000_2 2018-06-11      2.85     1000      6\n",
       "3  1000_3 2018-09-21     13.80     1000      9\n",
       "4  1000_4 2018-12-15      5.18     1000     12"
      ]
     },
     "execution_count": 552,
     "metadata": {},
     "output_type": "execute_result"
    }
   ],
   "source": [
    "#Выделю из даты месяц, добавлю в новый столбец\n",
    "data_calls['call_date'] = pd.to_datetime(data_calls['call_date'], format='%Y-%m-%d')\n",
    "data_calls['month'] = pd.DatetimeIndex(data_calls['call_date']).month\n",
    "data_calls.head()"
   ]
  },
  {
   "cell_type": "markdown",
   "metadata": {},
   "source": [
    "#### Открываю таблицу internet\n",
    "Таблица internet (информация об интернет-сессиях):\n",
    "- id — уникальный номер сессии\n",
    "- mb_used — объём потраченного за сессию интернет-трафика (в мегабайтах)\n",
    "- session_date — дата интернет-сессии\n",
    "- user_id — идентификатор пользователя"
   ]
  },
  {
   "cell_type": "code",
   "execution_count": 553,
   "metadata": {
    "scrolled": false
   },
   "outputs": [
    {
     "name": "stdout",
     "output_type": "stream",
     "text": [
      "<class 'pandas.core.frame.DataFrame'>\n",
      "Int64Index: 149396 entries, 0 to 149395\n",
      "Data columns (total 4 columns):\n",
      "id              149396 non-null object\n",
      "mb_used         149396 non-null float64\n",
      "session_date    149396 non-null object\n",
      "user_id         149396 non-null int64\n",
      "dtypes: float64(1), int64(1), object(2)\n",
      "memory usage: 5.7+ MB\n",
      "None\n"
     ]
    },
    {
     "data": {
      "text/html": [
       "<div>\n",
       "<style scoped>\n",
       "    .dataframe tbody tr th:only-of-type {\n",
       "        vertical-align: middle;\n",
       "    }\n",
       "\n",
       "    .dataframe tbody tr th {\n",
       "        vertical-align: top;\n",
       "    }\n",
       "\n",
       "    .dataframe thead th {\n",
       "        text-align: right;\n",
       "    }\n",
       "</style>\n",
       "<table border=\"1\" class=\"dataframe\">\n",
       "  <thead>\n",
       "    <tr style=\"text-align: right;\">\n",
       "      <th></th>\n",
       "      <th>id</th>\n",
       "      <th>mb_used</th>\n",
       "      <th>session_date</th>\n",
       "      <th>user_id</th>\n",
       "    </tr>\n",
       "  </thead>\n",
       "  <tbody>\n",
       "    <tr>\n",
       "      <td>0</td>\n",
       "      <td>1000_0</td>\n",
       "      <td>112.95</td>\n",
       "      <td>2018-11-25</td>\n",
       "      <td>1000</td>\n",
       "    </tr>\n",
       "    <tr>\n",
       "      <td>1</td>\n",
       "      <td>1000_1</td>\n",
       "      <td>1052.81</td>\n",
       "      <td>2018-09-07</td>\n",
       "      <td>1000</td>\n",
       "    </tr>\n",
       "    <tr>\n",
       "      <td>2</td>\n",
       "      <td>1000_2</td>\n",
       "      <td>1197.26</td>\n",
       "      <td>2018-06-25</td>\n",
       "      <td>1000</td>\n",
       "    </tr>\n",
       "    <tr>\n",
       "      <td>3</td>\n",
       "      <td>1000_3</td>\n",
       "      <td>550.27</td>\n",
       "      <td>2018-08-22</td>\n",
       "      <td>1000</td>\n",
       "    </tr>\n",
       "    <tr>\n",
       "      <td>4</td>\n",
       "      <td>1000_4</td>\n",
       "      <td>302.56</td>\n",
       "      <td>2018-09-24</td>\n",
       "      <td>1000</td>\n",
       "    </tr>\n",
       "    <tr>\n",
       "      <td>5</td>\n",
       "      <td>1000_5</td>\n",
       "      <td>399.97</td>\n",
       "      <td>2018-10-02</td>\n",
       "      <td>1000</td>\n",
       "    </tr>\n",
       "    <tr>\n",
       "      <td>6</td>\n",
       "      <td>1000_6</td>\n",
       "      <td>540.08</td>\n",
       "      <td>2018-09-07</td>\n",
       "      <td>1000</td>\n",
       "    </tr>\n",
       "    <tr>\n",
       "      <td>7</td>\n",
       "      <td>1000_7</td>\n",
       "      <td>415.70</td>\n",
       "      <td>2018-07-11</td>\n",
       "      <td>1000</td>\n",
       "    </tr>\n",
       "    <tr>\n",
       "      <td>8</td>\n",
       "      <td>1000_8</td>\n",
       "      <td>505.40</td>\n",
       "      <td>2018-10-08</td>\n",
       "      <td>1000</td>\n",
       "    </tr>\n",
       "    <tr>\n",
       "      <td>9</td>\n",
       "      <td>1000_9</td>\n",
       "      <td>345.54</td>\n",
       "      <td>2018-09-03</td>\n",
       "      <td>1000</td>\n",
       "    </tr>\n",
       "  </tbody>\n",
       "</table>\n",
       "</div>"
      ],
      "text/plain": [
       "       id  mb_used session_date  user_id\n",
       "0  1000_0   112.95   2018-11-25     1000\n",
       "1  1000_1  1052.81   2018-09-07     1000\n",
       "2  1000_2  1197.26   2018-06-25     1000\n",
       "3  1000_3   550.27   2018-08-22     1000\n",
       "4  1000_4   302.56   2018-09-24     1000\n",
       "5  1000_5   399.97   2018-10-02     1000\n",
       "6  1000_6   540.08   2018-09-07     1000\n",
       "7  1000_7   415.70   2018-07-11     1000\n",
       "8  1000_8   505.40   2018-10-08     1000\n",
       "9  1000_9   345.54   2018-09-03     1000"
      ]
     },
     "execution_count": 553,
     "metadata": {},
     "output_type": "execute_result"
    }
   ],
   "source": [
    "data_internet = pd.read_csv('/datasets/internet.csv', index_col=0)\n",
    "print(data_internet.info())\n",
    "data_internet.head(10)"
   ]
  },
  {
   "cell_type": "code",
   "execution_count": 554,
   "metadata": {},
   "outputs": [
    {
     "name": "stdout",
     "output_type": "stream",
     "text": [
      "id              0\n",
      "mb_used         0\n",
      "session_date    0\n",
      "user_id         0\n",
      "dtype: int64\n"
     ]
    }
   ],
   "source": [
    "print(data_internet[data_internet['mb_used'].isnull()].count())"
   ]
  },
  {
   "cell_type": "code",
   "execution_count": 556,
   "metadata": {},
   "outputs": [],
   "source": [
    "#Выделю из даты месяц, добавлю в новый столбец\n",
    "data_internet['session_date'] = pd. to_datetime(data_internet['session_date'], format='%Y-%m-%d')\n",
    "data_internet['month'] = pd.DatetimeIndex(data_internet['session_date']).month"
   ]
  },
  {
   "cell_type": "markdown",
   "metadata": {},
   "source": [
    "#### Открываю таблицу messages\n",
    "Таблица messages (информация о сообщениях):\n",
    "- id — уникальный номер сообщения\n",
    "- message_date — дата сообщения\n",
    "- user_id — идентификатор пользователя, отправившего сообщение"
   ]
  },
  {
   "cell_type": "code",
   "execution_count": 557,
   "metadata": {
    "scrolled": false
   },
   "outputs": [
    {
     "name": "stdout",
     "output_type": "stream",
     "text": [
      "<class 'pandas.core.frame.DataFrame'>\n",
      "RangeIndex: 123036 entries, 0 to 123035\n",
      "Data columns (total 3 columns):\n",
      "id              123036 non-null object\n",
      "message_date    123036 non-null object\n",
      "user_id         123036 non-null int64\n",
      "dtypes: int64(1), object(2)\n",
      "memory usage: 2.8+ MB\n",
      "None\n"
     ]
    },
    {
     "data": {
      "text/html": [
       "<div>\n",
       "<style scoped>\n",
       "    .dataframe tbody tr th:only-of-type {\n",
       "        vertical-align: middle;\n",
       "    }\n",
       "\n",
       "    .dataframe tbody tr th {\n",
       "        vertical-align: top;\n",
       "    }\n",
       "\n",
       "    .dataframe thead th {\n",
       "        text-align: right;\n",
       "    }\n",
       "</style>\n",
       "<table border=\"1\" class=\"dataframe\">\n",
       "  <thead>\n",
       "    <tr style=\"text-align: right;\">\n",
       "      <th></th>\n",
       "      <th>id</th>\n",
       "      <th>message_date</th>\n",
       "      <th>user_id</th>\n",
       "    </tr>\n",
       "  </thead>\n",
       "  <tbody>\n",
       "    <tr>\n",
       "      <td>0</td>\n",
       "      <td>1000_0</td>\n",
       "      <td>2018-06-27</td>\n",
       "      <td>1000</td>\n",
       "    </tr>\n",
       "    <tr>\n",
       "      <td>1</td>\n",
       "      <td>1000_1</td>\n",
       "      <td>2018-10-08</td>\n",
       "      <td>1000</td>\n",
       "    </tr>\n",
       "    <tr>\n",
       "      <td>2</td>\n",
       "      <td>1000_2</td>\n",
       "      <td>2018-08-04</td>\n",
       "      <td>1000</td>\n",
       "    </tr>\n",
       "    <tr>\n",
       "      <td>3</td>\n",
       "      <td>1000_3</td>\n",
       "      <td>2018-06-16</td>\n",
       "      <td>1000</td>\n",
       "    </tr>\n",
       "    <tr>\n",
       "      <td>4</td>\n",
       "      <td>1000_4</td>\n",
       "      <td>2018-12-05</td>\n",
       "      <td>1000</td>\n",
       "    </tr>\n",
       "    <tr>\n",
       "      <td>5</td>\n",
       "      <td>1000_5</td>\n",
       "      <td>2018-06-20</td>\n",
       "      <td>1000</td>\n",
       "    </tr>\n",
       "    <tr>\n",
       "      <td>6</td>\n",
       "      <td>1000_6</td>\n",
       "      <td>2018-11-19</td>\n",
       "      <td>1000</td>\n",
       "    </tr>\n",
       "    <tr>\n",
       "      <td>7</td>\n",
       "      <td>1000_7</td>\n",
       "      <td>2018-10-29</td>\n",
       "      <td>1000</td>\n",
       "    </tr>\n",
       "    <tr>\n",
       "      <td>8</td>\n",
       "      <td>1000_8</td>\n",
       "      <td>2018-06-25</td>\n",
       "      <td>1000</td>\n",
       "    </tr>\n",
       "    <tr>\n",
       "      <td>9</td>\n",
       "      <td>1000_9</td>\n",
       "      <td>2018-12-18</td>\n",
       "      <td>1000</td>\n",
       "    </tr>\n",
       "  </tbody>\n",
       "</table>\n",
       "</div>"
      ],
      "text/plain": [
       "       id message_date  user_id\n",
       "0  1000_0   2018-06-27     1000\n",
       "1  1000_1   2018-10-08     1000\n",
       "2  1000_2   2018-08-04     1000\n",
       "3  1000_3   2018-06-16     1000\n",
       "4  1000_4   2018-12-05     1000\n",
       "5  1000_5   2018-06-20     1000\n",
       "6  1000_6   2018-11-19     1000\n",
       "7  1000_7   2018-10-29     1000\n",
       "8  1000_8   2018-06-25     1000\n",
       "9  1000_9   2018-12-18     1000"
      ]
     },
     "execution_count": 557,
     "metadata": {},
     "output_type": "execute_result"
    }
   ],
   "source": [
    "data_messages = pd.read_csv('/datasets/messages.csv')\n",
    "print(data_messages.info())\n",
    "data_messages.head(10)"
   ]
  },
  {
   "cell_type": "code",
   "execution_count": 558,
   "metadata": {},
   "outputs": [
    {
     "name": "stdout",
     "output_type": "stream",
     "text": [
      "id              0\n",
      "message_date    0\n",
      "user_id         0\n",
      "dtype: int64\n"
     ]
    }
   ],
   "source": [
    "print(data_messages[data_messages['message_date'].isnull()].count())"
   ]
  },
  {
   "cell_type": "code",
   "execution_count": 559,
   "metadata": {},
   "outputs": [],
   "source": [
    "#Выделю из даты месяц, добавлю в новый столбец\n",
    "data_messages['message_date'] = pd.to_datetime(data_messages['message_date'], format='%Y-%m-%d')\n",
    "data_messages['month'] = pd.DatetimeIndex(data_messages['message_date']).month"
   ]
  },
  {
   "cell_type": "markdown",
   "metadata": {},
   "source": [
    "#### Открываю таблицу tariffs\n",
    "Таблица tariffs (информация о тарифах):\n",
    "- tariff_name — название тарифа\n",
    "- rub_monthly_fee — ежемесячная абонентская плата в рублях\n",
    "- minutes_included — количество минут разговора в месяц, включённых в абонентскую плату\n",
    "- messages_included — количество сообщений в месяц, включённых в абонентскую плату\n",
    "- mb_per_month_included — объём интернет-трафика, включённого в абонентскую плату (в мегабайтах)\n",
    "- rub_per_minute — стоимость минуты разговора сверх тарифного пакета (например, если в тарифе 100 минут разговора в месяц, то со 101 минуты будет взиматься плата)\n",
    "- rub_per_message — стоимость отправки сообщения сверх тарифного пакета\n",
    "- rub_per_gb — стоимость дополнительного гигабайта интернет-трафика сверх тарифного пакета (1 гигабайт = 1024 мегабайта)"
   ]
  },
  {
   "cell_type": "code",
   "execution_count": 560,
   "metadata": {
    "scrolled": true
   },
   "outputs": [
    {
     "name": "stdout",
     "output_type": "stream",
     "text": [
      "<class 'pandas.core.frame.DataFrame'>\n",
      "RangeIndex: 2 entries, 0 to 1\n",
      "Data columns (total 8 columns):\n",
      "messages_included        2 non-null int64\n",
      "mb_per_month_included    2 non-null int64\n",
      "minutes_included         2 non-null int64\n",
      "rub_monthly_fee          2 non-null int64\n",
      "rub_per_gb               2 non-null int64\n",
      "rub_per_message          2 non-null int64\n",
      "rub_per_minute           2 non-null int64\n",
      "tariff_name              2 non-null object\n",
      "dtypes: int64(7), object(1)\n",
      "memory usage: 256.0+ bytes\n",
      "None\n"
     ]
    },
    {
     "data": {
      "text/html": [
       "<div>\n",
       "<style scoped>\n",
       "    .dataframe tbody tr th:only-of-type {\n",
       "        vertical-align: middle;\n",
       "    }\n",
       "\n",
       "    .dataframe tbody tr th {\n",
       "        vertical-align: top;\n",
       "    }\n",
       "\n",
       "    .dataframe thead th {\n",
       "        text-align: right;\n",
       "    }\n",
       "</style>\n",
       "<table border=\"1\" class=\"dataframe\">\n",
       "  <thead>\n",
       "    <tr style=\"text-align: right;\">\n",
       "      <th></th>\n",
       "      <th>messages_included</th>\n",
       "      <th>mb_per_month_included</th>\n",
       "      <th>minutes_included</th>\n",
       "      <th>rub_monthly_fee</th>\n",
       "      <th>rub_per_gb</th>\n",
       "      <th>rub_per_message</th>\n",
       "      <th>rub_per_minute</th>\n",
       "      <th>tariff_name</th>\n",
       "    </tr>\n",
       "  </thead>\n",
       "  <tbody>\n",
       "    <tr>\n",
       "      <td>0</td>\n",
       "      <td>50</td>\n",
       "      <td>15360</td>\n",
       "      <td>500</td>\n",
       "      <td>550</td>\n",
       "      <td>200</td>\n",
       "      <td>3</td>\n",
       "      <td>3</td>\n",
       "      <td>smart</td>\n",
       "    </tr>\n",
       "    <tr>\n",
       "      <td>1</td>\n",
       "      <td>1000</td>\n",
       "      <td>30720</td>\n",
       "      <td>3000</td>\n",
       "      <td>1950</td>\n",
       "      <td>150</td>\n",
       "      <td>1</td>\n",
       "      <td>1</td>\n",
       "      <td>ultra</td>\n",
       "    </tr>\n",
       "  </tbody>\n",
       "</table>\n",
       "</div>"
      ],
      "text/plain": [
       "   messages_included  mb_per_month_included  minutes_included  \\\n",
       "0                 50                  15360               500   \n",
       "1               1000                  30720              3000   \n",
       "\n",
       "   rub_monthly_fee  rub_per_gb  rub_per_message  rub_per_minute tariff_name  \n",
       "0              550         200                3               3       smart  \n",
       "1             1950         150                1               1       ultra  "
      ]
     },
     "execution_count": 560,
     "metadata": {},
     "output_type": "execute_result"
    }
   ],
   "source": [
    "data_tariffs = pd.read_csv('/datasets/tariffs.csv')\n",
    "print(data_tariffs.info())\n",
    "data_tariffs.head(10) "
   ]
  },
  {
   "cell_type": "code",
   "execution_count": 561,
   "metadata": {},
   "outputs": [],
   "source": [
    "#Переименую столбец tariff_name в tariff\n",
    "data_tariffs.columns = ['messages_included', 'mb_per_month_included', 'minutes_included', 'rub_monthly_fee', 'rub_per_gb', 'rub_per_message', 'rub_per_minute', 'tariff']"
   ]
  },
  {
   "cell_type": "markdown",
   "metadata": {},
   "source": [
    "### Шаг 2. Подготовка данных"
   ]
  },
  {
   "cell_type": "markdown",
   "metadata": {},
   "source": [
    "#### Предобработка данных"
   ]
  },
  {
   "cell_type": "markdown",
   "metadata": {},
   "source": [
    "В таблице со звонками большое число нулевых значений в продолжительности звонков. Возможно это происходит потому, что абоненты вовремя не пополняют баланс sim-карт или из-за сбоев в сети. Но так-как оплата ведется поминутная, то заменю эти значения на единицу."
   ]
  },
  {
   "cell_type": "code",
   "execution_count": 562,
   "metadata": {},
   "outputs": [
    {
     "data": {
      "text/plain": [
       "array([ 1.  ,  2.85, 13.8 , ..., 24.36, 24.5 , 26.9 ])"
      ]
     },
     "execution_count": 562,
     "metadata": {},
     "output_type": "execute_result"
    }
   ],
   "source": [
    "#Заменяю нулевые значения в продолжительности разговоров на значение 1\n",
    "data_calls.loc[data_calls['duration'] == 0, 'duration'] = 1\n",
    "data_calls['duration'].unique()"
   ]
  },
  {
   "cell_type": "code",
   "execution_count": 563,
   "metadata": {},
   "outputs": [],
   "source": [
    "#Округлю значения в столбце \"Продолжительность разговора\", так как тарификация поминутная\n",
    "data_calls['duration'] = np.ceil(data_calls['duration'])"
   ]
  },
  {
   "cell_type": "code",
   "execution_count": 564,
   "metadata": {},
   "outputs": [
    {
     "data": {
      "text/plain": [
       "array([ 113., 1053., 1198., ..., 1540., 1346., 1388.])"
      ]
     },
     "execution_count": 564,
     "metadata": {},
     "output_type": "execute_result"
    }
   ],
   "source": [
    "#Заменяю нулевые значения в продолжительности интернет-сессии на значение 1\n",
    "data_internet.loc[data_internet['mb_used'] == 0, 'mb_used'] = 1\n",
    "data_internet['mb_used'] = np.ceil(data_internet['mb_used'])\n",
    "data_internet['mb_used'].unique()"
   ]
  },
  {
   "cell_type": "code",
   "execution_count": 565,
   "metadata": {},
   "outputs": [
    {
     "data": {
      "text/plain": [
       "<matplotlib.axes._subplots.AxesSubplot at 0x7f4f0d882b50>"
      ]
     },
     "execution_count": 565,
     "metadata": {},
     "output_type": "execute_result"
    },
    {
     "data": {
      "image/png": "[encoded data removed]",
      "text/plain": [
       "<Figure size 432x288 with 1 Axes>"
      ]
     },
     "metadata": {
      "needs_background": "light"
     },
     "output_type": "display_data"
    }
   ],
   "source": [
    "#Посчитаю количество сделанных звонков и израсходованных минут разговора по месяцам\n",
    "count_calls_month = data_calls.groupby(['month'])['id'].count()\n",
    "count_calls_month.plot(title='Зависит ли количество звонков от месяца в году', style='o')"
   ]
  },
  {
   "cell_type": "markdown",
   "metadata": {},
   "source": [
    "Зависимость получилась почти линейной, по всей видимости это связано с нарастающим количеством подключенных абонентов, и соответсвенно, увеличивающемся количеством звонков."
   ]
  },
  {
   "cell_type": "code",
   "execution_count": 566,
   "metadata": {},
   "outputs": [
    {
     "data": {
      "text/plain": [
       "<matplotlib.axes._subplots.AxesSubplot at 0x7f4f0f869650>"
      ]
     },
     "execution_count": 566,
     "metadata": {},
     "output_type": "execute_result"
    },
    {
     "data": {
      "image/png": "[encoded data removed]",
      "text/plain": [
       "<Figure size 432x288 with 1 Axes>"
      ]
     },
     "metadata": {
      "needs_background": "light"
     },
     "output_type": "display_data"
    }
   ],
   "source": [
    "#Посчитаю количество сделанных звонков и израсходованных минут разговора по месяцам для каждого пользователя\n",
    "count_calls_month = data_calls.groupby(['user_id', 'month'])['id'].count()\n",
    "count_calls_month.hist(range=(0, 200))"
   ]
  },
  {
   "cell_type": "markdown",
   "metadata": {},
   "source": [
    "Соберу всю информацию в одной таблице, чтобы с данными было проще работать."
   ]
  },
  {
   "cell_type": "code",
   "execution_count": 567,
   "metadata": {},
   "outputs": [
    {
     "data": {
      "text/html": [
       "<div>\n",
       "<style scoped>\n",
       "    .dataframe tbody tr th:only-of-type {\n",
       "        vertical-align: middle;\n",
       "    }\n",
       "\n",
       "    .dataframe tbody tr th {\n",
       "        vertical-align: top;\n",
       "    }\n",
       "\n",
       "    .dataframe thead th {\n",
       "        text-align: right;\n",
       "    }\n",
       "</style>\n",
       "<table border=\"1\" class=\"dataframe\">\n",
       "  <thead>\n",
       "    <tr style=\"text-align: right;\">\n",
       "      <th></th>\n",
       "      <th>user_id</th>\n",
       "      <th>age</th>\n",
       "      <th>churn_date</th>\n",
       "      <th>city</th>\n",
       "      <th>first_name</th>\n",
       "      <th>last_name</th>\n",
       "      <th>reg_date</th>\n",
       "      <th>tariff</th>\n",
       "      <th>reg_month</th>\n",
       "      <th>month</th>\n",
       "      <th>duration</th>\n",
       "    </tr>\n",
       "  </thead>\n",
       "  <tbody>\n",
       "    <tr>\n",
       "      <td>0</td>\n",
       "      <td>1000</td>\n",
       "      <td>52</td>\n",
       "      <td>NaN</td>\n",
       "      <td>Краснодар</td>\n",
       "      <td>Рафаил</td>\n",
       "      <td>Верещагин</td>\n",
       "      <td>2018-05-25</td>\n",
       "      <td>ultra</td>\n",
       "      <td>5</td>\n",
       "      <td>5</td>\n",
       "      <td>164.0</td>\n",
       "    </tr>\n",
       "    <tr>\n",
       "      <td>1</td>\n",
       "      <td>1000</td>\n",
       "      <td>52</td>\n",
       "      <td>NaN</td>\n",
       "      <td>Краснодар</td>\n",
       "      <td>Рафаил</td>\n",
       "      <td>Верещагин</td>\n",
       "      <td>2018-05-25</td>\n",
       "      <td>ultra</td>\n",
       "      <td>5</td>\n",
       "      <td>6</td>\n",
       "      <td>187.0</td>\n",
       "    </tr>\n",
       "    <tr>\n",
       "      <td>2</td>\n",
       "      <td>1000</td>\n",
       "      <td>52</td>\n",
       "      <td>NaN</td>\n",
       "      <td>Краснодар</td>\n",
       "      <td>Рафаил</td>\n",
       "      <td>Верещагин</td>\n",
       "      <td>2018-05-25</td>\n",
       "      <td>ultra</td>\n",
       "      <td>5</td>\n",
       "      <td>7</td>\n",
       "      <td>346.0</td>\n",
       "    </tr>\n",
       "    <tr>\n",
       "      <td>3</td>\n",
       "      <td>1000</td>\n",
       "      <td>52</td>\n",
       "      <td>NaN</td>\n",
       "      <td>Краснодар</td>\n",
       "      <td>Рафаил</td>\n",
       "      <td>Верещагин</td>\n",
       "      <td>2018-05-25</td>\n",
       "      <td>ultra</td>\n",
       "      <td>5</td>\n",
       "      <td>8</td>\n",
       "      <td>418.0</td>\n",
       "    </tr>\n",
       "    <tr>\n",
       "      <td>4</td>\n",
       "      <td>1000</td>\n",
       "      <td>52</td>\n",
       "      <td>NaN</td>\n",
       "      <td>Краснодар</td>\n",
       "      <td>Рафаил</td>\n",
       "      <td>Верещагин</td>\n",
       "      <td>2018-05-25</td>\n",
       "      <td>ultra</td>\n",
       "      <td>5</td>\n",
       "      <td>9</td>\n",
       "      <td>478.0</td>\n",
       "    </tr>\n",
       "  </tbody>\n",
       "</table>\n",
       "</div>"
      ],
      "text/plain": [
       "   user_id  age churn_date       city first_name  last_name   reg_date tariff  \\\n",
       "0     1000   52        NaN  Краснодар     Рафаил  Верещагин 2018-05-25  ultra   \n",
       "1     1000   52        NaN  Краснодар     Рафаил  Верещагин 2018-05-25  ultra   \n",
       "2     1000   52        NaN  Краснодар     Рафаил  Верещагин 2018-05-25  ultra   \n",
       "3     1000   52        NaN  Краснодар     Рафаил  Верещагин 2018-05-25  ultra   \n",
       "4     1000   52        NaN  Краснодар     Рафаил  Верещагин 2018-05-25  ultra   \n",
       "\n",
       "   reg_month  month  duration  \n",
       "0          5      5     164.0  \n",
       "1          5      6     187.0  \n",
       "2          5      7     346.0  \n",
       "3          5      8     418.0  \n",
       "4          5      9     478.0  "
      ]
     },
     "execution_count": 567,
     "metadata": {},
     "output_type": "execute_result"
    }
   ],
   "source": [
    "#Собираю вместе таблицы users и calls\n",
    "calls_gr = data_calls.groupby(['user_id', 'month'])['duration'].sum()\n",
    "calls_gr = calls_gr.reset_index(level = 'month')\n",
    "users_calls = data_users.merge(calls_gr, on='user_id')\n",
    "users_calls.head()"
   ]
  },
  {
   "cell_type": "code",
   "execution_count": 568,
   "metadata": {},
   "outputs": [
    {
     "name": "stdout",
     "output_type": "stream",
     "text": [
      "<class 'pandas.core.frame.DataFrame'>\n",
      "Int64Index: 3174 entries, 0 to 3173\n",
      "Data columns (total 11 columns):\n",
      "user_id       3174 non-null int64\n",
      "age           3174 non-null int64\n",
      "churn_date    187 non-null object\n",
      "city          3174 non-null object\n",
      "first_name    3174 non-null object\n",
      "last_name     3174 non-null object\n",
      "reg_date      3174 non-null datetime64[ns]\n",
      "tariff        3174 non-null object\n",
      "reg_month     3174 non-null int64\n",
      "month         3174 non-null int64\n",
      "duration      3174 non-null float64\n",
      "dtypes: datetime64[ns](1), float64(1), int64(4), object(5)\n",
      "memory usage: 297.6+ KB\n"
     ]
    }
   ],
   "source": [
    "users_calls.info()"
   ]
  },
  {
   "cell_type": "code",
   "execution_count": 569,
   "metadata": {
    "scrolled": true
   },
   "outputs": [
    {
     "data": {
      "text/html": [
       "<div>\n",
       "<style scoped>\n",
       "    .dataframe tbody tr th:only-of-type {\n",
       "        vertical-align: middle;\n",
       "    }\n",
       "\n",
       "    .dataframe tbody tr th {\n",
       "        vertical-align: top;\n",
       "    }\n",
       "\n",
       "    .dataframe thead th {\n",
       "        text-align: right;\n",
       "    }\n",
       "</style>\n",
       "<table border=\"1\" class=\"dataframe\">\n",
       "  <thead>\n",
       "    <tr style=\"text-align: right;\">\n",
       "      <th></th>\n",
       "      <th>user_id</th>\n",
       "      <th>age</th>\n",
       "      <th>churn_date</th>\n",
       "      <th>city</th>\n",
       "      <th>first_name</th>\n",
       "      <th>last_name</th>\n",
       "      <th>reg_date</th>\n",
       "      <th>tariff</th>\n",
       "      <th>reg_month</th>\n",
       "      <th>month</th>\n",
       "      <th>duration</th>\n",
       "      <th>messages_count</th>\n",
       "    </tr>\n",
       "  </thead>\n",
       "  <tbody>\n",
       "    <tr>\n",
       "      <td>0</td>\n",
       "      <td>1000</td>\n",
       "      <td>52</td>\n",
       "      <td>NaN</td>\n",
       "      <td>Краснодар</td>\n",
       "      <td>Рафаил</td>\n",
       "      <td>Верещагин</td>\n",
       "      <td>2018-05-25</td>\n",
       "      <td>ultra</td>\n",
       "      <td>5</td>\n",
       "      <td>5</td>\n",
       "      <td>164.0</td>\n",
       "      <td>22.0</td>\n",
       "    </tr>\n",
       "    <tr>\n",
       "      <td>1</td>\n",
       "      <td>1000</td>\n",
       "      <td>52</td>\n",
       "      <td>NaN</td>\n",
       "      <td>Краснодар</td>\n",
       "      <td>Рафаил</td>\n",
       "      <td>Верещагин</td>\n",
       "      <td>2018-05-25</td>\n",
       "      <td>ultra</td>\n",
       "      <td>5</td>\n",
       "      <td>6</td>\n",
       "      <td>187.0</td>\n",
       "      <td>60.0</td>\n",
       "    </tr>\n",
       "    <tr>\n",
       "      <td>2</td>\n",
       "      <td>1000</td>\n",
       "      <td>52</td>\n",
       "      <td>NaN</td>\n",
       "      <td>Краснодар</td>\n",
       "      <td>Рафаил</td>\n",
       "      <td>Верещагин</td>\n",
       "      <td>2018-05-25</td>\n",
       "      <td>ultra</td>\n",
       "      <td>5</td>\n",
       "      <td>7</td>\n",
       "      <td>346.0</td>\n",
       "      <td>75.0</td>\n",
       "    </tr>\n",
       "    <tr>\n",
       "      <td>3</td>\n",
       "      <td>1000</td>\n",
       "      <td>52</td>\n",
       "      <td>NaN</td>\n",
       "      <td>Краснодар</td>\n",
       "      <td>Рафаил</td>\n",
       "      <td>Верещагин</td>\n",
       "      <td>2018-05-25</td>\n",
       "      <td>ultra</td>\n",
       "      <td>5</td>\n",
       "      <td>8</td>\n",
       "      <td>418.0</td>\n",
       "      <td>81.0</td>\n",
       "    </tr>\n",
       "    <tr>\n",
       "      <td>4</td>\n",
       "      <td>1000</td>\n",
       "      <td>52</td>\n",
       "      <td>NaN</td>\n",
       "      <td>Краснодар</td>\n",
       "      <td>Рафаил</td>\n",
       "      <td>Верещагин</td>\n",
       "      <td>2018-05-25</td>\n",
       "      <td>ultra</td>\n",
       "      <td>5</td>\n",
       "      <td>9</td>\n",
       "      <td>478.0</td>\n",
       "      <td>57.0</td>\n",
       "    </tr>\n",
       "    <tr>\n",
       "      <td>...</td>\n",
       "      <td>...</td>\n",
       "      <td>...</td>\n",
       "      <td>...</td>\n",
       "      <td>...</td>\n",
       "      <td>...</td>\n",
       "      <td>...</td>\n",
       "      <td>...</td>\n",
       "      <td>...</td>\n",
       "      <td>...</td>\n",
       "      <td>...</td>\n",
       "      <td>...</td>\n",
       "      <td>...</td>\n",
       "    </tr>\n",
       "    <tr>\n",
       "      <td>3169</td>\n",
       "      <td>1498</td>\n",
       "      <td>68</td>\n",
       "      <td>2018-10-25</td>\n",
       "      <td>Владикавказ</td>\n",
       "      <td>Всеволод</td>\n",
       "      <td>Акимчин</td>\n",
       "      <td>2018-07-19</td>\n",
       "      <td>smart</td>\n",
       "      <td>7</td>\n",
       "      <td>10</td>\n",
       "      <td>258.0</td>\n",
       "      <td>42.0</td>\n",
       "    </tr>\n",
       "    <tr>\n",
       "      <td>3170</td>\n",
       "      <td>1499</td>\n",
       "      <td>35</td>\n",
       "      <td>NaN</td>\n",
       "      <td>Пермь</td>\n",
       "      <td>Гектор</td>\n",
       "      <td>Корнилов</td>\n",
       "      <td>2018-09-27</td>\n",
       "      <td>smart</td>\n",
       "      <td>9</td>\n",
       "      <td>9</td>\n",
       "      <td>71.0</td>\n",
       "      <td>11.0</td>\n",
       "    </tr>\n",
       "    <tr>\n",
       "      <td>3171</td>\n",
       "      <td>1499</td>\n",
       "      <td>35</td>\n",
       "      <td>NaN</td>\n",
       "      <td>Пермь</td>\n",
       "      <td>Гектор</td>\n",
       "      <td>Корнилов</td>\n",
       "      <td>2018-09-27</td>\n",
       "      <td>smart</td>\n",
       "      <td>9</td>\n",
       "      <td>10</td>\n",
       "      <td>473.0</td>\n",
       "      <td>48.0</td>\n",
       "    </tr>\n",
       "    <tr>\n",
       "      <td>3172</td>\n",
       "      <td>1499</td>\n",
       "      <td>35</td>\n",
       "      <td>NaN</td>\n",
       "      <td>Пермь</td>\n",
       "      <td>Гектор</td>\n",
       "      <td>Корнилов</td>\n",
       "      <td>2018-09-27</td>\n",
       "      <td>smart</td>\n",
       "      <td>9</td>\n",
       "      <td>11</td>\n",
       "      <td>624.0</td>\n",
       "      <td>59.0</td>\n",
       "    </tr>\n",
       "    <tr>\n",
       "      <td>3173</td>\n",
       "      <td>1499</td>\n",
       "      <td>35</td>\n",
       "      <td>NaN</td>\n",
       "      <td>Пермь</td>\n",
       "      <td>Гектор</td>\n",
       "      <td>Корнилов</td>\n",
       "      <td>2018-09-27</td>\n",
       "      <td>smart</td>\n",
       "      <td>9</td>\n",
       "      <td>12</td>\n",
       "      <td>505.0</td>\n",
       "      <td>66.0</td>\n",
       "    </tr>\n",
       "  </tbody>\n",
       "</table>\n",
       "<p>3174 rows × 12 columns</p>\n",
       "</div>"
      ],
      "text/plain": [
       "      user_id  age  churn_date         city first_name  last_name   reg_date  \\\n",
       "0        1000   52         NaN    Краснодар     Рафаил  Верещагин 2018-05-25   \n",
       "1        1000   52         NaN    Краснодар     Рафаил  Верещагин 2018-05-25   \n",
       "2        1000   52         NaN    Краснодар     Рафаил  Верещагин 2018-05-25   \n",
       "3        1000   52         NaN    Краснодар     Рафаил  Верещагин 2018-05-25   \n",
       "4        1000   52         NaN    Краснодар     Рафаил  Верещагин 2018-05-25   \n",
       "...       ...  ...         ...          ...        ...        ...        ...   \n",
       "3169     1498   68  2018-10-25  Владикавказ   Всеволод    Акимчин 2018-07-19   \n",
       "3170     1499   35         NaN        Пермь     Гектор   Корнилов 2018-09-27   \n",
       "3171     1499   35         NaN        Пермь     Гектор   Корнилов 2018-09-27   \n",
       "3172     1499   35         NaN        Пермь     Гектор   Корнилов 2018-09-27   \n",
       "3173     1499   35         NaN        Пермь     Гектор   Корнилов 2018-09-27   \n",
       "\n",
       "     tariff  reg_month  month  duration  messages_count  \n",
       "0     ultra          5      5     164.0            22.0  \n",
       "1     ultra          5      6     187.0            60.0  \n",
       "2     ultra          5      7     346.0            75.0  \n",
       "3     ultra          5      8     418.0            81.0  \n",
       "4     ultra          5      9     478.0            57.0  \n",
       "...     ...        ...    ...       ...             ...  \n",
       "3169  smart          7     10     258.0            42.0  \n",
       "3170  smart          9      9      71.0            11.0  \n",
       "3171  smart          9     10     473.0            48.0  \n",
       "3172  smart          9     11     624.0            59.0  \n",
       "3173  smart          9     12     505.0            66.0  \n",
       "\n",
       "[3174 rows x 12 columns]"
      ]
     },
     "execution_count": 569,
     "metadata": {},
     "output_type": "execute_result"
    }
   ],
   "source": [
    "#Собираю вместе таблицы users_calls и messages\n",
    "messages_gr = data_messages.groupby(['user_id', 'month'])['id'].count()\n",
    "messages_gr = messages_gr.reset_index(level = 'month')\n",
    "messages_gr.columns = ['month', 'messages_count']\n",
    "users_calls_messages = users_calls.merge(messages_gr, on=['user_id', 'month'], how='left')\n",
    "users_calls_messages"
   ]
  },
  {
   "cell_type": "code",
   "execution_count": 570,
   "metadata": {},
   "outputs": [],
   "source": [
    "#Собираю вместе таблицы users_calls_messages и internet\n",
    "data_internet['session_date'] = pd.to_datetime(data_internet['session_date'], format='%Y-%m-%d')\n",
    "data_internet['month'] = pd.DatetimeIndex(data_internet['session_date']).month\n",
    "internet_gr = data_internet.groupby(['user_id', 'month'])['mb_used'].sum()\n",
    "internet_gr = internet_gr.reset_index(level = 'month')\n",
    "internet_gr.columns = ['month', 'mb_count']\n",
    "users_calls_messages_internet = users_calls_messages.merge(internet_gr, on=['user_id', 'month'], how='left')"
   ]
  },
  {
   "cell_type": "code",
   "execution_count": 598,
   "metadata": {
    "scrolled": true
   },
   "outputs": [
    {
     "data": {
      "text/html": [
       "<div>\n",
       "<style scoped>\n",
       "    .dataframe tbody tr th:only-of-type {\n",
       "        vertical-align: middle;\n",
       "    }\n",
       "\n",
       "    .dataframe tbody tr th {\n",
       "        vertical-align: top;\n",
       "    }\n",
       "\n",
       "    .dataframe thead th {\n",
       "        text-align: right;\n",
       "    }\n",
       "</style>\n",
       "<table border=\"1\" class=\"dataframe\">\n",
       "  <thead>\n",
       "    <tr style=\"text-align: right;\">\n",
       "      <th></th>\n",
       "      <th>user_id</th>\n",
       "      <th>age</th>\n",
       "      <th>churn_date</th>\n",
       "      <th>city</th>\n",
       "      <th>first_name</th>\n",
       "      <th>last_name</th>\n",
       "      <th>reg_date</th>\n",
       "      <th>tariff</th>\n",
       "      <th>reg_month</th>\n",
       "      <th>month</th>\n",
       "      <th>duration</th>\n",
       "      <th>messages_count</th>\n",
       "      <th>mb_count</th>\n",
       "      <th>messages_included</th>\n",
       "      <th>mb_per_month_included</th>\n",
       "      <th>minutes_included</th>\n",
       "      <th>rub_monthly_fee</th>\n",
       "      <th>rub_per_gb</th>\n",
       "      <th>rub_per_message</th>\n",
       "      <th>rub_per_minute</th>\n",
       "    </tr>\n",
       "  </thead>\n",
       "  <tbody>\n",
       "    <tr>\n",
       "      <td>0</td>\n",
       "      <td>1000</td>\n",
       "      <td>52</td>\n",
       "      <td>NaN</td>\n",
       "      <td>Краснодар</td>\n",
       "      <td>Рафаил</td>\n",
       "      <td>Верещагин</td>\n",
       "      <td>2018-05-25</td>\n",
       "      <td>ultra</td>\n",
       "      <td>5</td>\n",
       "      <td>5</td>\n",
       "      <td>164.0</td>\n",
       "      <td>22.0</td>\n",
       "      <td>2257.0</td>\n",
       "      <td>1000</td>\n",
       "      <td>30720</td>\n",
       "      <td>3000</td>\n",
       "      <td>1950</td>\n",
       "      <td>150</td>\n",
       "      <td>1</td>\n",
       "      <td>1</td>\n",
       "    </tr>\n",
       "    <tr>\n",
       "      <td>1</td>\n",
       "      <td>1000</td>\n",
       "      <td>52</td>\n",
       "      <td>NaN</td>\n",
       "      <td>Краснодар</td>\n",
       "      <td>Рафаил</td>\n",
       "      <td>Верещагин</td>\n",
       "      <td>2018-05-25</td>\n",
       "      <td>ultra</td>\n",
       "      <td>5</td>\n",
       "      <td>6</td>\n",
       "      <td>187.0</td>\n",
       "      <td>60.0</td>\n",
       "      <td>23262.0</td>\n",
       "      <td>1000</td>\n",
       "      <td>30720</td>\n",
       "      <td>3000</td>\n",
       "      <td>1950</td>\n",
       "      <td>150</td>\n",
       "      <td>1</td>\n",
       "      <td>1</td>\n",
       "    </tr>\n",
       "    <tr>\n",
       "      <td>2</td>\n",
       "      <td>1000</td>\n",
       "      <td>52</td>\n",
       "      <td>NaN</td>\n",
       "      <td>Краснодар</td>\n",
       "      <td>Рафаил</td>\n",
       "      <td>Верещагин</td>\n",
       "      <td>2018-05-25</td>\n",
       "      <td>ultra</td>\n",
       "      <td>5</td>\n",
       "      <td>7</td>\n",
       "      <td>346.0</td>\n",
       "      <td>75.0</td>\n",
       "      <td>14017.0</td>\n",
       "      <td>1000</td>\n",
       "      <td>30720</td>\n",
       "      <td>3000</td>\n",
       "      <td>1950</td>\n",
       "      <td>150</td>\n",
       "      <td>1</td>\n",
       "      <td>1</td>\n",
       "    </tr>\n",
       "    <tr>\n",
       "      <td>3</td>\n",
       "      <td>1000</td>\n",
       "      <td>52</td>\n",
       "      <td>NaN</td>\n",
       "      <td>Краснодар</td>\n",
       "      <td>Рафаил</td>\n",
       "      <td>Верещагин</td>\n",
       "      <td>2018-05-25</td>\n",
       "      <td>ultra</td>\n",
       "      <td>5</td>\n",
       "      <td>8</td>\n",
       "      <td>418.0</td>\n",
       "      <td>81.0</td>\n",
       "      <td>14072.0</td>\n",
       "      <td>1000</td>\n",
       "      <td>30720</td>\n",
       "      <td>3000</td>\n",
       "      <td>1950</td>\n",
       "      <td>150</td>\n",
       "      <td>1</td>\n",
       "      <td>1</td>\n",
       "    </tr>\n",
       "    <tr>\n",
       "      <td>4</td>\n",
       "      <td>1000</td>\n",
       "      <td>52</td>\n",
       "      <td>NaN</td>\n",
       "      <td>Краснодар</td>\n",
       "      <td>Рафаил</td>\n",
       "      <td>Верещагин</td>\n",
       "      <td>2018-05-25</td>\n",
       "      <td>ultra</td>\n",
       "      <td>5</td>\n",
       "      <td>9</td>\n",
       "      <td>478.0</td>\n",
       "      <td>57.0</td>\n",
       "      <td>14583.0</td>\n",
       "      <td>1000</td>\n",
       "      <td>30720</td>\n",
       "      <td>3000</td>\n",
       "      <td>1950</td>\n",
       "      <td>150</td>\n",
       "      <td>1</td>\n",
       "      <td>1</td>\n",
       "    </tr>\n",
       "  </tbody>\n",
       "</table>\n",
       "</div>"
      ],
      "text/plain": [
       "   user_id  age churn_date       city first_name  last_name   reg_date tariff  \\\n",
       "0     1000   52        NaN  Краснодар     Рафаил  Верещагин 2018-05-25  ultra   \n",
       "1     1000   52        NaN  Краснодар     Рафаил  Верещагин 2018-05-25  ultra   \n",
       "2     1000   52        NaN  Краснодар     Рафаил  Верещагин 2018-05-25  ultra   \n",
       "3     1000   52        NaN  Краснодар     Рафаил  Верещагин 2018-05-25  ultra   \n",
       "4     1000   52        NaN  Краснодар     Рафаил  Верещагин 2018-05-25  ultra   \n",
       "\n",
       "   reg_month  month  duration  messages_count  mb_count  messages_included  \\\n",
       "0          5      5     164.0            22.0    2257.0               1000   \n",
       "1          5      6     187.0            60.0   23262.0               1000   \n",
       "2          5      7     346.0            75.0   14017.0               1000   \n",
       "3          5      8     418.0            81.0   14072.0               1000   \n",
       "4          5      9     478.0            57.0   14583.0               1000   \n",
       "\n",
       "   mb_per_month_included  minutes_included  rub_monthly_fee  rub_per_gb  \\\n",
       "0                  30720              3000             1950         150   \n",
       "1                  30720              3000             1950         150   \n",
       "2                  30720              3000             1950         150   \n",
       "3                  30720              3000             1950         150   \n",
       "4                  30720              3000             1950         150   \n",
       "\n",
       "   rub_per_message  rub_per_minute  \n",
       "0                1               1  \n",
       "1                1               1  \n",
       "2                1               1  \n",
       "3                1               1  \n",
       "4                1               1  "
      ]
     },
     "execution_count": 598,
     "metadata": {},
     "output_type": "execute_result"
    }
   ],
   "source": [
    "#Добавляю ко всем данным таблицу tariffs\n",
    "all_data = users_calls_messages_internet.merge(data_tariffs, on=['tariff'])\n",
    "all_data.head()"
   ]
  },
  {
   "cell_type": "code",
   "execution_count": 599,
   "metadata": {},
   "outputs": [
    {
     "data": {
      "text/html": [
       "<div>\n",
       "<style scoped>\n",
       "    .dataframe tbody tr th:only-of-type {\n",
       "        vertical-align: middle;\n",
       "    }\n",
       "\n",
       "    .dataframe tbody tr th {\n",
       "        vertical-align: top;\n",
       "    }\n",
       "\n",
       "    .dataframe thead th {\n",
       "        text-align: right;\n",
       "    }\n",
       "</style>\n",
       "<table border=\"1\" class=\"dataframe\">\n",
       "  <thead>\n",
       "    <tr style=\"text-align: right;\">\n",
       "      <th></th>\n",
       "      <th>user_id</th>\n",
       "      <th>age</th>\n",
       "      <th>churn_date</th>\n",
       "      <th>city</th>\n",
       "      <th>first_name</th>\n",
       "      <th>last_name</th>\n",
       "      <th>reg_date</th>\n",
       "      <th>tariff</th>\n",
       "      <th>reg_month</th>\n",
       "      <th>month</th>\n",
       "      <th>duration</th>\n",
       "      <th>messages_count</th>\n",
       "      <th>mb_count</th>\n",
       "      <th>messages_included</th>\n",
       "      <th>mb_per_month_included</th>\n",
       "      <th>minutes_included</th>\n",
       "      <th>rub_monthly_fee</th>\n",
       "      <th>rub_per_gb</th>\n",
       "      <th>rub_per_message</th>\n",
       "      <th>rub_per_minute</th>\n",
       "    </tr>\n",
       "  </thead>\n",
       "  <tbody>\n",
       "    <tr>\n",
       "      <td>0</td>\n",
       "      <td>1000</td>\n",
       "      <td>52</td>\n",
       "      <td>NaN</td>\n",
       "      <td>Краснодар</td>\n",
       "      <td>Рафаил</td>\n",
       "      <td>Верещагин</td>\n",
       "      <td>2018-05-25</td>\n",
       "      <td>ultra</td>\n",
       "      <td>5</td>\n",
       "      <td>5</td>\n",
       "      <td>164.0</td>\n",
       "      <td>22.0</td>\n",
       "      <td>2257.0</td>\n",
       "      <td>1000</td>\n",
       "      <td>30720</td>\n",
       "      <td>3000</td>\n",
       "      <td>1950</td>\n",
       "      <td>150</td>\n",
       "      <td>1</td>\n",
       "      <td>1</td>\n",
       "    </tr>\n",
       "    <tr>\n",
       "      <td>1</td>\n",
       "      <td>1000</td>\n",
       "      <td>52</td>\n",
       "      <td>NaN</td>\n",
       "      <td>Краснодар</td>\n",
       "      <td>Рафаил</td>\n",
       "      <td>Верещагин</td>\n",
       "      <td>2018-05-25</td>\n",
       "      <td>ultra</td>\n",
       "      <td>5</td>\n",
       "      <td>6</td>\n",
       "      <td>187.0</td>\n",
       "      <td>60.0</td>\n",
       "      <td>23262.0</td>\n",
       "      <td>1000</td>\n",
       "      <td>30720</td>\n",
       "      <td>3000</td>\n",
       "      <td>1950</td>\n",
       "      <td>150</td>\n",
       "      <td>1</td>\n",
       "      <td>1</td>\n",
       "    </tr>\n",
       "    <tr>\n",
       "      <td>2</td>\n",
       "      <td>1000</td>\n",
       "      <td>52</td>\n",
       "      <td>NaN</td>\n",
       "      <td>Краснодар</td>\n",
       "      <td>Рафаил</td>\n",
       "      <td>Верещагин</td>\n",
       "      <td>2018-05-25</td>\n",
       "      <td>ultra</td>\n",
       "      <td>5</td>\n",
       "      <td>7</td>\n",
       "      <td>346.0</td>\n",
       "      <td>75.0</td>\n",
       "      <td>14017.0</td>\n",
       "      <td>1000</td>\n",
       "      <td>30720</td>\n",
       "      <td>3000</td>\n",
       "      <td>1950</td>\n",
       "      <td>150</td>\n",
       "      <td>1</td>\n",
       "      <td>1</td>\n",
       "    </tr>\n",
       "    <tr>\n",
       "      <td>3</td>\n",
       "      <td>1000</td>\n",
       "      <td>52</td>\n",
       "      <td>NaN</td>\n",
       "      <td>Краснодар</td>\n",
       "      <td>Рафаил</td>\n",
       "      <td>Верещагин</td>\n",
       "      <td>2018-05-25</td>\n",
       "      <td>ultra</td>\n",
       "      <td>5</td>\n",
       "      <td>8</td>\n",
       "      <td>418.0</td>\n",
       "      <td>81.0</td>\n",
       "      <td>14072.0</td>\n",
       "      <td>1000</td>\n",
       "      <td>30720</td>\n",
       "      <td>3000</td>\n",
       "      <td>1950</td>\n",
       "      <td>150</td>\n",
       "      <td>1</td>\n",
       "      <td>1</td>\n",
       "    </tr>\n",
       "    <tr>\n",
       "      <td>4</td>\n",
       "      <td>1000</td>\n",
       "      <td>52</td>\n",
       "      <td>NaN</td>\n",
       "      <td>Краснодар</td>\n",
       "      <td>Рафаил</td>\n",
       "      <td>Верещагин</td>\n",
       "      <td>2018-05-25</td>\n",
       "      <td>ultra</td>\n",
       "      <td>5</td>\n",
       "      <td>9</td>\n",
       "      <td>478.0</td>\n",
       "      <td>57.0</td>\n",
       "      <td>14583.0</td>\n",
       "      <td>1000</td>\n",
       "      <td>30720</td>\n",
       "      <td>3000</td>\n",
       "      <td>1950</td>\n",
       "      <td>150</td>\n",
       "      <td>1</td>\n",
       "      <td>1</td>\n",
       "    </tr>\n",
       "  </tbody>\n",
       "</table>\n",
       "</div>"
      ],
      "text/plain": [
       "   user_id  age churn_date       city first_name  last_name   reg_date tariff  \\\n",
       "0     1000   52        NaN  Краснодар     Рафаил  Верещагин 2018-05-25  ultra   \n",
       "1     1000   52        NaN  Краснодар     Рафаил  Верещагин 2018-05-25  ultra   \n",
       "2     1000   52        NaN  Краснодар     Рафаил  Верещагин 2018-05-25  ultra   \n",
       "3     1000   52        NaN  Краснодар     Рафаил  Верещагин 2018-05-25  ultra   \n",
       "4     1000   52        NaN  Краснодар     Рафаил  Верещагин 2018-05-25  ultra   \n",
       "\n",
       "   reg_month  month  duration  messages_count  mb_count  messages_included  \\\n",
       "0          5      5     164.0            22.0    2257.0               1000   \n",
       "1          5      6     187.0            60.0   23262.0               1000   \n",
       "2          5      7     346.0            75.0   14017.0               1000   \n",
       "3          5      8     418.0            81.0   14072.0               1000   \n",
       "4          5      9     478.0            57.0   14583.0               1000   \n",
       "\n",
       "   mb_per_month_included  minutes_included  rub_monthly_fee  rub_per_gb  \\\n",
       "0                  30720              3000             1950         150   \n",
       "1                  30720              3000             1950         150   \n",
       "2                  30720              3000             1950         150   \n",
       "3                  30720              3000             1950         150   \n",
       "4                  30720              3000             1950         150   \n",
       "\n",
       "   rub_per_message  rub_per_minute  \n",
       "0                1               1  \n",
       "1                1               1  \n",
       "2                1               1  \n",
       "3                1               1  \n",
       "4                1               1  "
      ]
     },
     "execution_count": 599,
     "metadata": {},
     "output_type": "execute_result"
    }
   ],
   "source": [
    "#Округляю значения в столбце 'duration', так как в тарифах предусмотрена поминутная тарификация\n",
    "all_data['duration'] = np.ceil(all_data['duration'])\n",
    "all_data.head()"
   ]
  },
  {
   "cell_type": "code",
   "execution_count": 574,
   "metadata": {
    "scrolled": true
   },
   "outputs": [
    {
     "data": {
      "text/plain": [
       "0       1950\n",
       "1       1950\n",
       "2       1950\n",
       "3       1950\n",
       "4       1950\n",
       "        ... \n",
       "3169     550\n",
       "3170     550\n",
       "3171     550\n",
       "3172     922\n",
       "3173     565\n",
       "Name: revenue, Length: 3174, dtype: int64"
      ]
     },
     "execution_count": 574,
     "metadata": {},
     "output_type": "execute_result"
    }
   ],
   "source": [
    "#Посчитаю выручку с каждого абонента\n",
    "all_data['revenue'] = all_data['rub_monthly_fee'] + np.where((all_data['duration'] - all_data['minutes_included'])*all_data['rub_per_minute'] > 0, ((all_data['duration'] - all_data['minutes_included'])*all_data['rub_per_minute']), 0) \n",
    "+ np.where(((all_data['messages_count'] - all_data['messages_included'])*all_data['rub_per_message']) > 0, ((all_data['messages_count'] - all_data['messages_included'])*all_data['rub_per_message']), 0) \n",
    "+ np.where((((all_data['mb_count'] - all_data['mb_per_month_included'])/1024)*all_data['rub_per_gb']) > 0, (((all_data['mb_count'] - all_data['mb_per_month_included'])/1024)*all_data['rub_per_gb']),0)\n",
    "\n",
    "all_data['revenue'].astype(int)  "
   ]
  },
  {
   "cell_type": "code",
   "execution_count": 575,
   "metadata": {},
   "outputs": [],
   "source": [
    "#Заменяю пропущенные значения в нужных столбцах на нулевые\n",
    "all_data['mb_count'] = all_data['mb_count'].fillna(value=0)\n",
    "all_data['messages_count'] = all_data['messages_count'].fillna(value=0)\n",
    "all_data['duration'] = all_data['duration'].fillna(value=0)"
   ]
  },
  {
   "cell_type": "code",
   "execution_count": 576,
   "metadata": {},
   "outputs": [
    {
     "name": "stdout",
     "output_type": "stream",
     "text": [
      "user_id\n",
      "age\n",
      "churn_date\n",
      "city\n",
      "first_name\n",
      "last_name\n",
      "reg_date\n",
      "tariff\n",
      "reg_month\n",
      "month\n",
      "duration\n",
      "messages_count\n",
      "mb_count\n",
      "messages_included\n",
      "mb_per_month_included\n",
      "minutes_included\n",
      "rub_monthly_fee\n",
      "rub_per_gb\n",
      "rub_per_message\n",
      "rub_per_minute\n",
      "revenue\n"
     ]
    }
   ],
   "source": [
    "for col in all_data.columns: \n",
    "    print(col) "
   ]
  },
  {
   "cell_type": "code",
   "execution_count": 577,
   "metadata": {
    "scrolled": true
   },
   "outputs": [],
   "source": [
    "#Удаляю из таблицы данные, которые не будут участвовать в анализе\n",
    "all_data.drop(all_data.columns[[1,2,4,5,6,8,13,14,15,16,17,18,19]],axis=1, inplace=True) "
   ]
  },
  {
   "cell_type": "code",
   "execution_count": 578,
   "metadata": {},
   "outputs": [
    {
     "name": "stdout",
     "output_type": "stream",
     "text": [
      "user_id\n",
      "city\n",
      "tariff\n",
      "month\n",
      "duration\n",
      "messages_count\n",
      "mb_count\n",
      "revenue\n"
     ]
    }
   ],
   "source": [
    "for col in all_data.columns: \n",
    "    print(col) "
   ]
  },
  {
   "cell_type": "code",
   "execution_count": 579,
   "metadata": {},
   "outputs": [
    {
     "data": {
      "text/html": [
       "<div>\n",
       "<style scoped>\n",
       "    .dataframe tbody tr th:only-of-type {\n",
       "        vertical-align: middle;\n",
       "    }\n",
       "\n",
       "    .dataframe tbody tr th {\n",
       "        vertical-align: top;\n",
       "    }\n",
       "\n",
       "    .dataframe thead th {\n",
       "        text-align: right;\n",
       "    }\n",
       "</style>\n",
       "<table border=\"1\" class=\"dataframe\">\n",
       "  <thead>\n",
       "    <tr style=\"text-align: right;\">\n",
       "      <th></th>\n",
       "      <th>user_id</th>\n",
       "      <th>city</th>\n",
       "      <th>tariff</th>\n",
       "      <th>month</th>\n",
       "      <th>duration</th>\n",
       "      <th>messages_count</th>\n",
       "      <th>mb_count</th>\n",
       "      <th>revenue</th>\n",
       "    </tr>\n",
       "  </thead>\n",
       "  <tbody>\n",
       "    <tr>\n",
       "      <td>0</td>\n",
       "      <td>1000</td>\n",
       "      <td>Краснодар</td>\n",
       "      <td>ultra</td>\n",
       "      <td>5</td>\n",
       "      <td>164.0</td>\n",
       "      <td>22.0</td>\n",
       "      <td>2257.0</td>\n",
       "      <td>1950.0</td>\n",
       "    </tr>\n",
       "    <tr>\n",
       "      <td>1</td>\n",
       "      <td>1000</td>\n",
       "      <td>Краснодар</td>\n",
       "      <td>ultra</td>\n",
       "      <td>6</td>\n",
       "      <td>187.0</td>\n",
       "      <td>60.0</td>\n",
       "      <td>23262.0</td>\n",
       "      <td>1950.0</td>\n",
       "    </tr>\n",
       "    <tr>\n",
       "      <td>2</td>\n",
       "      <td>1000</td>\n",
       "      <td>Краснодар</td>\n",
       "      <td>ultra</td>\n",
       "      <td>7</td>\n",
       "      <td>346.0</td>\n",
       "      <td>75.0</td>\n",
       "      <td>14017.0</td>\n",
       "      <td>1950.0</td>\n",
       "    </tr>\n",
       "    <tr>\n",
       "      <td>3</td>\n",
       "      <td>1000</td>\n",
       "      <td>Краснодар</td>\n",
       "      <td>ultra</td>\n",
       "      <td>8</td>\n",
       "      <td>418.0</td>\n",
       "      <td>81.0</td>\n",
       "      <td>14072.0</td>\n",
       "      <td>1950.0</td>\n",
       "    </tr>\n",
       "    <tr>\n",
       "      <td>4</td>\n",
       "      <td>1000</td>\n",
       "      <td>Краснодар</td>\n",
       "      <td>ultra</td>\n",
       "      <td>9</td>\n",
       "      <td>478.0</td>\n",
       "      <td>57.0</td>\n",
       "      <td>14583.0</td>\n",
       "      <td>1950.0</td>\n",
       "    </tr>\n",
       "    <tr>\n",
       "      <td>...</td>\n",
       "      <td>...</td>\n",
       "      <td>...</td>\n",
       "      <td>...</td>\n",
       "      <td>...</td>\n",
       "      <td>...</td>\n",
       "      <td>...</td>\n",
       "      <td>...</td>\n",
       "      <td>...</td>\n",
       "    </tr>\n",
       "    <tr>\n",
       "      <td>3169</td>\n",
       "      <td>1498</td>\n",
       "      <td>Владикавказ</td>\n",
       "      <td>smart</td>\n",
       "      <td>10</td>\n",
       "      <td>258.0</td>\n",
       "      <td>42.0</td>\n",
       "      <td>20614.0</td>\n",
       "      <td>550.0</td>\n",
       "    </tr>\n",
       "    <tr>\n",
       "      <td>3170</td>\n",
       "      <td>1499</td>\n",
       "      <td>Пермь</td>\n",
       "      <td>smart</td>\n",
       "      <td>9</td>\n",
       "      <td>71.0</td>\n",
       "      <td>11.0</td>\n",
       "      <td>1849.0</td>\n",
       "      <td>550.0</td>\n",
       "    </tr>\n",
       "    <tr>\n",
       "      <td>3171</td>\n",
       "      <td>1499</td>\n",
       "      <td>Пермь</td>\n",
       "      <td>smart</td>\n",
       "      <td>10</td>\n",
       "      <td>473.0</td>\n",
       "      <td>48.0</td>\n",
       "      <td>17824.0</td>\n",
       "      <td>550.0</td>\n",
       "    </tr>\n",
       "    <tr>\n",
       "      <td>3172</td>\n",
       "      <td>1499</td>\n",
       "      <td>Пермь</td>\n",
       "      <td>smart</td>\n",
       "      <td>11</td>\n",
       "      <td>624.0</td>\n",
       "      <td>59.0</td>\n",
       "      <td>17994.0</td>\n",
       "      <td>922.0</td>\n",
       "    </tr>\n",
       "    <tr>\n",
       "      <td>3173</td>\n",
       "      <td>1499</td>\n",
       "      <td>Пермь</td>\n",
       "      <td>smart</td>\n",
       "      <td>12</td>\n",
       "      <td>505.0</td>\n",
       "      <td>66.0</td>\n",
       "      <td>13082.0</td>\n",
       "      <td>565.0</td>\n",
       "    </tr>\n",
       "  </tbody>\n",
       "</table>\n",
       "<p>3174 rows × 8 columns</p>\n",
       "</div>"
      ],
      "text/plain": [
       "      user_id         city tariff  month  duration  messages_count  mb_count  \\\n",
       "0        1000    Краснодар  ultra      5     164.0            22.0    2257.0   \n",
       "1        1000    Краснодар  ultra      6     187.0            60.0   23262.0   \n",
       "2        1000    Краснодар  ultra      7     346.0            75.0   14017.0   \n",
       "3        1000    Краснодар  ultra      8     418.0            81.0   14072.0   \n",
       "4        1000    Краснодар  ultra      9     478.0            57.0   14583.0   \n",
       "...       ...          ...    ...    ...       ...             ...       ...   \n",
       "3169     1498  Владикавказ  smart     10     258.0            42.0   20614.0   \n",
       "3170     1499        Пермь  smart      9      71.0            11.0    1849.0   \n",
       "3171     1499        Пермь  smart     10     473.0            48.0   17824.0   \n",
       "3172     1499        Пермь  smart     11     624.0            59.0   17994.0   \n",
       "3173     1499        Пермь  smart     12     505.0            66.0   13082.0   \n",
       "\n",
       "      revenue  \n",
       "0      1950.0  \n",
       "1      1950.0  \n",
       "2      1950.0  \n",
       "3      1950.0  \n",
       "4      1950.0  \n",
       "...       ...  \n",
       "3169    550.0  \n",
       "3170    550.0  \n",
       "3171    550.0  \n",
       "3172    922.0  \n",
       "3173    565.0  \n",
       "\n",
       "[3174 rows x 8 columns]"
      ]
     },
     "execution_count": 579,
     "metadata": {},
     "output_type": "execute_result"
    }
   ],
   "source": [
    "all_data"
   ]
  },
  {
   "cell_type": "markdown",
   "metadata": {},
   "source": [
    "### Шаг 3. Анализ данных"
   ]
  },
  {
   "cell_type": "markdown",
   "metadata": {},
   "source": [
    "#### Сколько минут разговора требуется пользователям в месяц"
   ]
  },
  {
   "cell_type": "code",
   "execution_count": 580,
   "metadata": {
    "scrolled": false
   },
   "outputs": [
    {
     "data": {
      "text/plain": [
       "<matplotlib.legend.Legend at 0x7f4f10a18ad0>"
      ]
     },
     "execution_count": 580,
     "metadata": {},
     "output_type": "execute_result"
    },
    {
     "data": {
      "image/png": "[encoded data removed]",
      "text/plain": [
       "<Figure size 432x288 with 1 Axes>"
      ]
     },
     "metadata": {
      "needs_background": "light"
     },
     "output_type": "display_data"
    }
   ],
   "source": [
    "#Проанализирую уредненное значение длительности разговоров по месяцам\n",
    "mean_duration_month_ultra = all_data.query('tariff == \"ultra\"')\n",
    "mean_duration_month_ultra = mean_duration_month_ultra.groupby('month')['duration'].mean()\n",
    "mean_duration_month_ultra.plot(title= 'Длительность разговоров по месяцам', style='o-', label = 'ultra')\n",
    "mean_duration_month_smart = all_data.query('tariff == \"smart\"')\n",
    "mean_duration_month_smart = mean_duration_month_smart.groupby('month')['duration'].mean()\n",
    "mean_duration_month_smart.plot(title= 'Длительность разговоров по месяцам', style='o-', label = 'smart')\n",
    "plt.legend(loc='lower right', frameon = False)"
   ]
  },
  {
   "cell_type": "code",
   "execution_count": 581,
   "metadata": {},
   "outputs": [
    {
     "data": {
      "text/plain": [
       "<matplotlib.legend.Legend at 0x7f4f0f787a90>"
      ]
     },
     "execution_count": 581,
     "metadata": {},
     "output_type": "execute_result"
    },
    {
     "data": {
      "image/png": "[encoded data removed]",
      "text/plain": [
       "<Figure size 432x288 with 1 Axes>"
      ]
     },
     "metadata": {
      "needs_background": "light"
     },
     "output_type": "display_data"
    }
   ],
   "source": [
    "#Построю гистограмму для средней длительности разговоров для каждого пользователя\n",
    "hist_duration_month_smart = all_data.query('tariff == \"smart\"')\n",
    "hist_duration_month_smart = hist_duration_month_smart.groupby('user_id')['duration'].mean()\n",
    "hist_duration_month_ultra = all_data.query('tariff == \"ultra\"')\n",
    "hist_duration_month_ultra = hist_duration_month_ultra.groupby('user_id')['duration'].mean()\n",
    "plt.hist(np.array(hist_duration_month_smart), histtype = 'bar', alpha = 0.5, bins=30)\n",
    "plt.hist(np.array(hist_duration_month_ultra), histtype = 'bar', alpha = 0.5, bins=30)\n",
    "plt.xlabel(\"Длительность разговора\", fontsize=12)  \n",
    "plt.ylabel(\"Частота\", fontsize=12)\n",
    "labels= [\"smart\",\"ultra\"]\n",
    "plt.legend(labels)"
   ]
  },
  {
   "cell_type": "markdown",
   "metadata": {},
   "source": [
    "Длительность разговоров в зависимости от месяца в году меняется не сильно. Наибольшая длительность разговоров наблюдается в конце года.\n",
    "Продолжительность разговора в зависимости от пользователя к пользователю для тарифа smart похоже на нормальное распределение, с ярко выраженным пиком."
   ]
  },
  {
   "cell_type": "code",
   "execution_count": 582,
   "metadata": {
    "scrolled": false
   },
   "outputs": [],
   "source": [
    "#Рассчитаю среднее и медиану\n",
    "avr_duration_ultra = mean_duration_month_ultra.mean()\n",
    "avr_duration_smart = mean_duration_month_smart.mean()\n",
    "median_duration_ultra = mean_duration_month_ultra.median()\n",
    "median_duration_smart = mean_duration_month_smart.median()\n",
    "#Рассчитаю дисперсию для среднего количества минут разговора\n",
    "variance_estimate_duration_ultra = np.var(mean_duration_month_ultra, ddof=1)\n",
    "variance_estimate_duration_smart = np.var(mean_duration_month_smart, ddof=1)\n",
    "#Рассчитаю стандартное отклонение для среднего количества минут разговора\n",
    "std_duration_ultra = np.sqrt(variance_estimate_duration_ultra)\n",
    "std_duration_ultra = np.sqrt(variance_estimate_duration_smart)"
   ]
  },
  {
   "cell_type": "code",
   "execution_count": 583,
   "metadata": {},
   "outputs": [
    {
     "data": {
      "text/html": [
       "<div>\n",
       "<style scoped>\n",
       "    .dataframe tbody tr th:only-of-type {\n",
       "        vertical-align: middle;\n",
       "    }\n",
       "\n",
       "    .dataframe tbody tr th {\n",
       "        vertical-align: top;\n",
       "    }\n",
       "\n",
       "    .dataframe thead th {\n",
       "        text-align: right;\n",
       "    }\n",
       "</style>\n",
       "<table border=\"1\" class=\"dataframe\">\n",
       "  <thead>\n",
       "    <tr style=\"text-align: right;\">\n",
       "      <th></th>\n",
       "      <th>Параметр</th>\n",
       "      <th>Тариф Ультра</th>\n",
       "      <th>Тариф Смарт</th>\n",
       "    </tr>\n",
       "  </thead>\n",
       "  <tbody>\n",
       "    <tr>\n",
       "      <td>0</td>\n",
       "      <td>Среднее</td>\n",
       "      <td>525.068849</td>\n",
       "      <td>398.242974</td>\n",
       "    </tr>\n",
       "    <tr>\n",
       "      <td>1</td>\n",
       "      <td>Медиана</td>\n",
       "      <td>547.205249</td>\n",
       "      <td>414.242438</td>\n",
       "    </tr>\n",
       "    <tr>\n",
       "      <td>2</td>\n",
       "      <td>Дисперсия</td>\n",
       "      <td>7578.632145</td>\n",
       "      <td>5595.659947</td>\n",
       "    </tr>\n",
       "    <tr>\n",
       "      <td>3</td>\n",
       "      <td>Стд.отклонение</td>\n",
       "      <td>74.804144</td>\n",
       "      <td>74.804144</td>\n",
       "    </tr>\n",
       "  </tbody>\n",
       "</table>\n",
       "</div>"
      ],
      "text/plain": [
       "         Параметр  Тариф Ультра  Тариф Смарт\n",
       "0         Среднее    525.068849   398.242974\n",
       "1         Медиана    547.205249   414.242438\n",
       "2       Дисперсия   7578.632145  5595.659947\n",
       "3  Стд.отклонение     74.804144    74.804144"
      ]
     },
     "execution_count": 583,
     "metadata": {},
     "output_type": "execute_result"
    }
   ],
   "source": [
    "duration_par = {'Параметр': ['Среднее','Медиана','Дисперсия','Стд.отклонение'],\n",
    "       'Тариф Ультра': [avr_duration_ultra, median_duration_ultra, variance_estimate_duration_ultra, std_duration_ultra], \n",
    "       'Тариф Смарт': [avr_duration_smart, median_duration_smart, variance_estimate_duration_smart, std_duration_ultra]\n",
    "      }\n",
    "\n",
    "duration_param = pd.DataFrame(duration_par, columns = ['Параметр', 'Тариф Ультра', 'Тариф Смарт'])\n",
    "duration_param"
   ]
  },
  {
   "cell_type": "markdown",
   "metadata": {},
   "source": [
    "#### Сколько интернет-трафика требуется пользователям в месяц"
   ]
  },
  {
   "cell_type": "code",
   "execution_count": 584,
   "metadata": {
    "scrolled": true
   },
   "outputs": [
    {
     "data": {
      "text/plain": [
       "<matplotlib.legend.Legend at 0x7f4f0f698c10>"
      ]
     },
     "execution_count": 584,
     "metadata": {},
     "output_type": "execute_result"
    },
    {
     "data": {
      "image/png": "[encoded data removed]",
      "text/plain": [
       "<Figure size 432x288 with 1 Axes>"
      ]
     },
     "metadata": {
      "needs_background": "light"
     },
     "output_type": "display_data"
    }
   ],
   "source": [
    "#Проанализирую усредненное количество использумого интернет-трафика по месяцам\n",
    "mean_mb_month_ultra = all_data.query('tariff == \"ultra\"')\n",
    "mean_mb_month_ultra = mean_mb_month_ultra.groupby('month')['mb_count'].mean()\n",
    "mean_mb_month_ultra.plot(title= 'Количество использумого интернет-трафика по месяцам', style='o-', label = 'ultra')\n",
    "mean_mb_month_smart = all_data.query('tariff == \"smart\"')\n",
    "mean_mb_month_smart = mean_mb_month_smart.groupby('month')['mb_count'].mean()\n",
    "mean_mb_month_smart.plot(title= 'Количество использумого интернет-трафика по месяцам', style='o-', label = 'smart')\n",
    "plt.legend(loc='lower right', frameon = False)"
   ]
  },
  {
   "cell_type": "code",
   "execution_count": 585,
   "metadata": {
    "scrolled": true
   },
   "outputs": [
    {
     "data": {
      "text/plain": [
       "(0, 50)"
      ]
     },
     "execution_count": 585,
     "metadata": {},
     "output_type": "execute_result"
    },
    {
     "data": {
      "image/png": "[encoded data removed]",
      "text/plain": [
       "<Figure size 432x288 with 1 Axes>"
      ]
     },
     "metadata": {
      "needs_background": "light"
     },
     "output_type": "display_data"
    }
   ],
   "source": [
    "#Построю гистограмму для интернет-услуг для обоих тарифов\n",
    "hist_mb_month_smart = all_data.query('tariff == \"smart\"')\n",
    "hist_mb_month_smart = hist_mb_month_smart.groupby('user_id')['mb_count'].mean()\n",
    "hist_mb_month_ultra = all_data.query('tariff == \"ultra\"')\n",
    "hist_mb_month_ultra = hist_mb_month_ultra.groupby('user_id')['mb_count'].mean()\n",
    "\n",
    "\n",
    "plt.hist(np.array(hist_mb_month_smart), histtype = 'bar', alpha = 0.5, bins=20)\n",
    "plt.hist(np.array(hist_mb_month_ultra), histtype = 'bar', alpha = 0.5, bins=20)\n",
    "plt.xlabel(\"Объем используемого инетрнет-трафика\", fontsize=12)  \n",
    "plt.ylabel(\"Частота\", fontsize=12)\n",
    "labels= [\"smart\",\"ultra\"]\n",
    "plt.legend(labels)\n",
    "plt.xlim(0, 40000)\n",
    "plt.ylim(0, 50)"
   ]
  },
  {
   "cell_type": "markdown",
   "metadata": {},
   "source": [
    "Количество использованного интернет-трафика в зависимости от месяца в году незначительно растет. Наибольшая интернет-активность наблюдается в конце года.\n",
    "Объем используемого интернет-трафика в зависимости от пользователя к пользователю для тарифа smart похоже на нормальное распределение, с ярко выраженным пиком."
   ]
  },
  {
   "cell_type": "code",
   "execution_count": 586,
   "metadata": {},
   "outputs": [],
   "source": [
    "#Рассчитаю среднее и медиану\n",
    "avr_mb_ultra = mean_mb_month_ultra.mean().round()\n",
    "avr_mb_smart = mean_mb_month_smart.mean().round()\n",
    "median_mb_ultra = mean_mb_month_ultra.median().round()\n",
    "median_mb_smart = mean_mb_month_smart.median().round()\n",
    "#Рассчитаю дисперсию для среднего количества Мб интернет-трафика в месяц\n",
    "variance_estimate_mb_ultra = np.var(mean_mb_month_ultra, ddof=1)\n",
    "variance_estimate_mb_smart = np.var(mean_mb_month_smart, ddof=1)\n",
    "#Рассчитаю стандартное отклонение для среднего количества Мб интернет-трафика в месяц\n",
    "std_mb_ultra = np.sqrt(variance_estimate_mb_ultra)\n",
    "std_mb_ultra = np.sqrt(variance_estimate_mb_smart)"
   ]
  },
  {
   "cell_type": "code",
   "execution_count": 587,
   "metadata": {},
   "outputs": [
    {
     "data": {
      "text/html": [
       "<div>\n",
       "<style scoped>\n",
       "    .dataframe tbody tr th:only-of-type {\n",
       "        vertical-align: middle;\n",
       "    }\n",
       "\n",
       "    .dataframe tbody tr th {\n",
       "        vertical-align: top;\n",
       "    }\n",
       "\n",
       "    .dataframe thead th {\n",
       "        text-align: right;\n",
       "    }\n",
       "</style>\n",
       "<table border=\"1\" class=\"dataframe\">\n",
       "  <thead>\n",
       "    <tr style=\"text-align: right;\">\n",
       "      <th></th>\n",
       "      <th>Параметр</th>\n",
       "      <th>Тариф Ультра</th>\n",
       "      <th>Тариф Смарт</th>\n",
       "    </tr>\n",
       "  </thead>\n",
       "  <tbody>\n",
       "    <tr>\n",
       "      <td>0</td>\n",
       "      <td>Среднее</td>\n",
       "      <td>1.826700e+04</td>\n",
       "      <td>1.508800e+04</td>\n",
       "    </tr>\n",
       "    <tr>\n",
       "      <td>1</td>\n",
       "      <td>Медиана</td>\n",
       "      <td>1.936300e+04</td>\n",
       "      <td>1.583800e+04</td>\n",
       "    </tr>\n",
       "    <tr>\n",
       "      <td>2</td>\n",
       "      <td>Дисперсия</td>\n",
       "      <td>8.760882e+06</td>\n",
       "      <td>7.167704e+06</td>\n",
       "    </tr>\n",
       "    <tr>\n",
       "      <td>3</td>\n",
       "      <td>Стд.отклонение</td>\n",
       "      <td>2.677257e+03</td>\n",
       "      <td>2.677257e+03</td>\n",
       "    </tr>\n",
       "  </tbody>\n",
       "</table>\n",
       "</div>"
      ],
      "text/plain": [
       "         Параметр  Тариф Ультра   Тариф Смарт\n",
       "0         Среднее  1.826700e+04  1.508800e+04\n",
       "1         Медиана  1.936300e+04  1.583800e+04\n",
       "2       Дисперсия  8.760882e+06  7.167704e+06\n",
       "3  Стд.отклонение  2.677257e+03  2.677257e+03"
      ]
     },
     "execution_count": 587,
     "metadata": {},
     "output_type": "execute_result"
    }
   ],
   "source": [
    "mb_par = {'Параметр': ['Среднее','Медиана','Дисперсия','Стд.отклонение'],\n",
    "       'Тариф Ультра': [avr_mb_ultra, median_mb_ultra, variance_estimate_mb_ultra, std_mb_ultra], \n",
    "       'Тариф Смарт': [avr_mb_smart, median_mb_smart, variance_estimate_mb_smart, std_mb_ultra]\n",
    "      }\n",
    "\n",
    "mb_param = pd.DataFrame(mb_par, columns = ['Параметр', 'Тариф Ультра', 'Тариф Смарт'])\n",
    "mb_param"
   ]
  },
  {
   "cell_type": "markdown",
   "metadata": {},
   "source": [
    "#### Сколько сообщений требуется пользователям в месяц"
   ]
  },
  {
   "cell_type": "code",
   "execution_count": 588,
   "metadata": {},
   "outputs": [
    {
     "data": {
      "text/plain": [
       "<matplotlib.legend.Legend at 0x7f4f0f521b10>"
      ]
     },
     "execution_count": 588,
     "metadata": {},
     "output_type": "execute_result"
    },
    {
     "data": {
      "image/png": "[encoded data removed]",
      "text/plain": [
       "<Figure size 432x288 with 1 Axes>"
      ]
     },
     "metadata": {
      "needs_background": "light"
     },
     "output_type": "display_data"
    }
   ],
   "source": [
    "#Проанализирую усредненное количество отправленных сообщений по месяцам\n",
    "mean_messages_month_ultra = all_data.query('tariff == \"ultra\"')\n",
    "mean_messages_month_ultra = mean_messages_month_ultra.groupby('month')['messages_count'].mean()\n",
    "mean_messages_month_ultra.plot(title= 'Количество отправленных сообщений по месяцам', style='o-', label = 'ultra')\n",
    "mean_messages_month_smart = all_data.query('tariff == \"smart\"')\n",
    "mean_messages_month_smart = mean_messages_month_smart.groupby('month')['messages_count'].mean()\n",
    "mean_messages_month_smart.plot(title= 'Количество отправленных сообщений по месяцам', style='o-', label = 'smart')\n",
    "plt.legend(loc='lower right', frameon = False)"
   ]
  },
  {
   "cell_type": "code",
   "execution_count": 589,
   "metadata": {},
   "outputs": [
    {
     "data": {
      "text/plain": [
       "(0, 70)"
      ]
     },
     "execution_count": 589,
     "metadata": {},
     "output_type": "execute_result"
    },
    {
     "data": {
      "image/png": "[encoded data removed]",
      "text/plain": [
       "<Figure size 432x288 with 1 Axes>"
      ]
     },
     "metadata": {
      "needs_background": "light"
     },
     "output_type": "display_data"
    }
   ],
   "source": [
    "#Построю гистограмму для сообщений для обоих тарифов\n",
    "hist_messages_month_smart = all_data.query('tariff == \"smart\"')\n",
    "hist_messages_month_smart = hist_messages_month_smart.groupby('user_id')['messages_count'].mean()\n",
    "hist_messages_month_ultra = all_data.query('tariff == \"ultra\"')\n",
    "hist_messages_month_ultra = hist_messages_month_ultra.groupby('user_id')['messages_count'].mean()\n",
    "\n",
    "\n",
    "plt.hist(np.array(hist_messages_month_smart), histtype = 'bar', alpha = 0.5, bins=20)\n",
    "plt.hist(np.array(hist_messages_month_ultra), histtype = 'bar', alpha = 0.5, bins=20)\n",
    "plt.xlabel(\"Среднее количество сообщений\", fontsize=12)  \n",
    "plt.ylabel(\"Частота\", fontsize=12)\n",
    "labels= [\"smart\",\"ultra\"]\n",
    "plt.legend(labels)\n",
    "plt.xlim(0, 200)\n",
    "plt.ylim(0, 70)"
   ]
  },
  {
   "cell_type": "markdown",
   "metadata": {},
   "source": [
    "Довольно много клиентов не пользуются смс-ками вообще. "
   ]
  },
  {
   "cell_type": "code",
   "execution_count": 590,
   "metadata": {
    "scrolled": false
   },
   "outputs": [
    {
     "data": {
      "text/plain": [
       "array([[<matplotlib.axes._subplots.AxesSubplot object at 0x7f4f0f3dfdd0>]],\n",
       "      dtype=object)"
      ]
     },
     "execution_count": 590,
     "metadata": {},
     "output_type": "execute_result"
    },
    {
     "data": {
      "image/png": "[encoded data removed]",
      "text/plain": [
       "<Figure size 432x288 with 1 Axes>"
      ]
     },
     "metadata": {
      "needs_background": "light"
     },
     "output_type": "display_data"
    }
   ],
   "source": [
    "all_data.hist('revenue')"
   ]
  },
  {
   "cell_type": "code",
   "execution_count": 591,
   "metadata": {},
   "outputs": [
    {
     "name": "stdout",
     "output_type": "stream",
     "text": [
      "Тариф Ультра приносит больший суммарный доход компании\n"
     ]
    }
   ],
   "source": [
    "#Опрделеяю какой тариф приносит большую прибыль компании\n",
    "all_ultra_revenue = all_data.query('tariff == \"ultra\"').sum()\n",
    "all_smart_revenue = all_data.query('tariff == \"smart\"').sum()\n",
    "\n",
    "if all_ultra_revenue['revenue'] > all_smart_revenue['revenue']:\n",
    "    print(\"Тариф Ультра приносит больший суммарный доход компании\")\n",
    "else: \n",
    "    print(\"Тариф Смарт приносит больший суммарный доход компании\")"
   ]
  },
  {
   "cell_type": "markdown",
   "metadata": {},
   "source": [
    "В целом клиенты тарифных планов платят фиксированную абонентскую плату, укладываясь в лимит ограничений. Наибольшее количество клиентов платят по тарифу Смарт фиксированную сумму 550 рублей. Небольшое количество клиентов переплачивают сверх нормы тарифа.\n",
    "Однако при всем при этом, больший суммарный доход компании приносит тариф Ультра."
   ]
  },
  {
   "cell_type": "code",
   "execution_count": 592,
   "metadata": {},
   "outputs": [
    {
     "data": {
      "text/plain": [
       "count     951.0\n",
       "mean     1950.0\n",
       "std         0.0\n",
       "min      1950.0\n",
       "25%      1950.0\n",
       "50%      1950.0\n",
       "75%      1950.0\n",
       "max      1950.0\n",
       "Name: revenue, dtype: float64"
      ]
     },
     "execution_count": 592,
     "metadata": {},
     "output_type": "execute_result"
    }
   ],
   "source": [
    "all_data.query('tariff == \"ultra\"').revenue.describe()"
   ]
  },
  {
   "cell_type": "code",
   "execution_count": 593,
   "metadata": {},
   "outputs": [],
   "source": [
    "#Рассчитаю среднее и медиану\n",
    "avr_messages_ultra = mean_messages_month_ultra.mean().round()\n",
    "avr_messages_smart = mean_messages_month_smart.mean().round()\n",
    "median_messages_ultra = mean_messages_month_ultra.median().round()\n",
    "median_messages_smart = mean_messages_month_smart.median().round()\n",
    "#Рассчитаю дисперсию для среднего количества сообщений в месяц\n",
    "variance_estimate_messages_ultra = np.var(mean_messages_month_ultra, ddof=1)\n",
    "variance_estimate_messages_smart = np.var(mean_messages_month_smart, ddof=1)\n",
    "#Рассчитаю стандартное отклонение для среднего количества сообщений в месяц\n",
    "std_messages_ultra = np.sqrt(variance_estimate_messages_ultra)\n",
    "std_messages_smart = np.sqrt(variance_estimate_messages_smart)"
   ]
  },
  {
   "cell_type": "code",
   "execution_count": 594,
   "metadata": {},
   "outputs": [
    {
     "data": {
      "text/html": [
       "<div>\n",
       "<style scoped>\n",
       "    .dataframe tbody tr th:only-of-type {\n",
       "        vertical-align: middle;\n",
       "    }\n",
       "\n",
       "    .dataframe tbody tr th {\n",
       "        vertical-align: top;\n",
       "    }\n",
       "\n",
       "    .dataframe thead th {\n",
       "        text-align: right;\n",
       "    }\n",
       "</style>\n",
       "<table border=\"1\" class=\"dataframe\">\n",
       "  <thead>\n",
       "    <tr style=\"text-align: right;\">\n",
       "      <th></th>\n",
       "      <th>Параметр</th>\n",
       "      <th>Тариф Ультра</th>\n",
       "      <th>Тариф Смарт</th>\n",
       "    </tr>\n",
       "  </thead>\n",
       "  <tbody>\n",
       "    <tr>\n",
       "      <td>0</td>\n",
       "      <td>Среднее</td>\n",
       "      <td>43.000000</td>\n",
       "      <td>31.000000</td>\n",
       "    </tr>\n",
       "    <tr>\n",
       "      <td>1</td>\n",
       "      <td>Медиана</td>\n",
       "      <td>44.000000</td>\n",
       "      <td>34.000000</td>\n",
       "    </tr>\n",
       "    <tr>\n",
       "      <td>2</td>\n",
       "      <td>Дисперсия</td>\n",
       "      <td>148.885531</td>\n",
       "      <td>26.087992</td>\n",
       "    </tr>\n",
       "    <tr>\n",
       "      <td>3</td>\n",
       "      <td>Стд.отклонение</td>\n",
       "      <td>12.201866</td>\n",
       "      <td>5.107641</td>\n",
       "    </tr>\n",
       "  </tbody>\n",
       "</table>\n",
       "</div>"
      ],
      "text/plain": [
       "         Параметр  Тариф Ультра  Тариф Смарт\n",
       "0         Среднее     43.000000    31.000000\n",
       "1         Медиана     44.000000    34.000000\n",
       "2       Дисперсия    148.885531    26.087992\n",
       "3  Стд.отклонение     12.201866     5.107641"
      ]
     },
     "execution_count": 594,
     "metadata": {},
     "output_type": "execute_result"
    }
   ],
   "source": [
    "\n",
    "messages_par = {'Параметр': ['Среднее','Медиана','Дисперсия','Стд.отклонение'],\n",
    "       'Тариф Ультра': [avr_messages_ultra, median_messages_ultra, variance_estimate_messages_ultra, std_messages_ultra], \n",
    "       'Тариф Смарт': [avr_messages_smart, median_messages_smart, variance_estimate_messages_smart, std_messages_smart]\n",
    "      }\n",
    "\n",
    "messages_param = pd.DataFrame(messages_par, columns = ['Параметр', 'Тариф Ультра', 'Тариф Смарт'])\n",
    "messages_param"
   ]
  },
  {
   "cell_type": "markdown",
   "metadata": {},
   "source": [
    "### Шаг 4. Проверка гипотез"
   ]
  },
  {
   "cell_type": "markdown",
   "metadata": {},
   "source": [
    "- средняя выручка пользователей тарифов «Ультра» и «Смарт» различается;\n",
    "- средняя выручка пользователей из Москвы отличается от выручки пользователей из других регионов;"
   ]
  },
  {
   "cell_type": "markdown",
   "metadata": {},
   "source": [
    "#### Проверяю гипотезу: средняя выручка пользователей тарифов «Ультра» и «Смарт» различается"
   ]
  },
  {
   "cell_type": "code",
   "execution_count": 595,
   "metadata": {},
   "outputs": [
    {
     "name": "stdout",
     "output_type": "stream",
     "text": [
      "p-значение: 7.563428396005183e-245\n",
      "Отвергаем нулевую гипотезу\n"
     ]
    }
   ],
   "source": [
    "mean_revenue_ultra = all_data.query('tariff == \"ultra\"')\n",
    "mean_revenue_ultra = mean_revenue_ultra.groupby('user_id')['revenue'].mean()\n",
    "\n",
    "mean_revenue_smart = all_data.query('tariff == \"smart\"')\n",
    "mean_revenue_smart = mean_revenue_smart.groupby('user_id')['revenue'].mean()\n",
    "\n",
    "alpha = .05 \n",
    "results = st.ttest_ind(\n",
    "    mean_revenue_ultra, \n",
    "    mean_revenue_smart)  \n",
    "\n",
    "print('p-значение:', results.pvalue) \n",
    "\n",
    "if (results.pvalue < alpha): \n",
    "    print(\"Отвергаем нулевую гипотезу\")\n",
    "else:\n",
    "    print(\"Не получилось отвергнуть нулевую гипотезу\")"
   ]
  },
  {
   "cell_type": "markdown",
   "metadata": {},
   "source": [
    "Полученное значение p-value говорит о том, что средняя выручка пользователей тарифов «Ультра» и «Смарт» различается."
   ]
  },
  {
   "cell_type": "markdown",
   "metadata": {},
   "source": [
    "#### Проверяю гипотезу:  cредняя выручка пользователей из Москвы отличается от выручки пользователей из других регионов"
   ]
  },
  {
   "cell_type": "code",
   "execution_count": 596,
   "metadata": {},
   "outputs": [
    {
     "data": {
      "text/plain": [
       "array(['Краснодар', 'Москва', 'Новокузнецк', 'Иваново', 'Омск', 'Уфа',\n",
       "       'Томск', 'Санкт-Петербург', 'Тверь', 'Ярославль', 'Тюмень',\n",
       "       'Ростов-на-Дону', 'Калуга', 'Тула', 'Волгоград', 'Саранск',\n",
       "       'Иркутск', 'Череповец', 'Новосибирск', 'Брянск', 'Тольятти',\n",
       "       'Нижний Тагил', 'Воронеж', 'Махачкала', 'Пермь', 'Сургут', 'Пенза',\n",
       "       'Мурманск', 'Набережные Челны', 'Самара', 'Нижний Новгород',\n",
       "       'Кемерово', 'Кострома', 'Оренбург', 'Магнитогорск', 'Астрахань',\n",
       "       'Нижневартовск', 'Челябинск', 'Курган', 'Красноярск',\n",
       "       'Владивосток', 'Смоленск', 'Владимир', 'Казань', 'Саратов',\n",
       "       'Севастополь', 'Рязань', 'Екатеринбург', 'Стерлитамак',\n",
       "       'Ульяновск', 'Балашиха', 'Барнаул', 'Киров', 'Сочи', 'Вологда',\n",
       "       'Чебоксары', 'Чита', 'Петрозаводск', 'Хабаровск', 'Ставрополь',\n",
       "       'Улан-Удэ', 'Курск', 'Якутск', 'Химки', 'Владикавказ', 'Ижевск',\n",
       "       'Орёл', 'Белгород', 'Архангельск', 'Липецк', 'Волжский', 'Тамбов',\n",
       "       'Калининград', 'Новороссийск', 'Грозный', 'Подольск'], dtype=object)"
      ]
     },
     "execution_count": 596,
     "metadata": {},
     "output_type": "execute_result"
    }
   ],
   "source": [
    "all_data['city'].unique()"
   ]
  },
  {
   "cell_type": "code",
   "execution_count": 597,
   "metadata": {
    "scrolled": true
   },
   "outputs": [
    {
     "name": "stdout",
     "output_type": "stream",
     "text": [
      "p-значение: 0.593917941708844\n",
      "Не получилось отвергнуть нулевую гипотезу\n"
     ]
    }
   ],
   "source": [
    "mean_revenue_moscow = all_data.query('city == \"Москва\"')\n",
    "mean_revenue_moscow = mean_revenue_moscow.groupby('user_id')['revenue'].mean()\n",
    "\n",
    "mean_revenue_other = all_data.query('tariff != \"Москва\"')\n",
    "mean_revenue_other = mean_revenue_other.groupby('user_id')['revenue'].mean()\n",
    "\n",
    "alpha = .05 \n",
    "results = st.ttest_ind(\n",
    "    mean_revenue_moscow, \n",
    "    mean_revenue_other)  \n",
    "\n",
    "print('p-значение:', results.pvalue) \n",
    "\n",
    "if (results.pvalue < alpha): \n",
    "    print(\"Отвергаем нулевую гипотезу\")\n",
    "else:\n",
    "    print(\"Не получилось отвергнуть нулевую гипотезу\")"
   ]
  },
  {
   "cell_type": "markdown",
   "metadata": {},
   "source": [
    "Полученное значение p-value говорит о том, что хотя cредняя выручка пользователей из Москвы отличается от выручки пользователей из других регионов, с вероятностью в 59% такое или большее различие можно получить случайно. Это явно слишком большая вероятность, чтобы делать вывод о значимом различии между средней выручкой из разных городов."
   ]
  },
  {
   "cell_type": "markdown",
   "metadata": {},
   "source": [
    "### Шаг 5. Общий вывод"
   ]
  },
  {
   "cell_type": "markdown",
   "metadata": {},
   "source": [
    "Клиентам предлагались два тарифных плана: «Смарт» и «Ультра».\n",
    "В этом проекте коммерческий департамент хотел понять, какой тариф приносит больше денег, чтобы скорректировать рекламный бюджет.\n",
    "Входные данные - небольшая выборка клиентов «Мегалайна»: кто они, откуда, каким тарифом пользуются, сколько звонков и сообщений каждый отправил за 2018 год. Нужно было проанализировать поведение клиентов и сделать вывод — какой тариф лучше.\n",
    "\n",
    "Входные данные содержались в пяти таблицах. \n",
    "Была проведена предобработка данных: обработка пропусков, удаление некорректных значений. Посчитала и добавила в таблицу дополнительные параметры. Сделала сводную таблицу со всеми необходимыми данными. \n",
    "\n",
    "Длительность разговоров в зависимости от месяца в году меняется не сильно. Наибольшая длительность разговоров наблюдается в конце года.\n",
    "В среднем клиенты отправляют 30-40 сообщений в месяц, правда, разброс по значениям здесь довольно большой: кто-то не пользуется этой услугой вовсе. Тариф Ультра приносит больший суммарный доход компании.\n",
    "\n",
    "Провела статистический анализ и проверку двух гипотез:\n",
    "1. Средняя выручка пользователей тарифов «Ультра» и «Смарт» различается. Гипотеза подтвердилась, полученное значение p-value позволило сделать вывод о том, что средняя выручка пользователей тарифов «Ультра» и «Смарт» различается.\n",
    "2. Средняя выручка пользователей из Москвы отличается от выручки пользователей из других регионов. Гипотеза не подтвердилась, полученное значение p-value позволило сделать вывод о том, что хотя cредняя выручка пользователей из Москвы отличается от выручки пользователей из других регионов, с вероятностью в 34% такое или большее различие можно получить случайно. Это явно слишком большая вероятность, чтобы делать вывод о значимом различии между средней выручкой из разных городов.\n",
    "\n"
   ]
  }
 ],
 "metadata": {
  "kernelspec": {
   "display_name": "Python 3 (ipykernel)",
   "language": "python",
   "name": "python3"
  },
  "language_info": {
   "codemirror_mode": {
    "name": "ipython",
    "version": 3
   },
   "file_extension": ".py",
   "mimetype": "text/x-python",
   "name": "python",
   "nbconvert_exporter": "python",
   "pygments_lexer": "ipython3",
   "version": "3.10.9"
  },
  "toc": {
   "base_numbering": 1,
   "nav_menu": {},
   "number_sections": true,
   "sideBar": true,
   "skip_h1_title": false,
   "title_cell": "Table of Contents",
   "title_sidebar": "Contents",
   "toc_cell": false,
   "toc_position": {},
   "toc_section_display": true,
   "toc_window_display": false
  }
 },
 "nbformat": 4,
 "nbformat_minor": 2
}
